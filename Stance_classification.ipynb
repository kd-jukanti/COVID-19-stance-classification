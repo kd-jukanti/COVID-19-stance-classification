{
 "cells": [
  {
   "cell_type": "markdown",
   "metadata": {},
   "source": [
    "## Assignment 3: Stance classification\n",
    "\n",
    "##### Group Name: SKN\n",
    "\n",
    "1. Kuvalaya Datta Jukanti\n",
    "2. Shreyash Sankay Kad"
   ]
  },
  {
   "cell_type": "code",
   "execution_count": 13,
   "metadata": {
    "id": "bH92MkFc7x2j"
   },
   "outputs": [],
   "source": [
    "import pandas as pd\n",
    "import io\n",
    "import numpy as np\n",
    "import re\n",
    "import string\n",
    "from google.colab import files\n",
    "from sklearn.model_selection import train_test_split, cross_validate"
   ]
  },
  {
   "cell_type": "code",
   "execution_count": 46,
   "metadata": {
    "colab": {
     "base_uri": "https://localhost:8080/"
    },
    "id": "hzyvx40o4TXr",
    "outputId": "8b97b33f-ba01-4586-c9c5-8b091dffd8b6"
   },
   "outputs": [
    {
     "name": "stdout",
     "output_type": "stream",
     "text": [
      "[nltk_data] Downloading package stopwords to /root/nltk_data...\n",
      "[nltk_data]   Unzipping corpora/stopwords.zip.\n"
     ]
    },
    {
     "data": {
      "text/plain": [
       "True"
      ]
     },
     "execution_count": 46,
     "metadata": {
      "tags": []
     },
     "output_type": "execute_result"
    }
   ],
   "source": [
    "import nltk\n",
    "nltk.download('stopwords')"
   ]
  },
  {
   "cell_type": "code",
   "execution_count": 54,
   "metadata": {
    "colab": {
     "base_uri": "https://localhost:8080/"
    },
    "id": "A3ePM3a85Yj4",
    "outputId": "a3d42236-760d-411e-b528-9e3da89c39d1"
   },
   "outputs": [
    {
     "name": "stdout",
     "output_type": "stream",
     "text": [
      "Collecting emoji\n",
      "\u001b[?25l  Downloading https://files.pythonhosted.org/packages/24/fa/b3368f41b95a286f8d300e323449ab4e86b85334c2e0b477e94422b8ed0f/emoji-1.2.0-py3-none-any.whl (131kB)\n",
      "\r",
      "\u001b[K     |██▌                             | 10kB 17.0MB/s eta 0:00:01\r",
      "\u001b[K     |█████                           | 20kB 21.7MB/s eta 0:00:01\r",
      "\u001b[K     |███████▌                        | 30kB 17.7MB/s eta 0:00:01\r",
      "\u001b[K     |██████████                      | 40kB 12.2MB/s eta 0:00:01\r",
      "\u001b[K     |████████████▌                   | 51kB 13.5MB/s eta 0:00:01\r",
      "\u001b[K     |███████████████                 | 61kB 15.2MB/s eta 0:00:01\r",
      "\u001b[K     |█████████████████▌              | 71kB 13.5MB/s eta 0:00:01\r",
      "\u001b[K     |████████████████████            | 81kB 14.0MB/s eta 0:00:01\r",
      "\u001b[K     |██████████████████████▌         | 92kB 11.9MB/s eta 0:00:01\r",
      "\u001b[K     |█████████████████████████       | 102kB 12.6MB/s eta 0:00:01\r",
      "\u001b[K     |███████████████████████████▌    | 112kB 12.6MB/s eta 0:00:01\r",
      "\u001b[K     |██████████████████████████████  | 122kB 12.6MB/s eta 0:00:01\r",
      "\u001b[K     |████████████████████████████████| 133kB 12.6MB/s \n",
      "\u001b[?25hInstalling collected packages: emoji\n",
      "Successfully installed emoji-1.2.0\n"
     ]
    }
   ],
   "source": [
    "!pip install emoji\n",
    "import emoji"
   ]
  },
  {
   "cell_type": "code",
   "execution_count": 14,
   "metadata": {
    "colab": {
     "base_uri": "https://localhost:8080/",
     "height": 72,
     "resources": {
      "http://localhost:8080/nbextensions/google.colab/files.js": {
       "data": "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",
       "headers": [
        [
         "content-type",
         "application/javascript"
        ]
       ],
       "ok": true,
       "status": 200,
       "status_text": ""
      }
     }
    },
    "id": "GzDgTNTC78_b",
    "outputId": "5d6b43c3-6c45-4c81-e815-ca4d4d658a57"
   },
   "outputs": [
    {
     "data": {
      "text/html": [
       "\n",
       "     <input type=\"file\" id=\"files-753ec3c2-69cb-4f95-8379-9e97f0860cb3\" name=\"files[]\" multiple disabled\n",
       "        style=\"border:none\" />\n",
       "     <output id=\"result-753ec3c2-69cb-4f95-8379-9e97f0860cb3\">\n",
       "      Upload widget is only available when the cell has been executed in the\n",
       "      current browser session. Please rerun this cell to enable.\n",
       "      </output>\n",
       "      <script src=\"/nbextensions/google.colab/files.js\"></script> "
      ],
      "text/plain": [
       "<IPython.core.display.HTML object>"
      ]
     },
     "metadata": {
      "tags": []
     },
     "output_type": "display_data"
    },
    {
     "name": "stdout",
     "output_type": "stream",
     "text": [
      "Saving a3_train_final.tsv to a3_train_final (1).tsv\n"
     ]
    }
   ],
   "source": [
    "train_file_uploaded = files.upload()"
   ]
  },
  {
   "cell_type": "code",
   "execution_count": 32,
   "metadata": {
    "id": "xf9vfapz7x2q"
   },
   "outputs": [],
   "source": [
    "data = pd.read_table(io.BytesIO(train_file_uploaded['a3_train_final.tsv']), header=None)"
   ]
  },
  {
   "cell_type": "code",
   "execution_count": 33,
   "metadata": {
    "id": "e1RUhjbw7x2t"
   },
   "outputs": [],
   "source": [
    "data.rename(columns = {0:'label', 1: 'comment'}, inplace = True) "
   ]
  },
  {
   "cell_type": "code",
   "execution_count": 34,
   "metadata": {
    "colab": {
     "base_uri": "https://localhost:8080/",
     "height": 204
    },
    "id": "SLP6EGK97x2r",
    "outputId": "b3fefda2-ef90-4621-ab99-bd4e3cd05a07"
   },
   "outputs": [
    {
     "data": {
      "text/html": [
       "<div>\n",
       "<style scoped>\n",
       "    .dataframe tbody tr th:only-of-type {\n",
       "        vertical-align: middle;\n",
       "    }\n",
       "\n",
       "    .dataframe tbody tr th {\n",
       "        vertical-align: top;\n",
       "    }\n",
       "\n",
       "    .dataframe thead th {\n",
       "        text-align: right;\n",
       "    }\n",
       "</style>\n",
       "<table border=\"1\" class=\"dataframe\">\n",
       "  <thead>\n",
       "    <tr style=\"text-align: right;\">\n",
       "      <th></th>\n",
       "      <th>label</th>\n",
       "      <th>comment</th>\n",
       "    </tr>\n",
       "  </thead>\n",
       "  <tbody>\n",
       "    <tr>\n",
       "      <th>0</th>\n",
       "      <td>0/-1</td>\n",
       "      <td>It is easier to fool a million people than it...</td>\n",
       "    </tr>\n",
       "    <tr>\n",
       "      <th>1</th>\n",
       "      <td>0/0</td>\n",
       "      <td>NATURAL IMMUNITY  protected us since evolutio...</td>\n",
       "    </tr>\n",
       "    <tr>\n",
       "      <th>2</th>\n",
       "      <td>0/-1</td>\n",
       "      <td>NATURAL IMMUNITY  protected us since evolutio...</td>\n",
       "    </tr>\n",
       "    <tr>\n",
       "      <th>3</th>\n",
       "      <td>1/-1</td>\n",
       "      <td>The bigest sideffect of vaccines is fewer dea...</td>\n",
       "    </tr>\n",
       "    <tr>\n",
       "      <th>4</th>\n",
       "      <td>0/-1</td>\n",
       "      <td>90% of people that get vaccinated don't get th...</td>\n",
       "    </tr>\n",
       "  </tbody>\n",
       "</table>\n",
       "</div>"
      ],
      "text/plain": [
       "  label                                            comment\n",
       "0  0/-1   It is easier to fool a million people than it...\n",
       "1   0/0   NATURAL IMMUNITY  protected us since evolutio...\n",
       "2  0/-1   NATURAL IMMUNITY  protected us since evolutio...\n",
       "3  1/-1   The bigest sideffect of vaccines is fewer dea...\n",
       "4  0/-1  90% of people that get vaccinated don't get th..."
      ]
     },
     "execution_count": 34,
     "metadata": {
      "tags": []
     },
     "output_type": "execute_result"
    }
   ],
   "source": [
    "data.head()"
   ]
  },
  {
   "cell_type": "code",
   "execution_count": 35,
   "metadata": {
    "colab": {
     "base_uri": "https://localhost:8080/"
    },
    "id": "st8hfMrh7x2t",
    "outputId": "b2404121-b6c7-4182-ffb1-2c48187d4d76"
   },
   "outputs": [
    {
     "data": {
      "text/plain": [
       "8788"
      ]
     },
     "execution_count": 35,
     "metadata": {
      "tags": []
     },
     "output_type": "execute_result"
    }
   ],
   "source": [
    "len(data)"
   ]
  },
  {
   "cell_type": "code",
   "execution_count": 37,
   "metadata": {
    "id": "dGciGvUj7x2t"
   },
   "outputs": [],
   "source": [
    "label_col = data['label']\n"
   ]
  },
  {
   "cell_type": "code",
   "execution_count": 38,
   "metadata": {
    "id": "Yj6s7XLp7x2u"
   },
   "outputs": [],
   "source": [
    "# Function to determine which value to be chosen from the label column.\n",
    "for i in range(len(label_col)):\n",
    "    rating = label_col[i]\n",
    "    # print(rating)\n",
    "    rating = rating.split(\"/\")\n",
    "\n",
    "    cnt_pro = 0\n",
    "    cnt_anti = 0\n",
    "    cnt_unknown = 0\n",
    "    \n",
    "    for k in rating:\n",
    "        \n",
    "        \n",
    "        if k == '0':\n",
    "            cnt_anti += 1\n",
    "        elif k == '1':\n",
    "            cnt_pro += 1\n",
    "        else:\n",
    "            cnt_unknown += 1\n",
    "    \n",
    "    \n",
    "    if cnt_pro > cnt_anti and cnt_pro > cnt_unknown:\n",
    "        label_col[i] = 1\n",
    "\n",
    "    elif cnt_anti > cnt_pro and cnt_anti > cnt_unknown:\n",
    "        label_col[i] = 0\n",
    "\n",
    "    elif cnt_unknown > cnt_pro and cnt_unknown > cnt_anti:\n",
    "        label_col[i] = -1\n",
    "\n",
    "    else:\n",
    "        label_col[i] = int(rating[-1])\n",
    "\n"
   ]
  },
  {
   "cell_type": "markdown",
   "metadata": {
    "id": "8RaFGMzN3ST7"
   },
   "source": [
    "The function picks a value which is repeated most number of times in the label list separated by slash. If the values are tied, it picks the newest annotation made i.e. the last value in the list.\n",
    "\n",
    "For example, for a label 0/0/1,  the function picks '0' as it is repeated more number of times. For a case where the label is 0/1, the values are tied. It picks the latest annotations i.e. 1."
   ]
  },
  {
   "cell_type": "code",
   "execution_count": 39,
   "metadata": {
    "colab": {
     "base_uri": "https://localhost:8080/"
    },
    "id": "H0uZuXJu7x2u",
    "outputId": "a8beaef4-ec31-4795-912b-4cf130f7ea4e"
   },
   "outputs": [
    {
     "data": {
      "text/plain": [
       " 1    4109\n",
       " 0    3909\n",
       "-1     770\n",
       "Name: label, dtype: int64"
      ]
     },
     "execution_count": 39,
     "metadata": {
      "tags": []
     },
     "output_type": "execute_result"
    }
   ],
   "source": [
    "label_col.value_counts()"
   ]
  },
  {
   "cell_type": "markdown",
   "metadata": {
    "id": "Uc5tWGFgkUPA"
   },
   "source": [
    "We observe that number of instances for pro-vaccine(0) and anti-vaccine(0) are almost same. So we can say that the dataset is balanced."
   ]
  },
  {
   "cell_type": "code",
   "execution_count": 40,
   "metadata": {
    "id": "vlHsGh507x2v"
   },
   "outputs": [],
   "source": [
    "data['label'] = label_col"
   ]
  },
  {
   "cell_type": "markdown",
   "metadata": {
    "id": "tUGJjUCCrqg2"
   },
   "source": [
    "Dropping the rows with label -1 as it is just approx 9% of entire dataset"
   ]
  },
  {
   "cell_type": "code",
   "execution_count": 41,
   "metadata": {
    "id": "LgW6MS-q7x2v"
   },
   "outputs": [],
   "source": [
    "# Dropping -1 \n",
    "data = data.drop(data.index[data['label'] == -1], inplace=False)"
   ]
  },
  {
   "cell_type": "code",
   "execution_count": 42,
   "metadata": {
    "colab": {
     "base_uri": "https://localhost:8080/"
    },
    "id": "-HKWfztM9Lq7",
    "outputId": "f89bf7e1-9494-45d3-f184-59ca39ff0137"
   },
   "outputs": [
    {
     "data": {
      "text/plain": [
       "array([0, 1], dtype=object)"
      ]
     },
     "execution_count": 42,
     "metadata": {
      "tags": []
     },
     "output_type": "execute_result"
    }
   ],
   "source": [
    "data['label'].unique()"
   ]
  },
  {
   "cell_type": "markdown",
   "metadata": {
    "id": "TRdXtT6nfLO_"
   },
   "source": [
    "## Preprocessing"
   ]
  },
  {
   "cell_type": "markdown",
   "metadata": {
    "id": "LKxAWjfbZntY"
   },
   "source": [
    "### Contractions"
   ]
  },
  {
   "cell_type": "markdown",
   "metadata": {
    "id": "klsY-csck0T6"
   },
   "source": [
    "This section will expand the contraction words like \"aren't\" which will be replaced by cannot. This is done because when apostrophes are removed in punctuation removal, the word will \"aren't\" will become \"arent\" and we need to keep the meaning of the original word. So we created a dictionary and used the dictionary to expand the contractions. This dictionary is also available on internet openly for users to use it."
   ]
  },
  {
   "cell_type": "code",
   "execution_count": 43,
   "metadata": {
    "id": "NhOjJSsoVI3Q"
   },
   "outputs": [],
   "source": [
    "contractions = {\n",
    "\"aren't\" : \"are not\",\n",
    "\"can't\" : \"cannot\",\n",
    "\"couldn't\" : \"could not\",\n",
    "\"didn't\" : \"did not\",\n",
    "\"doesn't\" : \"does not\",\n",
    "\"don't\" : \"do not\",\n",
    "\"hadn't\" : \"had not\",\n",
    "\"hasn't\" : \"has not\",\n",
    "\"haven't\" : \"have not\",\n",
    "\"he'd\" : \"he would\",\n",
    "\"he's\" : \"he is\",\n",
    "\"i'd\" : \"I would\",\n",
    "\"i'd\" : \"I had\",\n",
    "\"i'll\" : \"I will\",\n",
    "\"i'm\" : \"I am\",\n",
    "\"isn't\" : \"is not\",\n",
    "\"it's\" : \"it is\",\n",
    "\"it'll\":\"it will\",\n",
    "\"i've\" : \"I have\",\n",
    "\"let's\" : \"let us\",\n",
    "\"mightn't\" : \"might not\",\n",
    "\"mustn't\" : \"must not\",\n",
    "\"shan't\" : \"shall not\",\n",
    "\"she'd\" : \"she would\",\n",
    "\"she'll\" : \"she will\",\n",
    "\"she's\" : \"she is\",\n",
    "\"shouldn't\" : \"should not\",\n",
    "\"that's\" : \"that is\",\n",
    "\"there's\" : \"there is\",\n",
    "\"they'd\" : \"they would\",\n",
    "\"they'll\" : \"they will\",\n",
    "\"they're\" : \"they are\",\n",
    "\"they've\" : \"they have\",\n",
    "\"we'd\" : \"we would\",\n",
    "\"we're\" : \"we are\",\n",
    "\"weren't\" : \"were not\",\n",
    "\"we've\" : \"we have\",\n",
    "\"what'll\" : \"what will\",\n",
    "\"what're\" : \"what are\",\n",
    "\"where's\" : \"where is\",\n",
    "\"who'd\" : \"who would\",\n",
    "\"who'll\" : \"who will\",\n",
    "\"who're\" : \"who are\",\n",
    "\"who's\" : \"who is\",\n",
    "\"who've\" : \"who have\",\n",
    "\"won't\" : \"will not\",\n",
    "\"wouldn't\" : \"would not\",\n",
    "\"you'd\" : \"you would\",\n",
    "\"you'll\" : \"you will\",\n",
    "\"you're\" : \"you are\",\n",
    "\"you've\" : \"you have\",\n",
    "\"'re\": \" are\",\n",
    "\"wasn't\": \"was not\",\n",
    "\"we'll\":\" will\",\n",
    "\"didn't\": \"did not\"\n",
    "}"
   ]
  },
  {
   "cell_type": "code",
   "execution_count": 44,
   "metadata": {
    "id": "YKgR_HGPTlpi"
   },
   "outputs": [],
   "source": [
    "def expand_contractions(text, cs_dict):\n",
    "    contractions_pattern = re.compile('({})'.format('|'.join(cs_dict.keys())), flags=re.IGNORECASE | re.DOTALL)\n",
    " \n",
    "    def expand_match(contraction):\n",
    "        match = contraction.group(0)\n",
    "        expanded_contraction = cs_dict.get(match) if cs_dict.get(match) else cs_dict.get(match.lower())\n",
    "        return expanded_contraction\n",
    "\n",
    "    expanded_text = contractions_pattern.sub(expand_match, text)\n",
    "\n",
    "    return expanded_text"
   ]
  },
  {
   "cell_type": "code",
   "execution_count": null,
   "metadata": {
    "id": "Je-YILXsQHKc"
   },
   "outputs": [],
   "source": []
  },
  {
   "cell_type": "markdown",
   "metadata": {
    "id": "e5ENpVk2gs1I"
   },
   "source": [
    "### For stopwords"
   ]
  },
  {
   "cell_type": "code",
   "execution_count": 47,
   "metadata": {
    "id": "m9Xgj3vnXww1"
   },
   "outputs": [],
   "source": [
    "from nltk.corpus import stopwords\n",
    "nltk_stopwords = set(stopwords.words('english'))"
   ]
  },
  {
   "cell_type": "code",
   "execution_count": 48,
   "metadata": {
    "colab": {
     "base_uri": "https://localhost:8080/"
    },
    "id": "yBLO5D6IaU2e",
    "outputId": "1d66b4bb-72cc-4551-aa31-ad306533990a"
   },
   "outputs": [
    {
     "data": {
      "text/plain": [
       "{'a',\n",
       " 'about',\n",
       " 'above',\n",
       " 'after',\n",
       " 'again',\n",
       " 'against',\n",
       " 'ain',\n",
       " 'all',\n",
       " 'am',\n",
       " 'an',\n",
       " 'and',\n",
       " 'any',\n",
       " 'are',\n",
       " 'aren',\n",
       " \"aren't\",\n",
       " 'as',\n",
       " 'at',\n",
       " 'be',\n",
       " 'because',\n",
       " 'been',\n",
       " 'before',\n",
       " 'being',\n",
       " 'below',\n",
       " 'between',\n",
       " 'both',\n",
       " 'but',\n",
       " 'by',\n",
       " 'can',\n",
       " 'couldn',\n",
       " \"couldn't\",\n",
       " 'd',\n",
       " 'did',\n",
       " 'didn',\n",
       " \"didn't\",\n",
       " 'do',\n",
       " 'does',\n",
       " 'doesn',\n",
       " \"doesn't\",\n",
       " 'doing',\n",
       " 'don',\n",
       " \"don't\",\n",
       " 'down',\n",
       " 'during',\n",
       " 'each',\n",
       " 'few',\n",
       " 'for',\n",
       " 'from',\n",
       " 'further',\n",
       " 'had',\n",
       " 'hadn',\n",
       " \"hadn't\",\n",
       " 'has',\n",
       " 'hasn',\n",
       " \"hasn't\",\n",
       " 'have',\n",
       " 'haven',\n",
       " \"haven't\",\n",
       " 'having',\n",
       " 'he',\n",
       " 'her',\n",
       " 'here',\n",
       " 'hers',\n",
       " 'herself',\n",
       " 'him',\n",
       " 'himself',\n",
       " 'his',\n",
       " 'how',\n",
       " 'i',\n",
       " 'if',\n",
       " 'in',\n",
       " 'into',\n",
       " 'is',\n",
       " 'isn',\n",
       " \"isn't\",\n",
       " 'it',\n",
       " \"it's\",\n",
       " 'its',\n",
       " 'itself',\n",
       " 'just',\n",
       " 'll',\n",
       " 'm',\n",
       " 'ma',\n",
       " 'me',\n",
       " 'mightn',\n",
       " \"mightn't\",\n",
       " 'more',\n",
       " 'most',\n",
       " 'mustn',\n",
       " \"mustn't\",\n",
       " 'my',\n",
       " 'myself',\n",
       " 'needn',\n",
       " \"needn't\",\n",
       " 'no',\n",
       " 'nor',\n",
       " 'not',\n",
       " 'now',\n",
       " 'o',\n",
       " 'of',\n",
       " 'off',\n",
       " 'on',\n",
       " 'once',\n",
       " 'only',\n",
       " 'or',\n",
       " 'other',\n",
       " 'our',\n",
       " 'ours',\n",
       " 'ourselves',\n",
       " 'out',\n",
       " 'over',\n",
       " 'own',\n",
       " 're',\n",
       " 's',\n",
       " 'same',\n",
       " 'shan',\n",
       " \"shan't\",\n",
       " 'she',\n",
       " \"she's\",\n",
       " 'should',\n",
       " \"should've\",\n",
       " 'shouldn',\n",
       " \"shouldn't\",\n",
       " 'so',\n",
       " 'some',\n",
       " 'such',\n",
       " 't',\n",
       " 'than',\n",
       " 'that',\n",
       " \"that'll\",\n",
       " 'the',\n",
       " 'their',\n",
       " 'theirs',\n",
       " 'them',\n",
       " 'themselves',\n",
       " 'then',\n",
       " 'there',\n",
       " 'these',\n",
       " 'they',\n",
       " 'this',\n",
       " 'those',\n",
       " 'through',\n",
       " 'to',\n",
       " 'too',\n",
       " 'under',\n",
       " 'until',\n",
       " 'up',\n",
       " 've',\n",
       " 'very',\n",
       " 'was',\n",
       " 'wasn',\n",
       " \"wasn't\",\n",
       " 'we',\n",
       " 'were',\n",
       " 'weren',\n",
       " \"weren't\",\n",
       " 'what',\n",
       " 'when',\n",
       " 'where',\n",
       " 'which',\n",
       " 'while',\n",
       " 'who',\n",
       " 'whom',\n",
       " 'why',\n",
       " 'will',\n",
       " 'with',\n",
       " 'won',\n",
       " \"won't\",\n",
       " 'wouldn',\n",
       " \"wouldn't\",\n",
       " 'y',\n",
       " 'you',\n",
       " \"you'd\",\n",
       " \"you'll\",\n",
       " \"you're\",\n",
       " \"you've\",\n",
       " 'your',\n",
       " 'yours',\n",
       " 'yourself',\n",
       " 'yourselves'}"
      ]
     },
     "execution_count": 48,
     "metadata": {
      "tags": []
     },
     "output_type": "execute_result"
    }
   ],
   "source": [
    "# Checking Nltk's stop words list\n",
    "nltk_stopwords"
   ]
  },
  {
   "cell_type": "markdown",
   "metadata": {
    "id": "fEGP573rnyoh"
   },
   "source": [
    "NLTK's stopwords contains words which are most probably important for the classification task. Words such as \"wasn't\", \"no\", \"not\", \"against\" and so on might be helpful in recognizing anti-vaccine comments."
   ]
  },
  {
   "cell_type": "code",
   "execution_count": 49,
   "metadata": {
    "id": "YSwiyytOaxgY"
   },
   "outputs": [],
   "source": [
    "# checking the count of each stop word in training dataset\n",
    "stop_words_counts = {}\n",
    "for i in nltk_stopwords:\n",
    "  stop_words_counts[i] = data.comment.str.count(i).sum()\n"
   ]
  },
  {
   "cell_type": "code",
   "execution_count": 50,
   "metadata": {
    "colab": {
     "base_uri": "https://localhost:8080/"
    },
    "id": "moCq-5embVC8",
    "outputId": "aa24422c-752f-42a4-8209-ea5c16a4dcad"
   },
   "outputs": [
    {
     "data": {
      "text/plain": [
       "{'a': 64190,\n",
       " 'about': 580,\n",
       " 'above': 11,\n",
       " 'after': 347,\n",
       " 'again': 284,\n",
       " 'against': 158,\n",
       " 'ain': 695,\n",
       " 'all': 2039,\n",
       " 'am': 1331,\n",
       " 'an': 11154,\n",
       " 'and': 4546,\n",
       " 'any': 932,\n",
       " 'are': 2174,\n",
       " 'aren': 170,\n",
       " \"aren't\": 35,\n",
       " 'as': 3865,\n",
       " 'at': 7946,\n",
       " 'be': 3839,\n",
       " 'because': 365,\n",
       " 'been': 444,\n",
       " 'before': 170,\n",
       " 'being': 262,\n",
       " 'below': 4,\n",
       " 'between': 21,\n",
       " 'both': 102,\n",
       " 'but': 769,\n",
       " 'by': 386,\n",
       " 'can': 1121,\n",
       " 'couldn': 21,\n",
       " \"couldn't\": 15,\n",
       " 'd': 27571,\n",
       " 'did': 190,\n",
       " 'didn': 77,\n",
       " \"didn't\": 45,\n",
       " 'do': 2701,\n",
       " 'does': 236,\n",
       " 'doesn': 128,\n",
       " \"doesn't\": 73,\n",
       " 'doing': 103,\n",
       " 'don': 956,\n",
       " \"don't\": 434,\n",
       " 'down': 152,\n",
       " 'during': 38,\n",
       " 'each': 79,\n",
       " 'few': 134,\n",
       " 'for': 2662,\n",
       " 'from': 786,\n",
       " 'further': 5,\n",
       " 'had': 616,\n",
       " 'hadn': 1,\n",
       " \"hadn't\": 1,\n",
       " 'has': 549,\n",
       " 'hasn': 30,\n",
       " \"hasn't\": 19,\n",
       " 'have': 1638,\n",
       " 'haven': 60,\n",
       " \"haven't\": 35,\n",
       " 'having': 130,\n",
       " 'he': 15155,\n",
       " 'her': 1989,\n",
       " 'here': 814,\n",
       " 'hers': 165,\n",
       " 'herself': 2,\n",
       " 'him': 34,\n",
       " 'himself': 5,\n",
       " 'his': 2033,\n",
       " 'how': 457,\n",
       " 'i': 57424,\n",
       " 'if': 1135,\n",
       " 'in': 19359,\n",
       " 'into': 191,\n",
       " 'is': 6757,\n",
       " 'isn': 85,\n",
       " \"isn't\": 54,\n",
       " 'it': 7002,\n",
       " \"it's\": 250,\n",
       " 'its': 275,\n",
       " 'itself': 41,\n",
       " 'just': 574,\n",
       " 'll': 5653,\n",
       " 'm': 18308,\n",
       " 'ma': 2549,\n",
       " 'me': 3764,\n",
       " 'mightn': 0,\n",
       " \"mightn't\": 0,\n",
       " 'more': 500,\n",
       " 'most': 197,\n",
       " 'mustn': 2,\n",
       " \"mustn't\": 2,\n",
       " 'my': 1723,\n",
       " 'myself': 80,\n",
       " 'needn': 1,\n",
       " \"needn't\": 1,\n",
       " 'no': 4092,\n",
       " 'nor': 271,\n",
       " 'not': 1872,\n",
       " 'now': 866,\n",
       " 'o': 59369,\n",
       " 'of': 3205,\n",
       " 'off': 182,\n",
       " 'on': 9047,\n",
       " 'once': 147,\n",
       " 'only': 329,\n",
       " 'or': 7049,\n",
       " 'other': 528,\n",
       " 'our': 1308,\n",
       " 'ours': 210,\n",
       " 'ourselves': 23,\n",
       " 'out': 1256,\n",
       " 'over': 497,\n",
       " 'own': 353,\n",
       " 're': 9420,\n",
       " 's': 46946,\n",
       " 'same': 130,\n",
       " 'shan': 0,\n",
       " \"shan't\": 0,\n",
       " 'she': 342,\n",
       " \"she's\": 16,\n",
       " 'should': 331,\n",
       " \"should've\": 0,\n",
       " 'shouldn': 20,\n",
       " \"shouldn't\": 14,\n",
       " 'so': 2800,\n",
       " 'some': 473,\n",
       " 'such': 73,\n",
       " 't': 72835,\n",
       " 'than': 732,\n",
       " 'that': 1958,\n",
       " \"that'll\": 1,\n",
       " 'the': 11205,\n",
       " 'their': 395,\n",
       " 'theirs': 5,\n",
       " 'them': 419,\n",
       " 'themselves': 49,\n",
       " 'then': 278,\n",
       " 'there': 385,\n",
       " 'these': 270,\n",
       " 'they': 987,\n",
       " 'this': 1524,\n",
       " 'those': 212,\n",
       " 'through': 116,\n",
       " 'to': 6955,\n",
       " 'too': 276,\n",
       " 'under': 190,\n",
       " 'until': 100,\n",
       " 'up': 779,\n",
       " 've': 6843,\n",
       " 'very': 789,\n",
       " 'was': 628,\n",
       " 'wasn': 25,\n",
       " \"wasn't\": 13,\n",
       " 'we': 1922,\n",
       " 'were': 201,\n",
       " 'weren': 7,\n",
       " \"weren't\": 3,\n",
       " 'what': 459,\n",
       " 'when': 367,\n",
       " 'where': 131,\n",
       " 'which': 172,\n",
       " 'while': 67,\n",
       " 'who': 624,\n",
       " 'whom': 4,\n",
       " 'why': 229,\n",
       " 'will': 1240,\n",
       " 'with': 1158,\n",
       " 'won': 283,\n",
       " \"won't\": 138,\n",
       " 'wouldn': 49,\n",
       " \"wouldn't\": 29,\n",
       " 'y': 18024,\n",
       " 'you': 2605,\n",
       " \"you'd\": 4,\n",
       " \"you'll\": 12,\n",
       " \"you're\": 41,\n",
       " \"you've\": 4,\n",
       " 'your': 734,\n",
       " 'yours': 69,\n",
       " 'yourself': 51,\n",
       " 'yourselves': 9}"
      ]
     },
     "execution_count": 50,
     "metadata": {
      "tags": []
     },
     "output_type": "execute_result"
    }
   ],
   "source": [
    "# Displaying the stopword and count in ascending order of the stop word\n",
    "{k: v for k, v in sorted(stop_words_counts.items(), key=lambda item: item[1])}"
   ]
  },
  {
   "cell_type": "code",
   "execution_count": 51,
   "metadata": {
    "colab": {
     "base_uri": "https://localhost:8080/"
    },
    "id": "pVKfY9_cbpoi",
    "outputId": "38bb2dea-cc07-4e2b-912e-b4cb091b1639"
   },
   "outputs": [
    {
     "name": "stdout",
     "output_type": "stream",
     "text": [
      "t 72835\n",
      "a 64190\n",
      "o 59369\n",
      "i 57424\n",
      "s 46946\n",
      "d 27571\n",
      "in 19359\n",
      "m 18308\n",
      "y 18024\n",
      "he 15155\n",
      "the 11205\n",
      "an 11154\n",
      "re 9420\n",
      "on 9047\n",
      "at 7946\n",
      "or 7049\n",
      "it 7002\n",
      "to 6955\n",
      "ve 6843\n",
      "is 6757\n",
      "ll 5653\n",
      "and 4546\n",
      "no 4092\n",
      "as 3865\n",
      "be 3839\n",
      "me 3764\n",
      "of 3205\n",
      "so 2800\n",
      "do 2701\n",
      "for 2662\n",
      "you 2605\n",
      "ma 2549\n",
      "are 2174\n",
      "all 2039\n",
      "his 2033\n",
      "her 1989\n",
      "that 1958\n",
      "we 1922\n",
      "not 1872\n",
      "my 1723\n",
      "have 1638\n",
      "this 1524\n",
      "am 1331\n",
      "our 1308\n",
      "out 1256\n",
      "will 1240\n",
      "with 1158\n",
      "if 1135\n",
      "can 1121\n",
      "they 987\n",
      "don 956\n",
      "any 932\n",
      "now 866\n",
      "here 814\n",
      "very 789\n",
      "from 786\n",
      "up 779\n",
      "but 769\n",
      "your 734\n",
      "than 732\n",
      "ain 695\n",
      "was 628\n",
      "who 624\n",
      "had 616\n",
      "about 580\n",
      "just 574\n",
      "has 549\n",
      "other 528\n",
      "more 500\n",
      "over 497\n",
      "some 473\n",
      "what 459\n",
      "how 457\n",
      "been 444\n",
      "don't 434\n",
      "them 419\n",
      "their 395\n",
      "by 386\n",
      "there 385\n",
      "when 367\n",
      "because 365\n",
      "own 353\n",
      "after 347\n",
      "she 342\n",
      "should 331\n",
      "only 329\n",
      "again 284\n",
      "won 283\n",
      "then 278\n",
      "too 276\n",
      "its 275\n",
      "nor 271\n",
      "these 270\n",
      "being 262\n",
      "it's 250\n",
      "does 236\n",
      "why 229\n",
      "those 212\n",
      "ours 210\n",
      "were 201\n",
      "most 197\n",
      "into 191\n",
      "under 190\n",
      "did 190\n",
      "off 182\n",
      "which 172\n",
      "before 170\n",
      "aren 170\n",
      "hers 165\n",
      "against 158\n",
      "down 152\n",
      "once 147\n",
      "won't 138\n",
      "few 134\n",
      "where 131\n",
      "same 130\n",
      "having 130\n",
      "doesn 128\n",
      "through 116\n",
      "doing 103\n",
      "both 102\n",
      "until 100\n",
      "isn 85\n",
      "myself 80\n",
      "each 79\n",
      "didn 77\n",
      "such 73\n",
      "doesn't 73\n",
      "yours 69\n",
      "while 67\n",
      "haven 60\n",
      "isn't 54\n",
      "yourself 51\n",
      "themselves 49\n",
      "wouldn 49\n",
      "didn't 45\n",
      "itself 41\n",
      "you're 41\n",
      "during 38\n",
      "aren't 35\n",
      "haven't 35\n",
      "him 34\n",
      "hasn 30\n",
      "wouldn't 29\n",
      "wasn 25\n",
      "ourselves 23\n",
      "couldn 21\n",
      "between 21\n",
      "shouldn 20\n",
      "hasn't 19\n",
      "she's 16\n",
      "couldn't 15\n",
      "shouldn't 14\n",
      "wasn't 13\n",
      "you'll 12\n",
      "above 11\n",
      "yourselves 9\n",
      "weren 7\n",
      "himself 5\n",
      "further 5\n",
      "theirs 5\n",
      "you'd 4\n",
      "below 4\n",
      "whom 4\n",
      "you've 4\n",
      "weren't 3\n",
      "mustn't 2\n",
      "mustn 2\n",
      "herself 2\n",
      "needn 1\n",
      "hadn 1\n",
      "that'll 1\n",
      "hadn't 1\n",
      "needn't 1\n",
      "mightn 0\n",
      "should've 0\n",
      "shan't 0\n",
      "mightn't 0\n",
      "shan 0\n"
     ]
    }
   ],
   "source": [
    "# Displaying stop word and name in descending order of counts\n",
    "for i in sorted(stop_words_counts, key=stop_words_counts.get, reverse=True):\n",
    "  print(i, stop_words_counts[i])"
   ]
  },
  {
   "cell_type": "code",
   "execution_count": 52,
   "metadata": {
    "id": "BOqoIWjjauKW"
   },
   "outputs": [],
   "source": [
    "exclude = ['against','aren',\"aren't\",'not','but','ain','how','what','don',\"don't\",'why','too','nor',\"won't\",'doesn','having','isn',\"doesn't\",'didn',\"isn't\",'haven',\"didn't\",\"haven't\", \"wouldn't\",'hasn','wasn','couldn','shouldn',\"hasn't\",\"couldn't\",\"shouldn't\",\"wasn't\",'weren', \"weren't\" ]"
   ]
  },
  {
   "cell_type": "code",
   "execution_count": 53,
   "metadata": {
    "id": "OfkwIvLmaLvq"
   },
   "outputs": [],
   "source": [
    "# removing words from stop words list which are in \"exclude\" list\n",
    "for i in exclude:\n",
    "  nltk_stopwords.remove(i)"
   ]
  },
  {
   "cell_type": "markdown",
   "metadata": {
    "id": "RJczU5pHcy4E"
   },
   "source": [
    "### Emoji Conversion"
   ]
  },
  {
   "cell_type": "code",
   "execution_count": 55,
   "metadata": {
    "id": "gdSO_30uc9SJ"
   },
   "outputs": [],
   "source": [
    "#\"emoji\" package contains demojize function that converts emoji to words describing it\n",
    "def emoji_convert(dataset):\n",
    "  dataset.comment = dataset.comment.apply(lambda x: emoji.demojize(x))\n",
    "  return dataset.copy()"
   ]
  },
  {
   "cell_type": "code",
   "execution_count": null,
   "metadata": {
    "id": "DWYa2KGmc9Ph"
   },
   "outputs": [],
   "source": []
  },
  {
   "cell_type": "markdown",
   "metadata": {
    "id": "xVFNAVsub5wu"
   },
   "source": [
    "### Common preprocessing for all models"
   ]
  },
  {
   "cell_type": "markdown",
   "metadata": {
    "id": "KwH1DMMgqaH0"
   },
   "source": [
    "Changing every word to its lowercase, removing punctions and expanding contraction"
   ]
  },
  {
   "cell_type": "code",
   "execution_count": 56,
   "metadata": {
    "id": "HCE64YSMc83_"
   },
   "outputs": [],
   "source": [
    "from sklearn.feature_extraction.text import TfidfVectorizer\n",
    "import numpy as np\n",
    "import re\n",
    "import string"
   ]
  },
  {
   "cell_type": "code",
   "execution_count": 57,
   "metadata": {
    "id": "h05xMs2LMSMD"
   },
   "outputs": [],
   "source": [
    "def pre_process(text):\n",
    "  text = text.lower()     # Lowering the case\n",
    "  text = expand_contractions(text, contractions)   # Expanding contractions\n",
    "  text = text.replace('[^\\w\\s]','')     # Removing punctuations\n",
    "\n",
    "  return text\n"
   ]
  },
  {
   "cell_type": "code",
   "execution_count": 58,
   "metadata": {
    "id": "mvYGxsSyPC4N"
   },
   "outputs": [],
   "source": [
    "data['comment'] = data['comment'].apply(np.vectorize(pre_process))\n",
    "data['comment'] = data['comment'].str.replace('[{}]'.format(string.punctuation), ' ')   # Removing punctuations\n",
    "data['comment'] = data['comment'].str.replace('[{}]'.format(string.digits), ' ')   # Removing numbers\n"
   ]
  },
  {
   "cell_type": "code",
   "execution_count": 59,
   "metadata": {
    "colab": {
     "base_uri": "https://localhost:8080/"
    },
    "id": "miakYHJxYL3L",
    "outputId": "756d022c-c489-49f9-e6bc-d07c36a6ee29"
   },
   "outputs": [
    {
     "data": {
      "text/plain": [
       "1        natural immunity  protected us since evolutio...\n",
       "5             effective against the original strain an...\n",
       "6                  appears safe    yeh think i will pass \n",
       "7       both nhs workers have a history of serious all...\n",
       "8       covid arm is a new rash like side effect appea...\n",
       "                              ...                        \n",
       "8783                                                   💉💪\n",
       "8784                           😐its gonna be a no for me \n",
       "8785    🤣 keep your 💩 i already know   people who have...\n",
       "8786    🤣🤣🤣  just because it is safe  does not mean it...\n",
       "8787    🤨there is people already having severe side ef...\n",
       "Name: comment, Length: 8018, dtype: object"
      ]
     },
     "execution_count": 59,
     "metadata": {
      "tags": []
     },
     "output_type": "execute_result"
    }
   ],
   "source": [
    "data.comment"
   ]
  },
  {
   "cell_type": "markdown",
   "metadata": {
    "id": "I12jcPcXZLwt"
   },
   "source": [
    "## Models"
   ]
  },
  {
   "cell_type": "markdown",
   "metadata": {
    "id": "GrlK_dLgt8WH"
   },
   "source": [
    "We will train on four classification algorithms namely, linearSVC, Logistic regression, Bernouilli's Naive Bayes, and stochastic gradient descent algorithms and will compare their performance on validation set. Each model is trained in four different ways \n",
    "1. Keeping Emoji and keeping stop words\n",
    "2. Keeping emoji and removing stop words\n",
    "3. Converting emoji to words and removing stop words\n",
    "4. Converting emoji and removing stop words. \n",
    "\n",
    "This is done to check which method is better for which model."
   ]
  },
  {
   "cell_type": "code",
   "execution_count": 60,
   "metadata": {
    "id": "x4910hMtUKmG"
   },
   "outputs": [],
   "source": [
    "from sklearn.pipeline import make_pipeline\n",
    "from sklearn.metrics import classification_report\n",
    "import matplotlib.pyplot as plt\n",
    "import seaborn as sns\n",
    "from sklearn.metrics import confusion_matrix"
   ]
  },
  {
   "cell_type": "markdown",
   "metadata": {
    "id": "esS-eHB7YtRd"
   },
   "source": [
    "### Linear SVC"
   ]
  },
  {
   "cell_type": "code",
   "execution_count": 61,
   "metadata": {
    "id": "2ajI3PW4f_Ns"
   },
   "outputs": [],
   "source": [
    "from sklearn.svm import LinearSVC"
   ]
  },
  {
   "cell_type": "markdown",
   "metadata": {
    "id": "CsMEM9EDf1Qv"
   },
   "source": [
    "#### Emoji conversion and no stop word removal"
   ]
  },
  {
   "cell_type": "code",
   "execution_count": 62,
   "metadata": {
    "id": "1KTQyjD7f8Ir"
   },
   "outputs": [],
   "source": [
    "training = data.copy()\n",
    "training =emoji_convert(training)\n",
    "training['comment'] = training['comment'].str.replace('[{}]'.format(string.punctuation), ' ')   # Removing punctuations\n",
    "X = training['comment']\n",
    "Y = training['label']\n",
    "Xtrain, Xtest, Ytrain, Ytest = train_test_split(X, Y, test_size=0.3, random_state=0)\n",
    "Ytrain = Ytrain.astype('int')\n",
    "Ytest = Ytest.astype('int')"
   ]
  },
  {
   "cell_type": "code",
   "execution_count": 63,
   "metadata": {
    "colab": {
     "base_uri": "https://localhost:8080/",
     "height": 419
    },
    "id": "w5xr9-kLgzTZ",
    "outputId": "67b33c6f-c215-45a2-f5c4-7fbe64d705a6"
   },
   "outputs": [
    {
     "data": {
      "text/html": [
       "<div>\n",
       "<style scoped>\n",
       "    .dataframe tbody tr th:only-of-type {\n",
       "        vertical-align: middle;\n",
       "    }\n",
       "\n",
       "    .dataframe tbody tr th {\n",
       "        vertical-align: top;\n",
       "    }\n",
       "\n",
       "    .dataframe thead th {\n",
       "        text-align: right;\n",
       "    }\n",
       "</style>\n",
       "<table border=\"1\" class=\"dataframe\">\n",
       "  <thead>\n",
       "    <tr style=\"text-align: right;\">\n",
       "      <th></th>\n",
       "      <th>label</th>\n",
       "      <th>comment</th>\n",
       "    </tr>\n",
       "  </thead>\n",
       "  <tbody>\n",
       "    <tr>\n",
       "      <th>1</th>\n",
       "      <td>0</td>\n",
       "      <td>natural immunity  protected us since evolutio...</td>\n",
       "    </tr>\n",
       "    <tr>\n",
       "      <th>5</th>\n",
       "      <td>1</td>\n",
       "      <td>effective against the original strain an...</td>\n",
       "    </tr>\n",
       "    <tr>\n",
       "      <th>6</th>\n",
       "      <td>0</td>\n",
       "      <td>appears safe    yeh think i will pass</td>\n",
       "    </tr>\n",
       "    <tr>\n",
       "      <th>7</th>\n",
       "      <td>1</td>\n",
       "      <td>both nhs workers have a history of serious all...</td>\n",
       "    </tr>\n",
       "    <tr>\n",
       "      <th>8</th>\n",
       "      <td>0</td>\n",
       "      <td>covid arm is a new rash like side effect appea...</td>\n",
       "    </tr>\n",
       "    <tr>\n",
       "      <th>...</th>\n",
       "      <td>...</td>\n",
       "      <td>...</td>\n",
       "    </tr>\n",
       "    <tr>\n",
       "      <th>8783</th>\n",
       "      <td>1</td>\n",
       "      <td>syringe  flexed biceps</td>\n",
       "    </tr>\n",
       "    <tr>\n",
       "      <th>8784</th>\n",
       "      <td>0</td>\n",
       "      <td>neutral face its gonna be a no for me</td>\n",
       "    </tr>\n",
       "    <tr>\n",
       "      <th>8785</th>\n",
       "      <td>0</td>\n",
       "      <td>rolling on the floor laughing  keep your  pil...</td>\n",
       "    </tr>\n",
       "    <tr>\n",
       "      <th>8786</th>\n",
       "      <td>0</td>\n",
       "      <td>rolling on the floor laughing  rolling on the...</td>\n",
       "    </tr>\n",
       "    <tr>\n",
       "      <th>8787</th>\n",
       "      <td>0</td>\n",
       "      <td>face with raised eyebrow there is people alre...</td>\n",
       "    </tr>\n",
       "  </tbody>\n",
       "</table>\n",
       "<p>8018 rows × 2 columns</p>\n",
       "</div>"
      ],
      "text/plain": [
       "     label                                            comment\n",
       "1        0   natural immunity  protected us since evolutio...\n",
       "5        1        effective against the original strain an...\n",
       "6        0             appears safe    yeh think i will pass \n",
       "7        1  both nhs workers have a history of serious all...\n",
       "8        0  covid arm is a new rash like side effect appea...\n",
       "...    ...                                                ...\n",
       "8783     1                            syringe  flexed biceps \n",
       "8784     0             neutral face its gonna be a no for me \n",
       "8785     0   rolling on the floor laughing  keep your  pil...\n",
       "8786     0   rolling on the floor laughing  rolling on the...\n",
       "8787     0   face with raised eyebrow there is people alre...\n",
       "\n",
       "[8018 rows x 2 columns]"
      ]
     },
     "execution_count": 63,
     "metadata": {
      "tags": []
     },
     "output_type": "execute_result"
    }
   ],
   "source": [
    "training"
   ]
  },
  {
   "cell_type": "code",
   "execution_count": 64,
   "metadata": {
    "colab": {
     "base_uri": "https://localhost:8080/"
    },
    "id": "0K-UQiXuf8FF",
    "outputId": "12ef8ca4-e7be-4905-975e-607f36e4dcb3"
   },
   "outputs": [
    {
     "data": {
      "text/plain": [
       "Pipeline(memory=None,\n",
       "         steps=[('tfidfvectorizer',\n",
       "                 TfidfVectorizer(analyzer='word', binary=False,\n",
       "                                 decode_error='strict',\n",
       "                                 dtype=<class 'numpy.float64'>,\n",
       "                                 encoding='utf-8', input='content',\n",
       "                                 lowercase=True, max_df=1.0, max_features=None,\n",
       "                                 min_df=1, ngram_range=(1, 2), norm='l2',\n",
       "                                 preprocessor=None, smooth_idf=True,\n",
       "                                 stop_words=None, strip_accents=None,\n",
       "                                 sublinear_tf=False,\n",
       "                                 token_pattern='(?u)\\\\b\\\\w\\\\w+\\\\b',\n",
       "                                 tokenizer=None, use_idf=True,\n",
       "                                 vocabulary=None)),\n",
       "                ('linearsvc',\n",
       "                 LinearSVC(C=1.0, class_weight=None, dual=True,\n",
       "                           fit_intercept=True, intercept_scaling=1,\n",
       "                           loss='squared_hinge', max_iter=1000,\n",
       "                           multi_class='ovr', penalty='l2', random_state=42,\n",
       "                           tol=0.0001, verbose=0))],\n",
       "         verbose=False)"
      ]
     },
     "execution_count": 64,
     "metadata": {
      "tags": []
     },
     "output_type": "execute_result"
    }
   ],
   "source": [
    "lsvc_pipeline = make_pipeline( \n",
    "              TfidfVectorizer(stop_words=None, ngram_range=(1, 2)), \n",
    "              LinearSVC(random_state=42)\n",
    "          )\n",
    "\n",
    "lsvc_pipeline.fit(Xtrain, Ytrain)"
   ]
  },
  {
   "cell_type": "markdown",
   "metadata": {
    "id": "onmmzxcthUfz"
   },
   "source": [
    "##### Classification report"
   ]
  },
  {
   "cell_type": "code",
   "execution_count": 65,
   "metadata": {
    "colab": {
     "base_uri": "https://localhost:8080/"
    },
    "id": "cekrcix0f8Ch",
    "outputId": "75d2b718-6dec-4ff5-e6fb-3122fb1b7744"
   },
   "outputs": [
    {
     "name": "stdout",
     "output_type": "stream",
     "text": [
      "Linear SVC with no stop words\n",
      "              precision    recall  f1-score   support\n",
      "\n",
      "           0       0.80      0.85      0.82      1131\n",
      "           1       0.86      0.81      0.84      1275\n",
      "\n",
      "    accuracy                           0.83      2406\n",
      "   macro avg       0.83      0.83      0.83      2406\n",
      "weighted avg       0.83      0.83      0.83      2406\n",
      "\n"
     ]
    }
   ],
   "source": [
    "print(\"Linear SVC with no stop words\")\n",
    "Ypred = lsvc_pipeline.predict(Xtest)\n",
    "lsvc_emoji = classification_report(Ypred, Ytest)\n",
    "print(lsvc_emoji)"
   ]
  },
  {
   "cell_type": "code",
   "execution_count": 66,
   "metadata": {
    "colab": {
     "base_uri": "https://localhost:8080/",
     "height": 281
    },
    "id": "_u0HArTaf8AK",
    "outputId": "20c228e3-8877-4c74-ca1a-52c57e520743"
   },
   "outputs": [
    {
     "data": {
      "image/png": "[encoded data removed]",
      "text/plain": [
       "<Figure size 432x288 with 2 Axes>"
      ]
     },
     "metadata": {
      "needs_background": "light",
      "tags": []
     },
     "output_type": "display_data"
    }
   ],
   "source": [
    "cm = confusion_matrix(lsvc_pipeline.predict(Xtest), Ytest)\n",
    "ax = plt.axes()\n",
    "sns.heatmap(cm, annot=True, annot_kws={\"size\": 10}, fmt='d',cmap=\"Blues\", ax = ax )\n",
    "ax.set_title('Confusion Matrix')\n",
    "plt.show()"
   ]
  },
  {
   "cell_type": "markdown",
   "metadata": {
    "id": "ks_ty4m-fiy3"
   },
   "source": [
    "#### Comments on what erros that the model has done and what might have gone wrong"
   ]
  },
  {
   "cell_type": "code",
   "execution_count": 67,
   "metadata": {
    "colab": {
     "base_uri": "https://localhost:8080/"
    },
    "id": "TfCd76jufiy6",
    "outputId": "49d3877e-912f-4656-df0a-fc50afb23ab0"
   },
   "outputs": [
    {
     "name": "stdout",
     "output_type": "stream",
     "text": [
      "go and vaccine ur family\n",
      "---\n",
      "because the mrna approach to vaccines is new  you might have seen claims and worries about what might happen after it’s injected into the body \n",
      "---\n",
      "im saving this to share when people who ask me if im getting the vaccination   i love how you broke it down into understandable info   i had an idea of how this all worked  this gave me lots of   thats how that is connected   lol now im able to share info with ones who want to learn   thank you \n",
      "---\n",
      "vaccines are meant to attack the host  so your body s immune system learns to defend itself against the actual virus  this is why antivaxxers are a thing because they believe that big pharm and governments are trying to kill them  but fact is they are too uneducated\n",
      "---\n",
      "i hate to tell you this  but everyone being vaccinated will not make americans normal \n",
      "---\n",
      "uhhhhh they will be the ones alive you idiot \n",
      "---\n",
      "I am not antivax but I am concerned about ingredients as i am in everything i put in my body  because in the past they say oh this ingredient is safe and then years later  oh this product causes cancer and if you or a loved one have been hurt by one you may be compensated \n",
      "---\n",
      "my personal opinion is that you should get the vaccine if it is offered to you  you are right the system is broken  corrupt governments etc   but you will not fix the system by skipping the vaccine  you passing up the vaccine will not necessarily mean it goes to someone who needs it more   most likely it will go to someone else who is in your same position  a friend of a politician who does not need it the most  \n",
      "---\n",
      "children of the world have been vaccinated routinely and safely since the     s hardly any ill effects  they certainly do not make you sterile  remove sexual function or retard bone and brain development \n",
      "---\n",
      "i do not care how authoritarian this sounds  vaccinations need to be mandatory \n",
      "---\n",
      "a vaccine which reduces  a nasty virus which can cause death or serious illness  to  a nasty virus which leaves you bedbound for a few days  is still a pretty good vaccine i do not see why doomers are so keen to pretend otherwise\n",
      "---\n",
      "i can say with the greatest confidence  vaccines do not cause autism  and that  cdcgov is in agreement  ignore the disinformation  remember antivaccine groups do not care about you or your family\n",
      "---\n",
      "with yellow stain gone and a vaccine in the pipeline          is looking better already\n",
      "---\n",
      "complications from vaccines are classified as very rare occuring in less than      of the population that takes it \n",
      "---\n",
      "this vaccine is our solution and our only chance   \n",
      "---\n",
      "they caught it before the vaccine took effect  you need the booster shot   weeks later before it works  you can’t catch corona virus from the vaccine  vaccine only has mrna  not the virus \n",
      "---\n",
      "there are so many people dying and they are saying to not take the vaccines   speak for yourselves you idiotsss   \n",
      "---\n",
      "why yes i support a healthy physique and scientific research on vaccines  how did you know \n",
      "---\n",
      "my main concern is not whether or not i get infected  but whether i spread it to someone less fortunate \n",
      "---\n",
      "i can literally see that this vaccine is working   still we have to wait for at least one whole year to check whether its working or not maybe\n",
      "---\n",
      "moderna vaccine seems more promising\n",
      "---\n",
      "the people who think that these vaccines contain microchips are the same people who forget their phone passcode and blame the government for changing it \n",
      "---\n",
      "stick me  stick me  stick me  after the essential workers i suppose  but then stick me \n",
      "---\n",
      "this covid will never end  my arm still hurt from the pfizer vaccine\n",
      "---\n",
      "so we do not trust the government and we do not trust big multinational companies  i get that  but when did we stop trusting doctors\n",
      "---\n",
      "no vaccines for anyone wearing a maga hat \n",
      "---\n",
      "vaccines do not harm  ignorance does \n",
      "---\n",
      "do not rush  wait until novavax s vaccine is approved    it is the best one possible \n",
      "---\n",
      "aspirin has side effects u all gonna stop taking that too \n",
      "---\n",
      "everybody that does not take the vaccine will die\n",
      "---\n",
      "me  why do not you vaccinate your children  anti vaxxer  gotta catch em all\n",
      "---\n",
      "one thing i noticed about people who complain about the covid vaccine is that they have questions that can easily be answered but they do not look it up\n",
      "---\n",
      "whilst i agree that there needs to be more transparency between the government and the public to curtail scepticism in its many forms  i think that if people believe the vaccine is harmful and don’t want it  leave them be  have them sign an agreement that they refused the vaccine and if they contract covid  they have to cover their own treatment \n",
      "---\n",
      "i wont care if i die from the vaccine  if i can take something that will limit risk for others count me in\n",
      "---\n",
      "i would take the vaccine  even with all the conspiracy stories i hear about with how “fake” the virus is and how the vaccine just wants to “patent” our dna \n",
      "---\n",
      "additionally mrna vaccines have been used in cancer therapy successfully \n",
      "---\n",
      "the only bad vaccine news is that no lab is producing them fast enough \n",
      "---\n",
      "the science is great and vaccines are probably the greatest thing ever  the problem is instead of a multi year        clinical trial like normal vaccines go through  this brand new vaccine  using version   technology  was rushed through in   months  I will wait  thanks\n",
      "---\n",
      "long term effect of covid is worse  i will take the vaccine for sure \n",
      "---\n",
      "i think that if the current mrna vaccines hold up and work as well as they are supposed to and there are no long term effects they are the future for many things  the ability to plug and play is very cool \n",
      "---\n",
      "i do not think vaccines are bad but i do think people should have a choice whether to take them or not if they want to experience the virus or not is up to them\n",
      "---\n",
      "vaccines did away with most outbreaks aswell\n",
      "---\n",
      "they will have to give it to me kicking and screaming\n",
      "---\n",
      "those doctors did not go through     years of school to have someone who makes clothes tell them about     of their course material  girl  they know it is safe ish better than having your child dead ish \n",
      "---\n",
      "trust the doctors\n",
      "---\n",
      "nice and natural boost to your immune system that \n",
      "---\n",
      "one of the most massive side effects of the vaccine is   you won’t catch the virus  da da \n",
      "---\n",
      "correlation is not causation  this is true \n",
      "---\n",
      "lmao  the best one is the good ole fashion “there arent any studies on long term effects ” there’s nothing in the vaccine that’s going to all of a sudden hurt you        or    years down the line  nothing more than all the other shit you put in your body without question \n",
      "---\n",
      "why      what s wrong with vaccines     \n",
      "---\n",
      "now we have the most rapidly produced vaccine in history for a virus that is already mutating \n",
      "---\n",
      "i will not have to wear a mask soon ask i have taken the vaccine \n",
      "---\n",
      "jesus is the truth and the holy spirit is the vaccine  thanks\n",
      "---\n",
      "i would have no problem with a vaccine booster every   months if it makes this go away\n",
      "---\n",
      "    of americans don’t want to take the vaccine  that’s a problem for      of america i fear \n",
      "---\n",
      "love the psa from wikipedia defining the dangers of not vaccinating  wow \n",
      "---\n",
      "so many more people will die by not taking it   rip to them \n",
      "---\n",
      "got my covid vaccine  rip to me\n",
      "---\n",
      "vaccines will improve our immune system  I had like to take the vaccine\n",
      "---\n",
      "I am not a risk patient for the flu  but i still get my flu shot because having the flu  even if i have a fairly good immunity  sucks cock and i hate it \n",
      "---\n",
      "guess who’s taking it    me    \n",
      "---\n",
      "giving facts to the ignorant is like giving medicine to the dead\n",
      "---\n",
      "after the vaccine is injected  your body uses instructions in the dna rna to make copies of this virus part  or antigen   your body recognises these and mounts an immune response  ready to protect you the next time you encounter the virus \n",
      "---\n",
      "by not getting the vaccine you put other people  including your loved ones  at risk  this is as reckless as drunk driving \n",
      "---\n",
      "astrazeneca would be my choice for sure \n",
      "---\n",
      "genetic code decay and unraveling thanks to subverting the rna system     really want to see this tested before they start handing out this junk\n",
      "---\n",
      "     safe  for all we know they might do nothing at all   but just feeling safe from receiving it is a blessing in itself\n",
      "---\n",
      "I will take pfizer one right now   they can pump that thing right into my vein \n",
      "---\n",
      "wishful thinking  but i’m going to choose to trust if biden and fauci said it’s happening  it’s happening  that being said  i’m fully prepared to be disappointed \n",
      "---\n",
      "ill have my vaccine when they have sorted out all the bugs and glitches thanks\n",
      "---\n",
      "no it’s not  it makes overwhelming sense to get vaccinated  you obviously know nothing about it \n",
      "---\n",
      "this little old man gets his vaccine shot  are you keeping up with your vaccines \n",
      "---\n",
      "time will prove this vaccined helped human race\n",
      "---\n",
      "i vaccinate because I am not retarded \n",
      "---\n",
      "i’d trust a person with   years of high level medical schooling vs an internet article from an unknown source\n",
      "---\n",
      "amazing what humans can do when we come together and throw a bunch of money at a common goal  this is why science funding is necessary \n",
      "---\n",
      "might as well take the shot  not going to get out of this world dying from something else  do not worry about a thing  everything going be alright \n",
      "---\n",
      "i do not care about political propaganda  i just want to know which vaccine is safe and easy to get  i know that pfizer has caused    deaths in norway  what about other vaccine \n",
      "---\n",
      "if they are an intelligent and rational person they will take it \n",
      "---\n",
      "safe and efective   that is why they will not reveal all d ingredients and components  nor they are responsible   the secundary effects and u cannot sue them   \n",
      "---\n",
      "extremely sad to see people saying vaccine is unsafe  i welcome it\n",
      "---\n",
      "saag says the true value of the vaccine is more easily seen when we consider what would happen if the development of a vaccine had failed \n",
      "---\n",
      "wow this vaccine will do amazingly \n",
      "---\n",
      "if this vaccine is so good why is it killing people all over the world\n",
      "---\n",
      "scientists have been researching covid for years  they know what they are doing \n",
      "---\n",
      "as a guy with autism  i am deeply offended  bottom line is if you don’t vaccinate your kid they might die before their  th birthday \n",
      "---\n",
      "he is lucky to have his vaccine  I am at risk  I am    years old and i do not have a vaccine  bravo    \n",
      "---\n",
      "when someone survives it  that person becomes immune and will not be capable of passing it onto people \n",
      "---\n",
      "personally  i won’t be having it yet i am not an antivaxxer but  in my opinion  this one  for obvious reasons  has been rushed through vaccines normally go through a minimum   year trial  to check for long term affects  this one hasn’t \n",
      "---\n",
      "i will wait for a different vaccine  not a j j one  they have blood on their hands \n",
      "---\n",
      "those saying they will not take it are the ones complaining we did not have summer this year and the same will be for next year  well done \n",
      "---\n",
      "if you do not want yours   do let me know   I am quite happy to   \n",
      "---\n",
      "that is concerning  i would not want to get medical care from someone who does not want the vaccine  not just from a covid perspective  but because i would not trust their judgment \n",
      "---\n",
      "so basically vaccines train your body to become stronger \n",
      "---\n",
      "I will be taking it happily\n",
      "---\n",
      "i know some people even had to call out from work because of this  personally  having nothing to do makes me focus on the symptoms more so i would rather just go on with my days like normal \n",
      "---\n",
      "pfizer or bust for me      efficacy puts me at ease\n",
      "---\n",
      "vaccines do not cause autism\n",
      "---\n",
      "yes  absolutely  if people do not get it this virus will not go away  if i do not get it I am no better than the people i consider the problem\n",
      "---\n",
      "my body is ready\n",
      "---\n",
      "i only trust pfizer \n",
      "---\n",
      "tens of thousands of people have received the vaccine for testing  no one has died \n",
      "---\n",
      "the antivaccines people are that type of people who said  i don t know  if they re ask for their allergies\n",
      "---\n",
      "mrna covid vaccines are safe and effective  mrna vaccines do not affect your personal genes or dna  they do not contain a live virus  they cannot give you covid\n",
      "---\n",
      "i’ll get the vaccine  i actually don’t have a choice at this point \n",
      "---\n",
      "what       but they have bypassed the very one that they cannot  should not bypass  but have  according to the nuremberg code  i just cannot believe this video  these people are actually publicly  happily  blatantly ignoring the nuremberg code  previous trials for other covidviruses    all the animals died after a time \n",
      "---\n",
      "why take the vaccine  because the alternative could be dying\n",
      "---\n",
      "the media in the united states keeps making headlines like  it is only     effective   when in reality  it is     effective against severe coronavirus and      effective against death and it is been tested against all the new strains \n",
      "---\n",
      "perhaps you guys can take the vaccine yourselves  and do a daily vlog showing your results  cheers \n",
      "---\n",
      "why would anyone go to the trouble and expense of putting chips  for purposes other than stated  in millions upon millions of vaccines when all your information is already being tracked by your cellphone \n",
      "---\n",
      "college kids need vaccines just like the young kids \n",
      "---\n",
      "i will not be questioning the vaccine s efficacy  or have any doubts arising from the record speed at which it was produced \n",
      "---\n",
      "for now we do not have othewise other than taking the risk\n",
      "---\n",
      "it’s funny how anti vax moms think they are smarter than the doctors who’ve had years of training where the moms probably had   minutes of “research”\n",
      "---\n",
      "reports emerging from norway indicate that at least twenty three people have died after taking the pfizer biontech covid    vaccine  yet the government regulator has said they don’t see anything alarming in the cases…\n",
      "---\n",
      "maybe it causes infertility  maybe not  now trust the science and take your shot  bigot \n",
      "---\n",
      "please lord i don’t like covid   \n",
      "---\n",
      "i’m right there with you  mayim  i haven’t taken the flu vaccine in years and i did not have my kids take it either  but last year i did  i  too  made my own vaccination schedule for both of my boys  i will be getting the covid vaccine asap  and will be having my boys get it  too \n",
      "---\n",
      "let me take da vaccine \n",
      "---\n",
      "i’m convinced that i’m immune to covid  the vaccine didn’t even give me one side effect \n",
      "---\n",
      "most deaths seem to be because of covid  but no  covid vaccine cannot cause death \n",
      "---\n",
      "sounds too good to be true this vaccine is a placebo  face with tears of joy \n",
      "---\n",
      "you shold thank the pharma companies they will save us with these vaccines\n",
      "---\n",
      "i cannot wait for that data about transmission  a lot of the people i speak to who say they will not get it say it is  partially  because  it is only protecting me  it d be different if it protected other people   ok sure  I will wait  will love to hear the next excuse after  it is not selfless enough  \n",
      "---\n",
      "do you not know how many people are trying very hard to get vaccinated  and finding no way to do so \n",
      "---\n",
      "like anything that you put in your body  there could be potential side effects or allergic reactions  however  the majority of people don’t have any issues after getting vaccinated  if they did  they most likely recovered quickly and aren’t suffering from any long term issues \n",
      "---\n",
      "would you rather your grandma die than take vaccine  \n",
      "---\n",
      "this protects the whole population  if you are not taking it be ok witt not beeing allowed to access restaurants etc \n",
      "---\n",
      "iâ€ trade mark m in the military and have had the vaccine  itâ€ trade mark s been over a week and iâ€ trade mark m fine ðÿ‘ðÿ»\n",
      "---\n",
      "take your vaccine and shove it \n",
      "---\n",
      "I am quitting my job if they require me to take it \n",
      "---\n",
      "yes because I am not selfish  just because it might not kill me does not mean i will not get someone sick and have it kill them \n",
      "---\n",
      "you know what vaccines do give your kids  a future \n",
      "---\n",
      "vaccines will not harm you  none of the ingredients are dangerous in the slightest\n",
      "---\n",
      "list your sources that proof vaccines are bad  do it now \n",
      "---\n",
      "if we assume the person dies because of vaccine   still        people vaccinated and one died   we can see the probability   dying of corona has higher possibility   and it is not proven there could be many things in the picture   so just stop spreading hatred\n",
      "---\n",
      "i just got mine  if i turn into a zombie then I will let y all know\n",
      "---\n",
      "why not   it is free  \n",
      "---\n",
      "what is there to see with their own eyes  news reporting that there are not in fact thousands of people dying because of the vaccine  amazing \n",
      "---\n",
      "it’s mrna  not a small dose of covid   the vaccine is basically sending a messenger to tell your body to produce proteins that will destroy covid    as the virus tries to enter your body \n",
      "---\n",
      "the vaccine has aborted baby cells in it  research\n",
      "---\n",
      "if they do not want it and they suffer ill effects of covid  unlucky for them  the vulnerable who could contract it from the unimmunised  should be vaccinated  so  in theory only the sceptics will suffer  they made their choice  darwinism has gotten us this far    \n",
      "---\n",
      "people who do not want the vaccine just leave more for the rest of us  if they want to catch a virus we know nothing about  with unknown long term effects vs  trusting medical science we have come to understand over more than     years of inoculating against viruses that is on them \n",
      "---\n",
      "I am ready to be injected now \n",
      "---\n",
      "had my  nd dose on friday  nothing  no fatigue  no aching  no fever \n",
      "---\n",
      "but the people who cannot take the vaccine  due to a bad immune system  can die if not enough people take it  this is not about us as individuals  it is about humanity as a whole \n",
      "---\n",
      "go ahead and give me your sources on why vaccines are devil research  i will wait\n",
      "---\n",
      "i want my vaccine\n",
      "---\n",
      "why is everyone so scared to take it \n",
      "---\n",
      "this is all generally as predicted  like with the flu jab  they’ll be a new one released each year  except we will want a much higher percentage of the population to get it than the flu jab  if having a needle jabbed in my arm twice a year is the price for no more lockdowns  then i’m more than willing \n",
      "---\n",
      "i think the vaccine is ok  i like the speaker \n",
      "---\n",
      "norway patient died after being injected with covid    vaccine but another     million people did not  \n",
      "---\n",
      "look people if you don’t wanna get the vaccine that’s ok  but don’t you dare get in the way of those of us who do  that’s just wrong in all kinds of ways  it’s not your right to make that choice for me or anyone else  i you wanna start being that way then let some of us make decisions for you  don’t do to others what you don’t want done to you \n",
      "---\n",
      "what if you find out      years later if it does major organ damage  you cant sue them  govt has provided vaccine companies with liability protection  so you are screwed \n",
      "---\n",
      "met lots of people yesterday who don’t want a vaccination  was flabbergasted and saddened  i thought it this years must have saving lives  think before you say no \n",
      "---\n",
      "science have always helped human race  yet people don’t beilive in it\n",
      "---\n",
      "you do not need to convince me to get the vaccine  you just need to get me the vaccine \n",
      "---\n",
      "the covid vaccine hasn’t killed a single person  not taking the vaccine has killed more americans than the second world war \n",
      "---\n",
      "to anyone worried about long term side effects  i really do not think there is any real mechanism to cause long term harm  as far as the mrna itself  it is literally just strains of mrna that code for  relatively inert  proteins  our body uses mrna to code for proteins all the time  so that is not new  there is no virus involved at any point so there is no risk of infection \n",
      "---\n",
      "may the lord god  who gives wisdom  have mercy on this vaccine and heal us\n",
      "---\n",
      "I will never learn  interacting with vaccine sceptics and covid deniers is not a good idea  and they have the tenacity of a terrier after a rat \n",
      "---\n",
      "dr  mateo says despite the trade off  it’s still worth it to get vaccinated against covid\n",
      "---\n",
      "knowing you are going to get the vaccine gives me confidence in getting it too\n",
      "---\n",
      "this is first time that i will not be scared of getting corona vaccine injection\n",
      "---\n",
      "I am anti seatbelt because i can still die or be injured in a car accident \n",
      "---\n",
      "that is awsome OK hand medium light skin tone  OK hand medium light skin tone  OK hand medium light skin tone i wish denmark were more effective  we are sooooo slow here left facing fist medium dark skin tone  left facing fist medium dark skin tone  left facing fist medium dark skin tone  left facing fist medium dark skin tone  left facing fist medium dark skin tone only about       have received the vaccine here face with rolling eyes \n",
      "---\n",
      "i would never vaccinate my children  its irresponsible and dangerous  instead  i take them to a doctor who is properly equipped to do this \n",
      "---\n",
      "ars cov   or covid    is not a myth  it is a life threatening disease that might affect to your underlying conditions  better to study the true science of coronaviruses and listen to the experts how the  mrna vaccines will save more lives than never \n",
      "---\n",
      "we are not liable for any deaths or damages  but     you must take it  it is safe \n",
      "---\n",
      "I have seen old  terminally ill people get the covid vaccine and not have any symptoms besides a sore arm  i  for one  am not worried \n",
      "---\n",
      "do not take vaccines coz overpopulation is a problem \n",
      "---\n",
      "the problem is suspicion isn’t scientific proof  there’s a reason we don’t have smallpox anymore \n",
      "---\n"
     ]
    }
   ],
   "source": [
    "# Errors for pro-vaccination\n",
    "for i in range(len(Ypred)):\n",
    "  if Ypred[i] != Ytest.values[i] and Ytest.values[i]==1:\n",
    "    print(Xtest.values[i])\n",
    "    print('---')"
   ]
  },
  {
   "cell_type": "code",
   "execution_count": 68,
   "metadata": {
    "colab": {
     "base_uri": "https://localhost:8080/"
    },
    "id": "u_oJrWpPfizA",
    "outputId": "11c23a63-b9ff-4a6d-9829-0fd6586226a2"
   },
   "outputs": [
    {
     "name": "stdout",
     "output_type": "stream",
     "text": [
      "noooooo thank you      \n",
      "---\n",
      "so by the time you are unlucky enough to get globalist vaccine the mutations will be so powerful that vaccine will be rendered useless and while they are telling you how bad you want the shot you know it is bs  where is the flu where d it go  huh   \n",
      "---\n",
      "i found an anti vax shirt for kids  and i wondered if there were any in adult sizes  but i realized it would be pointless\n",
      "---\n",
      "i am very skeptical of it  i’m sorry i won’t get the vaccine  thats just my opinion\n",
      "---\n",
      "not vaccinating your kids only works fine so long as everyone around them is vaccinated \n",
      "---\n",
      "i am more  scared  of the vaccine than i am of dying from covid  yeah  well said \n",
      "---\n",
      "two mice are in the pub and one says “hey  have you had the new covid vaccine yet ” and the other replies“what   are you frickin crazy  they haven’t finished the human trials yet  ”\n",
      "---\n",
      "i like how this video supposed to make you feel like it’s no big deal get the vaccine but i’m like i didn’t want it before and now i don’t want it even more \n",
      "---\n",
      "i have saved my children from vaccinations because of a stranger at a business seminar that has informed me of his opinion about vax   yrs before i had my  st kid  there are people that listen \n",
      "---\n",
      "eh i’ll just wait a while until non of those people get sick\n",
      "---\n",
      "yup let’s just genetically modify our cells and just hope it goes well\n",
      "---\n",
      "I am scared of the sideeffects\n",
      "---\n",
      "because her daughter can’t get vaccinated  she should be begging everyone else to get vaccinated \n",
      "---\n",
      "so   getting the  covid    vaccine     does not mean you can remove your mask  does not mean you can stop social distancing  does not mean we can end the lockdown  does not make you immune to covid     does not prevent you from getting covid       so why get it \n",
      "---\n",
      "believe in jesus christ  covid vaccine comes from hell\n",
      "---\n",
      "nestle and cadburys will release a new vaccine next   \n",
      "---\n",
      "people before the new vaccine  ugh wish companies would develop a vaccine faster companies  develop a vaccine faster people  now i don’t want it\n",
      "---\n",
      "pretty sure its not just anti vaxxers that will be refusing the coronavirus vaccine  \n",
      "---\n",
      "you should drink a glass of water rather than taking this vaccine \n",
      "---\n",
      "what is going on right now  is known in epidemiology as the pathogen endemic equilibrium phase   viral stasis  and is perfectly normal  virulence weakening and dilution is what always happens when mutations and naturally acquired herd immunity is occurring throughout the populations  invariably mutation causes infection rate increase and lethality rate decrease  vaccination at this stage  is essentially pointless \n",
      "---\n",
      "well they can shove it up that dark place as far as i am concerned  when asked about the over   s as to the effectiveness of their so called wonder vaccine they answered in a typical vagueness well suited to a cheap skate politician    they did not have data on it in regards to the over   s was their answer  in other words the jury was out on it but its safe to take it    a bit of a contradiction would be an understatement \n",
      "---\n",
      "why china defeat covid without a vaccine \n",
      "---\n",
      "for those who chose not to take it  that is fine  natural selection at this point  but i know y all were also the ones complaining about no vaccine\n",
      "---\n",
      "wow remember when we thought the oxford vaccine would be ready in the fall  now they are in line to be the fourth or possibly fifth  what a damn shame  stoked to know when the j j is coming though \n",
      "---\n",
      "when trump gets his  I will get mine  makes no sense to just blindly get it the moment it comes out like a damn sheep \n",
      "---\n",
      "standing together  so proud of my fellow thinkers and the vaxxed team \n",
      "---\n",
      "well let me start off by saying i’m pro vaccine  but i think all the conflicting information that comes out about them has me a little wary   so in short yes i would get it but i wouldn’t be the first in line to get it if that makes sense \n",
      "---\n",
      "only a fool would take any of these vaccines  \n",
      "---\n",
      "i walked to tesco this morning through empty streets  thinking   this is how it will be when the vaccines have killed most of the population \n",
      "---\n",
      "I will pass  I have already had covid and it is totally worth the   weeks off work  would not mind getting it again\n",
      "---\n",
      "good to see so many people finally waking up to what’s really going on here   united we stand divided we fall   i know what side i am fighting for and it isn’t the side of our government    \n",
      "---\n",
      "i’ll pass till i know it’s safe uggggggg  as i get older i find out that i have allergies to things  i honestly don’t think i wanna deal with something else let’s get it right so we can get on with our lives\n",
      "---\n",
      "please dont get the vaccine    \n",
      "---\n",
      "population control  well done \n",
      "---\n",
      "covid vaccine topped up with a  mask is the strongest password against the virus \n",
      "---\n",
      "the company were i work were giving free vaccines and i pass  i just dont trust it but thank you though ive already got covid so ill let my body fight for me over again im a survivor drink plenty of fluids and honestly tea with honey i though it was a lie but thank god i listen and it help try it god bless \n",
      "---\n",
      "my mom got transverse myelitis from a flu shot   it has ruined her life   \n",
      "---\n",
      "i’m glad to see that everyone is awaked from this nightmare called covid     we don’t need a vaccine \n",
      "---\n",
      "yes  absolutely there is nothing more dangerous than this vaccine than any others  or else they would not make it available i thought at first that i would want to wait a while and see before taking it  but at this point  i don’t have to “decide” to wait  i’m     i am not an essential worker  and don’t have any health risks  i have several friends who work in healthcare and have already received the vaccine  and they are all happy and healthy  soon everyone i know who is a teacher or social worker will get it too  it will be months before i am eligible to get one \n",
      "---\n",
      "from the same people who brought you  just two weeks to flatten the curve  \n",
      "---\n",
      "everybody is sitting here downgrading the vaccine because they are afraid to take it or just plain idiots would you rather deal with the covid    and be put into an induced coma in the hospital and your family not knowing if you will make it boy cannot we be smarter\n",
      "---\n",
      "its for your own safety nazis would say…\n",
      "---\n",
      "at the highest levels of the medical cartel  vaccines are a top priority because they cause a weakening of the immune system  i know that may be hard to accept  but its true  the medical cartel  at the highest level  is not out to help people  it is out to harm them  to weaken them  to kill them  at one point in my career  i had a long conversation with a man who occupied a high government position in an african nation  he told me that he was well aware of this  he told me that who is a front for these depopulation interests\n",
      "---\n",
      "you know it’s the end of the world when they force you to take the vaccine\n",
      "---\n",
      "the vaccine doesn’t prevent you from spreading covid so how are you protecting people \n",
      "---\n",
      "the day is coming where journalism like yours is about to be held to account    i for one will never allow people like you to fill me with poison   https   accounts google com servicelogin service youtube uilel   passive true continue https  a  f  fwww youtube com  fsignin  faction handle signin  dtrue   app  ddesktop   hl  dde   next  d    fwatch    fv    dhfhbpvmrvx  hl de\n",
      "---\n",
      "how can there be any scientific evidence when the information is controlled and taken down  the science we know is their science  one way road  let us hear the two sides of the story and let people judge for themselves  we have brains  let us think \n",
      "---\n",
      "I will have a more severe reaction to the vaccine than i ever would with the virus  so why get the vaccine \n",
      "---\n",
      "so we get the vaccine but we can still get c     so we have to keep wearing masks and distancing  and we might have fever and muscle aches for       hours  wow  where can i sign up    \n",
      "---\n",
      "once all of humanity is vaccinated for the covit   and is sickened and dying then the international health community would have accomplished there goal of depopulation so the earth can be saved for them\n",
      "---\n",
      "hahaha you only believe in western medicine  you fool  do some research before commenting  clown\n",
      "---\n",
      "it is better to take chances of survival with corona than this vaccine\n",
      "---\n",
      "this lady where my dad works died from the vaccine\n",
      "---\n",
      "in my country  we are doing much better   no need of the vaccine\n",
      "---\n",
      "then there is the theory that covid    vaccination will be a ploy to microchip people as we do pets \n",
      "---\n",
      "my son got the measles from mmr vaccine  syringe   my family got the flu from the free flu shot  syringe   and we will not be submitted to this evil \n",
      "---\n",
      "in portugal    year old nurse died   days after pfizer biontech first vaccine dose  she was healthy \n",
      "---\n",
      "my dad s    got diagnosed with terminal cancer at the beginning of lock down sadly  it is a no from his aswel \n",
      "---\n",
      "what’s in the vaccine  like the specific chemicals or whatever that make up the covid    vaccine \n",
      "---\n",
      "advance r i p  to those who will take covid vaccines \n",
      "---\n",
      "i  nor my family will take the covid shot  ever \n",
      "---\n",
      "what good is a vaccine that is supposed to especially help the frail and vulnerable if it kills them \n",
      "---\n",
      "you may also get cancer or die in a year or two of a violent reaction to something that used to be harmless to you  some scientists have suggested this   who knows  also  we will not be free to do whatever we want regarding the vaccine  as you will soon see \n",
      "---\n",
      "pfizer expects to make     billion in sales of its covid    vaccine  that will make it the second highest revenue of any drug  anytime  anywhere\n",
      "---\n",
      "there was not yet enough evidence from vaccine trials  to be confident that it is going to prevent people from actually getting the infection and therefore being able to pass it on\n",
      "---\n",
      "no  i feel like all three of the covid vaccinations have been rushed  i want to hear about the side effects to the first people who have taken them  from the volunteers who did a trial with this  i haven’t heard anything positive\n",
      "---\n",
      "micro chipped for all\n",
      "---\n",
      "i got the vaccine i had a mild headache sore injection sight  mild  like someone punching you in the arm during the game  slug bug  lol i got a back ache  mild to medium depending on your pain tolerance  my girlfriend got the same symptoms we are smokers idk if that causes anything different    i feel so much safer now tho i recommend it all the residents at my group home were vaccinated today as well it was   weeks to late though a cook who did not wear her mask properly every   with chronic allergies was infected and spread it to       residents    and up       of which passed away in one week from covid at its worst    of the    residents went to the hospital for    days or so defending  i say all this because if your scared of the vaccine do it for someone you care about and not for yourself because covid and mask if no big deal until one person does not follow the protocols and now u have a a wildfire spread throughout your work or family home  i was scared at to get vaccinated but i had to be the first at my job to show othersthat its safe \n",
      "---\n",
      "the law should change   force them to take the vaccine or stay in jail for   yrs lol\n",
      "---\n",
      "yeah because everyone is so excited for vaccines  it was not good enough that we drink and eat posion now they want us to inject it in to us\n",
      "---\n",
      "taking a vaccine is the price we pay for living in a modern society \n",
      "---\n",
      "i opted out of it at work  i went back to work the day after my residences got theirs   i was not a pretty sight  a lot of them were in a lot of pain  had really bad head aches  just did not feel well  \n",
      "---\n",
      "and we are supposed to believe all this crap \n",
      "---\n",
      "keep this off my face book  vaccine china propaganda machine\n",
      "---\n",
      "the side affects may include being amune to covid   \n",
      "---\n",
      "I am sure there will be a many more vaccine horror stories \n",
      "---\n",
      "i’m from the uk and i’m so very sick   weeks after taking the vaccine please beware i have arthritis and it’s much worse it makes you feel like you’re dying\n",
      "---\n",
      "i dont believe it   \n",
      "---\n",
      "I will take the vaccine if I am paid     million dollars cash no taxes  \n",
      "---\n",
      "i do not feel like i need it  im    and perfectly healthy  old and weak people can get it first\n",
      "---\n",
      "the covid mutation is far more rapid than the vaccination \n",
      "---\n",
      "screw getting this vaccine\n",
      "---\n",
      "people be like dropping dead hours   days after the vaccine and it’s ‘ we have no evidence it’s to do with the vaccine ‘   these people really think we’re stupid\n",
      "---\n",
      "its fake news   covid and vaccise is hoax\n",
      "---\n",
      "how many more people need to be killed or maimed before we stop saying this thing is  safe     \n",
      "---\n",
      "i’m sorry but are people being contrarian for the sake of it  does anyone actually have a problem with mandatory vaccinations \n",
      "---\n",
      "ft   israel has more than     vaccination but their new covid cases are not diminishing  any analysis you can provide  thanks \n",
      "---\n",
      "considering the risks and threats of this biological agent  only a truly insane man would go for the injection\n",
      "---\n",
      "do not vaccinate   your kids will be disabled\n",
      "---\n",
      "can we stop calling it a vaccine\n",
      "---\n",
      "you guys do understand that being against the covid vaccine is not the same as being anti vaccines right \n",
      "---\n",
      "work for a major healthcare provider and even then they’ll only provide upto for going to get it  some of my coworkers are even holding off getting the vaccine for that very reason \n",
      "---\n",
      "psuedo science  logic   no one dies from the vaccine because we attribute all deaths to covid \n",
      "---\n",
      "so if we are doing a risk benefit analysis of getting the vax or contracting it naturally and my risk is very low of either dying or having permanent damage     then why am i getting this vax again \n",
      "---\n",
      "i rather get covid and be done with it than to take the vaccine\n",
      "---\n",
      "it doesn’t seem that either one of them would rush you get the vaccine  i am     and i am certainly not \n",
      "---\n",
      "it is true that there is not evidence of a pandemic \n",
      "---\n",
      "that’s exactly what i was thinking like i just want to wait to for more testing until i take it\n",
      "---\n",
      "yes  when you invest billions of dollars into vaccine development it becomes extremely difficult to allow a potentially better cheaper already existing option like ivermectin on to the playing field \n",
      "---\n",
      "ya right  remember when doctors recommended tobacco for good health \n",
      "---\n",
      "two nhs staff suffer anaphylaxis after the covid vaccine\n",
      "---\n",
      "I am running a vaccine trial with myself as the guinea pig      good food  vitamin d  sleep and social distancing  so far it is      effective \n",
      "---\n",
      "i have seen videos of side effects \n",
      "---\n",
      "the media coverage misinformation  government bureaucracy  and peoples  unrealistic expectations and lack of patience based on the logistical difficulties  please stop telling the general public they can get a covid vaccine at any local pharmacy  let us handle things when we actually secure said product and stop wasting everyones  time giving people false information about where when people can get covid vaccinations \n",
      "---\n",
      "vaccines is the mindgames of satan to control humans\n",
      "---\n",
      "im scared that i will get the side effects\n",
      "---\n",
      "even the your vaccinated you can still spread it\n",
      "---\n",
      "true story  person tests negative for “covid”   times and is in good health  person receives vaccine and becomes seriously ill immediately  all with knowledge of this are worried and accept vaccine as the culprit  medical professionals acknowledge vaccine reaction day day after\n",
      "---\n",
      "tens of thousands of people who have convictions for drug offences  fraud  dishonesty  assault  football hooliganism etc etc will soon find their future horizons are very limited  incl being barred from foreign holiday destinations  once covid controls have been lifted \n",
      "---\n",
      "who would take the vaccine without doing thorough research   sheep\n",
      "---\n",
      "it does not help that rna vaccines crash your lymphocyte counts for up to a week  leaving you open to infections  possibly including covid   they do know about this from both the b    b  trials \n",
      "---\n",
      "covid vacine is a rothschild s plot\n",
      "---\n",
      "the vaccine was never necessary because         of people survive covid and when someone survives it  that person becomes immune and will not be capable of passing it onto people  and when enough people have gotten it  herd immunity takes effect and covid goes extinct  by slowing the spread of covid which is a relatively harmless virus  you are giving it chances to mutate and therefore inhibiting herd immunity \n",
      "---\n",
      "best vaccine  stop eating processed food  exercise  do intermittent fasting and get a little sun light  without sun screen  \n",
      "---\n",
      "no one should be tracked or forced into vaccines  the governments already starting to control us  there making us wear masks  making us stop working  making us social distance  the governments controlling our lives and it’s crazy \n",
      "---\n",
      "zero covid is incredibly easy to achieve  getting to minimal cases more so  as many counties are proving  we just do not have the discipline  we have a narcissistic culture instead  many do not have the intellectual capacity to do what needs to be done  so we are relying on vaccines\n",
      "---\n",
      "the guardian doing its part to push the vaccine agenda \n",
      "---\n",
      "my mom in lb received a whatsapp list of    categories who should not receive covid vaccine  it includes very random categories  like those with high blood pressure  as far as i know  only pregnant women are advised against it  or am i missing something \n",
      "---\n",
      "side effects  you get to live  youre welcome\n",
      "---\n",
      "well  i cannot be the only person scared shitless by these scientists giving it their best  reckon  \n",
      "---\n",
      "this vaccine will be the end of us\n",
      "---\n",
      "why would we need a vaccine when there are medications that work  \n",
      "---\n",
      "i thought it was done using the  bypassing all required testing and get it done as quickly as possible approach   combined with the  let us produce tens of millions of doses while we are still testing it  so we can make the most money out of this bs plandemic approach     \n",
      "---\n",
      "bbc lies     of the time according to top scientists\n",
      "---\n",
      "herd immunity takes effect and covid goes extinct \n",
      "---\n",
      "i just watched a video that said people can turn into a reptile after taking the vaccine\n",
      "---\n",
      "I will have the vaccine   when it is been around a lot longer and all the side effects are known\n",
      "---\n",
      "should keep in mind that        of hospitalizations occur in about     of the population  everyone does not need to be vaccinated in order to make a big difference \n",
      "---\n",
      "i hate to say it but this is starting to look like natural selection on a vast scale  thousands of cars formed queues miles long and waited for hours to get vaccinated at dodger stadium in los angeles  hundreds of people tried to hand them leaflets with information about the  vaccine   it is ingredients and it is dangers  the sheep kept their car windows tightly closed  just like little children sticking their fingers in their ears and yelling  na na na na   those pamphlets could have saved their lives \n",
      "---\n",
      "alrhough i do not understand everything  at least i understand something  ty  jesus bless you medcram\n",
      "---\n",
      "i cannot believe johnson and johnson even have the nerve to come out with a vaccine when they had baby powder lawsuits\n",
      "---\n",
      "bruhhhh how are vaccines even real if diseases arent real\n",
      "---\n",
      "many people i talk with at work have said they will not get the vaccine and it pisses me off because they in my opinion are no better than the people who do not wear masks and do not wash hands and are one of the major reasons the virus has spread…\n",
      "---\n",
      "vaccine doesn’t stop the spread  even if everyone got the vaccine the virus can still spread  the virus is likely to stop you from getting very sick if you get covid  but not certainly  basically  we all are gonna get covid and that’s the only way out of this\n",
      "---\n",
      "i will just remain a recluse for the rest of my life rather than take this vax    nope \n",
      "---\n",
      "all those vaccines made you autistic  as expected\n",
      "---\n",
      "too many are jumping to get this vaccine thinking it is a lifeline  when it could be a sinker \n",
      "---\n",
      "read psalms     the best protection against covid without side effects  no mercenaries involved\n",
      "---\n",
      "well  vaccine was      effective in killing a doctor from brazil last year  look at the history of vaccine  the  st polio vaccine that went out to the kids in quartine died from the  st batch of vaccines  the news is so biased not a single episode has been based  i want ingredients for vaccine and pros and cons \n",
      "---\n",
      "this is amezing wwery gratefull for this good explanation\n",
      "---\n",
      "the vaccine cannot save you from judgement day \n",
      "---\n",
      "considering the risks and threats of this biological agent  only a truly insane man would go for the injection \n",
      "---\n",
      "free   my coronavirus shot  up for grabs          \n",
      "---\n",
      "ps  once people have gotten the vaccine they are even more likely to spread the virus \n",
      "---\n",
      "just wtire this down  i will prefer to fight the covid    through drinks and helping medicin that taking the vaccin \n",
      "---\n",
      "back then i think vaccines did save lives because they were not in the hands of psychos unlike today \n",
      "---\n",
      "the vaccine is safe it might just kill you \n",
      "---\n",
      "well my mom started losing her hair so it must be a good thing right \n",
      "---\n",
      "stop vaxxing healthy people \n",
      "---\n",
      "how can u speak for   billion people  i bet only the     brainwashed will get the vaccine  and have a look how many have been killed thanks to the vaccine \n",
      "---\n",
      "I will do without a vaccine thank you  I have done perfectly well taking vitamins \n",
      "---\n",
      "they do not work  merck  one of the vaccine manufacturers  has said it is better to get the virus and recover from it than to take the vaccine \n",
      "---\n",
      "paid advertising of pfizer vaccines  and is the funny hat also from pfizer  well done \n",
      "---\n",
      "we live in the age of misinformation  more people would rather believe some random post they saw a friend post on facebook than listen to an actual scientist  truly crazy times we live in\n",
      "---\n",
      "interesting that anti bodies only last a few month   but vaccine works  \n",
      "---\n",
      "vaccination is to reduce population     \n",
      "---\n",
      "i’m a registered nurse and i refuse to get it \n",
      "---\n",
      "good  nobody wants it  we will resist with force \n",
      "---\n",
      "a few prominent scientists are saying mrna vaccines have the potential to make women infertile\n",
      "---\n",
      "first  don’t talk to us as we are clueless kids  second  i watched this video till the end just to hear your main argument for safety is “ science is awesome ” common  for the first time in history you tell the human cell to produce a foreign particle that the immune system detects as threat  and all you have to say is “awesome”   this is the main reason why folks are concerned and there is absolutely no credible explanation offered as to how this mechanism of artificial manipulation of human cell to manufacture a part of the virus is safe  “normal” and harmless \n",
      "---\n",
      "do not let them use fear to drive their agenda \n",
      "---\n",
      "i cannot wait until i catch covid    but i do refuse to take the shot \n",
      "---\n",
      "bill gates   there is too many people on the planet  we need to reduce it   also bill gates   we need to vaccinate people in order to save lives  \n",
      "---\n",
      "if you are not in a vulnerable so the chances of you being even seriously ill are say   in         then the vaccine has to be safer than that  it is a simple balance of risk  i would not take the flu jab each year if it was likely to cause a severe asthma attack  I had risk the flu despite my asthma\n",
      "---\n",
      "I had love to see another video with both of you getting the vaccine and then reporting a day a week later how your feeling\n",
      "---\n",
      "it is amazing how a vaccine can be made in a couple of weeks for a new variant  i smell bullshit\n",
      "---\n",
      "I am pro vaccine  but not when it comes to experimental vaccines like these \n",
      "---\n",
      "I am so happy that my grandparents do not wanna take it  big no  \n",
      "---\n",
      "these vaccinations need to be stopped right now \n",
      "---\n",
      "ever heard of herd immunity  take the fucking vaccine you dumdum\n",
      "---\n",
      "I am fine with it  more vaccine for those who need it \n",
      "---\n",
      "not too bothered about the  after jab  effect but i have chosen to decline the vaccine  as have other family members  good luck to all making their choices \n",
      "---\n",
      "to vaccinate the world you need lots of brainwashing to someones and lots of threats or intimidations to others  can not be done without these methods\n",
      "---\n",
      "can your next video be about the vaccine deaths that have been covered up    ðÿ˜‚ smiling during your video just makes you appear even more evil than lining your pockets to sell out your integrity \n",
      "---\n",
      "all my coworkers went and got the covid vaccine today and made some post sounding like they didn’t want to but it was “doing their part to get their students back ” i could never \n",
      "---\n",
      "i don’t think we will even need a vaccine to end this pandemic\n",
      "---\n",
      "when vaccines and military combine  well use your imagination\n",
      "---\n",
      "i though a vaccine has to be tested against the actual virus before it should even be called a vaccine for it  lets just call it what it is  a guess \n",
      "---\n",
      "once there is some honesty and transparency in the reporting of side effects and associated deaths   switzerland declines to authorise astrazeneca vaccine \n",
      "---\n",
      "it is the beginning of the end of freedom   screw the vaccine  \n",
      "---\n",
      "ur mad if you take it\n",
      "---\n",
      "keep calm and get get bill and melinda in ur arm \n",
      "---\n",
      "it’s the needle for me\n",
      "---\n",
      "almost every complication shows up within two weeks  so far  the mild side effects are the ones you want\n",
      "---\n",
      "you can still catch covid with the vaccines  or without it use common sense for me the vaccine was rushed just for a billion dollar profit  people die every day from other natural causes or other complication with in themselves thats part of live  go to the dr for a stubded toe and you got covid and get charged        for a covid test that cost      to make stay healthy and be safe and this to shall pass \n",
      "---\n",
      "ironic that these children s parents are vaccinated and fine   well as fine as you can get to prefer a dead kid over an autistic kid  anyone who wants a dead child over an autistic kid does not even deserve a kid \n",
      "---\n",
      "health care worker dies after second dose of  covid  vaccine \n",
      "---\n",
      "I had rather inject myself with runnypoo\n",
      "---\n",
      "i had a bad reaction to the only flu shot that i got  even though i am in and out of hospitals all day  i’m waiting to get vaccinated until more information comes out about it \n",
      "---\n",
      "better get your shot british covid baby and africa ebola covid baby could meet up and bring forth godzilla s revenge  or world war z  i admit I have watched that movie a few times this last year  prep work  keep your vaccine  i never touch the stuff  ever  \n",
      "---\n",
      "total nonsense   the vaccin is already mutating    its a normal flu virus   its a plan of wef    the world will be hel \n",
      "---\n",
      "my friend took the vaccine she’s seriously messed up now i took a video of her on my channel  messed up stuff man       \n",
      "---\n",
      "sounds like one is playing the russian rulet when choosing to take the vaccine\n",
      "---\n",
      "would another way of looking at these deaths be this  the same people who are fatally vulnerable to covid    are also fatally vulnerable to the vaccine for the same reasons  if this is a correct statement  then doesn’t this cast doubt on the benefit of this vaccine \n",
      "---\n",
      "america wouldn’t need a vaccine so quickly if people grew up and did what they were supposed to do during the pandemic   \n",
      "---\n",
      "the question is why the ceo of pfizer doesnt want to take the vaccine  grinning face with smiling eyes \n",
      "---\n",
      "when anti vaxxers refuse they vaccine they must also be made to sign a waiver that neither them or any of their family will receive treatment by the nhs when they catch covid     and they are locked in quarantine until they die recover  simples \n",
      "---\n",
      "i dont make the vaccine thank you\n",
      "---\n",
      "fine  don’t take the vaccine  enough people will take it to counter your ignorance  just don’t expect to be allowed to travel across any international borders \n",
      "---\n",
      "medical tyranny not allowed to think for your self but must obey a medical expert against your own self preservation\n",
      "---\n",
      "they are volunteering for vaccines for getting off loans    we know where we failed\n",
      "---\n",
      "covid    awareness and vaccination has been recorded as a sustainable aids\n",
      "---\n",
      "one of the medical profession s greatest boasts is that it eradicated smallpox through the use of the smallpox vaccine  i myself believed this claim for many years  but it simply is not true \n",
      "---\n",
      "i wonder if this data will bring about a change in the policies of some countries not to use this vaccine on the over   s  lets hope its not too late for this obvious error to be corrected \n",
      "---\n",
      "is it true mrna vaccines can change the cells in your body and by that i mean in a bad way\n",
      "---\n",
      "ah yes  the karen’s have come together to make the ultimate cringe\n",
      "---\n",
      "vaccination should be given to those who claim its safe \n",
      "---\n",
      "but you can’t say it’s better than getting covid when a third have no symptoms and the vast majority of the rest have mild symptoms   i’ve had covid twice now and only had a mild cough  i won’t be having the vaccine  i’m not anti vax but i am pro safety too many unknowns for me\n",
      "---\n",
      "nobody should be getting this  vaccine  end of story \n",
      "---\n",
      "i do not consider vaccines for myself unless the disease is really serious   not from an obvious nutrient deficiency \n",
      "---\n",
      "my son’s girlfriend got her second moderna vaccine today and she’s sick with a fever    she feels like she has covid again \n",
      "---\n",
      "i found myself an integrative doctor  she is fantastic  she even said the covid vaccine is bad and she wouldn’t be giving it \n",
      "---\n",
      "let us remember      as the year when moribund institutions killed almost   million people  with the help of a moderately bad virus we had a vaccine for in fucking january\n",
      "---\n",
      "I will take my chances without the vaccine thank you\n",
      "---\n",
      "researchers have found a surprising link between covid    and erectile dysfunction in men who recovered from the disease  both short and long term  it stands to reason that the vaccine would do the same thing \n",
      "---\n",
      "the fatality rate of the vaccine looks to overtake covid  in healthy people nonetheless \n",
      "---\n",
      "its a human right to reject any form of foreign body been injected into your arm  I am pro vaccine but i respect people s opinions and choices because     are not we free  \n",
      "---\n",
      "covid    is a lie  and a hoax  everyone pushing it and the vaccines  are going to pay  personally  wait and see \n",
      "---\n",
      "sterilising the new generations  the future of mankind  \n",
      "---\n",
      "we been in this planet for thousands of years without vaccines  now they telling us that we need one \n",
      "---\n",
      "you can have my vaccine  i have just declined it  and i am still in perfect health  \n",
      "---\n",
      "i am also skeptical about the vaccine\n",
      "---\n",
      "anti vax  or free choice \n",
      "---\n",
      "not unless i am given a list of every single ingredient in the vaccine  and because i ask for the list of ingredients they must comply  the reason for asking is they have a tendency to put in additional “unnecessary” ingredients on vaccines that actually cause health problems \n",
      "---\n",
      "the moment anti vaxx say vaccines cause autism that is when i plug my ears and compassion goes out the window\n",
      "---\n",
      "hearing that the person got transverse myelitis and paralysis of hands and feet  it would not be the first time that these type of sars vaccine had that side effect  we have to wait\n",
      "---\n",
      "I am too allergic to medications and vaccines  I am not afraid of getting covid and will not be getting it  my surgeon who was doing my foot surgery had his second dose and had to be hospitalized  nope\n",
      "---\n",
      "israeli data supports pfizer vaccine effectiveness           fully vaccinated     positive covid cases\n",
      "---\n",
      "so you have a chance to die twice  d who would not want that  update  xxxxxxxxxxxxxxxx just answered that dudes question lets see if youtube will post it  o\n",
      "---\n",
      "my current expectation is no  however i live in australia  where covid    is virtually eradicated \n",
      "---\n",
      "i cannot wait to still have to wear a mask everywhere after i finally get vaccinated \n",
      "---\n",
      "i want everyone to be safe and healthy  i want covid numbers to go down \n",
      "---\n",
      "if you claim to discover a vaccine for  covid    just keep it to yourself   africa prefers  covid   over your  novaccineforme\n",
      "---\n",
      "take your vax and shove it as hard as humanly possible up your a  \n",
      "---\n",
      "funny have people say you’re gambling by not vaccinating your child  don’t they realize you’re also gambling by vaccinating your child\n",
      "---\n",
      "you can all take it but don’t make me or my family that’s all i ask and good luck with a vaccine i hope it works out the best for you since there’s not much to know about it but i guess we’ll find out in time more and more people that take it hope nothing bad happens to you all and end up being worse than the virus itself\n",
      "---\n",
      "fabiafidus   minuscule    so you’d be fine if that   death in       is your child  partner  parent or sibling  bet you couldn’t say yes  just one life taken from a vaccine is unacceptable  \n",
      "---\n"
     ]
    }
   ],
   "source": [
    "# Errors for anti-vaccination\n",
    "for i in range(len(Ypred)):\n",
    "  if Ypred[i] != Ytest.values[i] and Ytest.values[i]==0:\n",
    "    print(Xtest.values[i])\n",
    "    print('---')"
   ]
  },
  {
   "cell_type": "markdown",
   "metadata": {
    "id": "8syrm4RZiKJq"
   },
   "source": [
    "#### No Emoji conversion and stop word removal"
   ]
  },
  {
   "cell_type": "code",
   "execution_count": 69,
   "metadata": {
    "id": "4K0rbl97id1C"
   },
   "outputs": [],
   "source": [
    "training = data.copy()\n",
    "X = training['comment']\n",
    "Y = training['label']\n",
    "Xtrain, Xtest, Ytrain, Ytest = train_test_split(X, Y, test_size=0.3, random_state=0)\n",
    "Ytrain = Ytrain.astype('int')\n",
    "Ytest = Ytest.astype('int')"
   ]
  },
  {
   "cell_type": "code",
   "execution_count": 70,
   "metadata": {
    "colab": {
     "base_uri": "https://localhost:8080/"
    },
    "id": "Dq71EqyWid1I",
    "outputId": "bcd3c38c-b60b-4f03-dd96-1356281ec402"
   },
   "outputs": [
    {
     "data": {
      "text/plain": [
       "Pipeline(memory=None,\n",
       "         steps=[('tfidfvectorizer',\n",
       "                 TfidfVectorizer(analyzer='word', binary=False,\n",
       "                                 decode_error='strict',\n",
       "                                 dtype=<class 'numpy.float64'>,\n",
       "                                 encoding='utf-8', input='content',\n",
       "                                 lowercase=True, max_df=1.0, max_features=None,\n",
       "                                 min_df=1, ngram_range=(1, 2), norm='l2',\n",
       "                                 preprocessor=None, smooth_idf=True,\n",
       "                                 stop_words={'a', 'about', 'above', 'after',\n",
       "                                             'again', 'all', 'am',...\n",
       "                                             'do', 'does', 'doing', 'down',\n",
       "                                             'during', ...},\n",
       "                                 strip_accents=None, sublinear_tf=False,\n",
       "                                 token_pattern='(?u)\\\\b\\\\w\\\\w+\\\\b',\n",
       "                                 tokenizer=None, use_idf=True,\n",
       "                                 vocabulary=None)),\n",
       "                ('linearsvc',\n",
       "                 LinearSVC(C=1.0, class_weight=None, dual=True,\n",
       "                           fit_intercept=True, intercept_scaling=1,\n",
       "                           loss='squared_hinge', max_iter=1000,\n",
       "                           multi_class='ovr', penalty='l2', random_state=42,\n",
       "                           tol=0.0001, verbose=0))],\n",
       "         verbose=False)"
      ]
     },
     "execution_count": 70,
     "metadata": {
      "tags": []
     },
     "output_type": "execute_result"
    }
   ],
   "source": [
    "lsvc_pipeline = make_pipeline( \n",
    "              TfidfVectorizer(stop_words=nltk_stopwords, ngram_range=(1, 2)), \n",
    "              LinearSVC(random_state=42)\n",
    "          )\n",
    "\n",
    "lsvc_pipeline.fit(Xtrain, Ytrain)"
   ]
  },
  {
   "cell_type": "markdown",
   "metadata": {
    "id": "0lzFHgIBid1L"
   },
   "source": [
    "##### Classification report"
   ]
  },
  {
   "cell_type": "code",
   "execution_count": 72,
   "metadata": {
    "colab": {
     "base_uri": "https://localhost:8080/"
    },
    "id": "_Utbiy5Rid1O",
    "outputId": "8d64cc2a-284f-4451-f0a3-22daa33e79e8"
   },
   "outputs": [
    {
     "name": "stdout",
     "output_type": "stream",
     "text": [
      "Linear SVC with no stop words\n",
      "              precision    recall  f1-score   support\n",
      "\n",
      "           0       0.80      0.83      0.81      1163\n",
      "           1       0.83      0.81      0.82      1243\n",
      "\n",
      "    accuracy                           0.82      2406\n",
      "   macro avg       0.82      0.82      0.82      2406\n",
      "weighted avg       0.82      0.82      0.82      2406\n",
      "\n"
     ]
    }
   ],
   "source": [
    "print(\"Linear SVC with no stop words\")\n",
    "lsvc_sw = classification_report(lsvc_pipeline.predict(Xtest), Ytest)\n",
    "print(classification_report(lsvc_pipeline.predict(Xtest), Ytest))"
   ]
  },
  {
   "cell_type": "code",
   "execution_count": 73,
   "metadata": {
    "colab": {
     "base_uri": "https://localhost:8080/",
     "height": 281
    },
    "id": "P-pPX2fvid1U",
    "outputId": "c3791abc-f033-46e4-9fd0-224d0dd3287b"
   },
   "outputs": [
    {
     "data": {
      "image/png": "[encoded data removed]",
      "text/plain": [
       "<Figure size 432x288 with 2 Axes>"
      ]
     },
     "metadata": {
      "needs_background": "light",
      "tags": []
     },
     "output_type": "display_data"
    }
   ],
   "source": [
    "cm = confusion_matrix(lsvc_pipeline.predict(Xtest), Ytest)\n",
    "ax = plt.axes()\n",
    "sns.heatmap(cm, annot=True, annot_kws={\"size\": 10}, fmt='d',cmap=\"Blues\", ax = ax )\n",
    "ax.set_title('Confusion Matrix')\n",
    "plt.show()"
   ]
  },
  {
   "cell_type": "markdown",
   "metadata": {
    "id": "kjLfEmLAjhEt"
   },
   "source": [
    "#### Emoji conversion and stop word removal"
   ]
  },
  {
   "cell_type": "code",
   "execution_count": 74,
   "metadata": {
    "id": "Jyh6CoHtjy2h"
   },
   "outputs": [],
   "source": [
    "training = data.copy()\n",
    "training =emoji_convert(training)\n",
    "training['comment'] = training['comment'].str.replace('[{}]'.format(string.punctuation), ' ')   # Removing punctuations\n",
    "X = training['comment']\n",
    "Y = training['label']\n",
    "Xtrain, Xtest, Ytrain, Ytest = train_test_split(X, Y, test_size=0.3, random_state=0)\n",
    "Ytrain = Ytrain.astype('int')\n",
    "Ytest = Ytest.astype('int')"
   ]
  },
  {
   "cell_type": "code",
   "execution_count": 75,
   "metadata": {
    "colab": {
     "base_uri": "https://localhost:8080/"
    },
    "id": "Lh4pImnZjy2p",
    "outputId": "74820062-8897-4154-b21f-53eee2e08825"
   },
   "outputs": [
    {
     "data": {
      "text/plain": [
       "Pipeline(memory=None,\n",
       "         steps=[('tfidfvectorizer',\n",
       "                 TfidfVectorizer(analyzer='word', binary=False,\n",
       "                                 decode_error='strict',\n",
       "                                 dtype=<class 'numpy.float64'>,\n",
       "                                 encoding='utf-8', input='content',\n",
       "                                 lowercase=True, max_df=1.0, max_features=None,\n",
       "                                 min_df=1, ngram_range=(1, 2), norm='l2',\n",
       "                                 preprocessor=None, smooth_idf=True,\n",
       "                                 stop_words={'a', 'about', 'above', 'after',\n",
       "                                             'again', 'all', 'am',...\n",
       "                                             'do', 'does', 'doing', 'down',\n",
       "                                             'during', ...},\n",
       "                                 strip_accents=None, sublinear_tf=False,\n",
       "                                 token_pattern='(?u)\\\\b\\\\w\\\\w+\\\\b',\n",
       "                                 tokenizer=None, use_idf=True,\n",
       "                                 vocabulary=None)),\n",
       "                ('linearsvc',\n",
       "                 LinearSVC(C=1.0, class_weight=None, dual=True,\n",
       "                           fit_intercept=True, intercept_scaling=1,\n",
       "                           loss='squared_hinge', max_iter=1000,\n",
       "                           multi_class='ovr', penalty='l2', random_state=42,\n",
       "                           tol=0.0001, verbose=0))],\n",
       "         verbose=False)"
      ]
     },
     "execution_count": 75,
     "metadata": {
      "tags": []
     },
     "output_type": "execute_result"
    }
   ],
   "source": [
    "lsvc_pipeline = make_pipeline( \n",
    "              TfidfVectorizer(stop_words=nltk_stopwords, ngram_range=(1, 2)), \n",
    "              LinearSVC(random_state=42)\n",
    "          )\n",
    "\n",
    "lsvc_pipeline.fit(Xtrain, Ytrain)"
   ]
  },
  {
   "cell_type": "markdown",
   "metadata": {
    "id": "lAZ7aKO_jy2r"
   },
   "source": [
    "##### Classification report"
   ]
  },
  {
   "cell_type": "code",
   "execution_count": 76,
   "metadata": {
    "colab": {
     "base_uri": "https://localhost:8080/"
    },
    "id": "ExO5dBPajy2t",
    "outputId": "9ff1e1c8-acc1-47ae-c0c6-38bd4c7519ec"
   },
   "outputs": [
    {
     "name": "stdout",
     "output_type": "stream",
     "text": [
      "Linear SVC with no stop words\n",
      "              precision    recall  f1-score   support\n",
      "\n",
      "           0       0.80      0.83      0.81      1162\n",
      "           1       0.83      0.81      0.82      1244\n",
      "\n",
      "    accuracy                           0.82      2406\n",
      "   macro avg       0.82      0.82      0.82      2406\n",
      "weighted avg       0.82      0.82      0.82      2406\n",
      "\n"
     ]
    }
   ],
   "source": [
    "print(\"Linear SVC with no stop words\")\n",
    "lsvc_emoji_sw =classification_report(lsvc_pipeline.predict(Xtest), Ytest)\n",
    "print(classification_report(lsvc_pipeline.predict(Xtest), Ytest))"
   ]
  },
  {
   "cell_type": "code",
   "execution_count": 77,
   "metadata": {
    "colab": {
     "base_uri": "https://localhost:8080/",
     "height": 281
    },
    "id": "lqUerM7Rjy2u",
    "outputId": "006397bd-8173-46c2-d2b9-8aae47b9967e"
   },
   "outputs": [
    {
     "data": {
      "image/png": "[encoded data removed]",
      "text/plain": [
       "<Figure size 432x288 with 2 Axes>"
      ]
     },
     "metadata": {
      "needs_background": "light",
      "tags": []
     },
     "output_type": "display_data"
    }
   ],
   "source": [
    "cm = confusion_matrix(lsvc_pipeline.predict(Xtest), Ytest)\n",
    "ax = plt.axes()\n",
    "sns.heatmap(cm, annot=True, annot_kws={\"size\": 10}, fmt='d',cmap=\"Blues\", ax = ax )\n",
    "ax.set_title('Confusion Matrix')\n",
    "plt.show()"
   ]
  },
  {
   "cell_type": "markdown",
   "metadata": {
    "id": "j6jbC8C3dXkD"
   },
   "source": [
    "#### No Emoji conversion and no stop word removal"
   ]
  },
  {
   "cell_type": "code",
   "execution_count": 78,
   "metadata": {
    "id": "gOnk-6McdkI5"
   },
   "outputs": [],
   "source": [
    "training = data.copy()\n",
    "X = training['comment']\n",
    "Y = training['label']\n",
    "Xtrain, Xtest, Ytrain, Ytest = train_test_split(X, Y, test_size=0.3, random_state=0)\n",
    "Ytrain = Ytrain.astype('int')\n",
    "Ytest = Ytest.astype('int')"
   ]
  },
  {
   "cell_type": "code",
   "execution_count": 79,
   "metadata": {
    "id": "5pyIG3vEdmUy"
   },
   "outputs": [],
   "source": [
    "from sklearn.pipeline import make_pipeline\n",
    "from sklearn.svm import LinearSVC\n",
    "from sklearn.metrics import classification_report, ConfusionMatrixDisplay, confusion_matrix\n"
   ]
  },
  {
   "cell_type": "code",
   "execution_count": 80,
   "metadata": {
    "colab": {
     "base_uri": "https://localhost:8080/"
    },
    "id": "IswGfKhjPNKQ",
    "outputId": "b972410f-31ab-40b9-ac92-9843e32561bc"
   },
   "outputs": [
    {
     "data": {
      "text/plain": [
       "Pipeline(memory=None,\n",
       "         steps=[('tfidfvectorizer',\n",
       "                 TfidfVectorizer(analyzer='word', binary=False,\n",
       "                                 decode_error='strict',\n",
       "                                 dtype=<class 'numpy.float64'>,\n",
       "                                 encoding='utf-8', input='content',\n",
       "                                 lowercase=True, max_df=1.0, max_features=None,\n",
       "                                 min_df=1, ngram_range=(1, 2), norm='l2',\n",
       "                                 preprocessor=None, smooth_idf=True,\n",
       "                                 stop_words=None, strip_accents=None,\n",
       "                                 sublinear_tf=False,\n",
       "                                 token_pattern='(?u)\\\\b\\\\w\\\\w+\\\\b',\n",
       "                                 tokenizer=None, use_idf=True,\n",
       "                                 vocabulary=None)),\n",
       "                ('linearsvc',\n",
       "                 LinearSVC(C=1.0, class_weight=None, dual=True,\n",
       "                           fit_intercept=True, intercept_scaling=1,\n",
       "                           loss='squared_hinge', max_iter=1000,\n",
       "                           multi_class='ovr', penalty='l2', random_state=42,\n",
       "                           tol=0.0001, verbose=0))],\n",
       "         verbose=False)"
      ]
     },
     "execution_count": 80,
     "metadata": {
      "tags": []
     },
     "output_type": "execute_result"
    }
   ],
   "source": [
    "lsvc_pipeline = make_pipeline( \n",
    "              TfidfVectorizer(stop_words=None, ngram_range=(1, 2)), \n",
    "              LinearSVC(random_state=42)\n",
    "          )\n",
    "\n",
    "lsvc_pipeline.fit(Xtrain, Ytrain)"
   ]
  },
  {
   "cell_type": "markdown",
   "metadata": {
    "id": "maM1gbe2he89"
   },
   "source": [
    "##### Classification report"
   ]
  },
  {
   "cell_type": "code",
   "execution_count": 81,
   "metadata": {
    "colab": {
     "base_uri": "https://localhost:8080/"
    },
    "id": "0cW7JOAwPfPq",
    "outputId": "a7b59e37-897a-400d-d527-44845cff24e9"
   },
   "outputs": [
    {
     "name": "stdout",
     "output_type": "stream",
     "text": [
      "Linear SVC with no stop words\n",
      "              precision    recall  f1-score   support\n",
      "\n",
      "           0       0.80      0.85      0.83      1130\n",
      "           1       0.86      0.82      0.84      1276\n",
      "\n",
      "    accuracy                           0.83      2406\n",
      "   macro avg       0.83      0.83      0.83      2406\n",
      "weighted avg       0.83      0.83      0.83      2406\n",
      "\n"
     ]
    }
   ],
   "source": [
    "print(\"Linear SVC with no stop words\")\n",
    "print(classification_report(lsvc_pipeline.predict(Xtest), Ytest))\n",
    "lsvc_no = classification_report(lsvc_pipeline.predict(Xtest), Ytest)"
   ]
  },
  {
   "cell_type": "code",
   "execution_count": 82,
   "metadata": {
    "colab": {
     "base_uri": "https://localhost:8080/",
     "height": 281
    },
    "id": "ga682Q7gRji7",
    "outputId": "a3e10ab5-ac67-482f-93a0-3bc3a4f77395"
   },
   "outputs": [
    {
     "data": {
      "image/png": "[encoded data removed]",
      "text/plain": [
       "<Figure size 432x288 with 2 Axes>"
      ]
     },
     "metadata": {
      "needs_background": "light",
      "tags": []
     },
     "output_type": "display_data"
    }
   ],
   "source": [
    "import matplotlib.pyplot as plt\n",
    "import seaborn as sns\n",
    "\n",
    "cm = confusion_matrix(lsvc_pipeline.predict(Xtest), Ytest)\n",
    "ax = plt.axes()\n",
    "sns.heatmap(cm, annot=True, annot_kws={\"size\": 10}, fmt='d',cmap=\"Blues\", ax = ax )\n",
    "ax.set_title('Confusion Matrix')\n",
    "plt.show()"
   ]
  },
  {
   "cell_type": "markdown",
   "metadata": {
    "id": "XJLAziCRAF4J"
   },
   "source": [
    "### Finding feature importances"
   ]
  },
  {
   "cell_type": "code",
   "execution_count": 83,
   "metadata": {
    "colab": {
     "base_uri": "https://localhost:8080/"
    },
    "id": "2NozEDpYb_Wc",
    "outputId": "d70d8866-8fd1-46bd-a90b-92eb8ce100b9"
   },
   "outputs": [
    {
     "name": "stdout",
     "output_type": "stream",
     "text": [
      "[[-0.19307581 -0.19307581 -0.33311744 ... -0.28706544 -0.24680605\n",
      "  -0.24680605]]\n"
     ]
    }
   ],
   "source": [
    "feature_names = lsvc_pipeline.named_steps[\"tfidfvectorizer\"].get_feature_names()\n",
    "# print(len(feature_names))\n",
    "importances = lsvc_pipeline.steps[1][1].coef_\n",
    "print(importances)"
   ]
  },
  {
   "cell_type": "code",
   "execution_count": 84,
   "metadata": {
    "id": "Ms9gdPSyeF4Z"
   },
   "outputs": [],
   "source": [
    "df = pd.DataFrame(columns=[\"feature_names\", \"importances\"])\n",
    "df[\"feature_names\"] = feature_names\n",
    "df[\"importances\"] = importances[0]\n",
    "# print(len(importances))\n",
    "# df"
   ]
  },
  {
   "cell_type": "code",
   "execution_count": 85,
   "metadata": {
    "colab": {
     "base_uri": "https://localhost:8080/",
     "height": 419
    },
    "id": "2H_A4EEdgG25",
    "outputId": "b59158ef-2c29-48c1-909d-ad61ec6c0fee"
   },
   "outputs": [
    {
     "data": {
      "text/html": [
       "<div>\n",
       "<style scoped>\n",
       "    .dataframe tbody tr th:only-of-type {\n",
       "        vertical-align: middle;\n",
       "    }\n",
       "\n",
       "    .dataframe tbody tr th {\n",
       "        vertical-align: top;\n",
       "    }\n",
       "\n",
       "    .dataframe thead th {\n",
       "        text-align: right;\n",
       "    }\n",
       "</style>\n",
       "<table border=\"1\" class=\"dataframe\">\n",
       "  <thead>\n",
       "    <tr style=\"text-align: right;\">\n",
       "      <th></th>\n",
       "      <th>feature_names</th>\n",
       "      <th>importances</th>\n",
       "    </tr>\n",
       "  </thead>\n",
       "  <tbody>\n",
       "    <tr>\n",
       "      <th>22864</th>\n",
       "      <td>hope</td>\n",
       "      <td>1.876005</td>\n",
       "    </tr>\n",
       "    <tr>\n",
       "      <th>60401</th>\n",
       "      <td>yes</td>\n",
       "      <td>1.698532</td>\n",
       "    </tr>\n",
       "    <tr>\n",
       "      <th>20505</th>\n",
       "      <td>great</td>\n",
       "      <td>1.695464</td>\n",
       "    </tr>\n",
       "    <tr>\n",
       "      <th>54881</th>\n",
       "      <td>vaccinated</td>\n",
       "      <td>1.587498</td>\n",
       "    </tr>\n",
       "    <tr>\n",
       "      <th>55047</th>\n",
       "      <td>vaccination</td>\n",
       "      <td>1.527133</td>\n",
       "    </tr>\n",
       "    <tr>\n",
       "      <th>...</th>\n",
       "      <td>...</td>\n",
       "      <td>...</td>\n",
       "    </tr>\n",
       "    <tr>\n",
       "      <th>1872</th>\n",
       "      <td>am not</td>\n",
       "      <td>-2.000214</td>\n",
       "    </tr>\n",
       "    <tr>\n",
       "      <th>38710</th>\n",
       "      <td>poison</td>\n",
       "      <td>-2.026200</td>\n",
       "    </tr>\n",
       "    <tr>\n",
       "      <th>33305</th>\n",
       "      <td>no</td>\n",
       "      <td>-2.264533</td>\n",
       "    </tr>\n",
       "    <tr>\n",
       "      <th>32965</th>\n",
       "      <td>never</td>\n",
       "      <td>-2.472106</td>\n",
       "    </tr>\n",
       "    <tr>\n",
       "      <th>33762</th>\n",
       "      <td>not</td>\n",
       "      <td>-3.145844</td>\n",
       "    </tr>\n",
       "  </tbody>\n",
       "</table>\n",
       "<p>61237 rows × 2 columns</p>\n",
       "</div>"
      ],
      "text/plain": [
       "      feature_names  importances\n",
       "22864          hope     1.876005\n",
       "60401           yes     1.698532\n",
       "20505         great     1.695464\n",
       "54881    vaccinated     1.587498\n",
       "55047   vaccination     1.527133\n",
       "...             ...          ...\n",
       "1872         am not    -2.000214\n",
       "38710        poison    -2.026200\n",
       "33305            no    -2.264533\n",
       "32965         never    -2.472106\n",
       "33762           not    -3.145844\n",
       "\n",
       "[61237 rows x 2 columns]"
      ]
     },
     "execution_count": 85,
     "metadata": {
      "tags": []
     },
     "output_type": "execute_result"
    }
   ],
   "source": [
    "df.sort_values(by='importances',ascending=False)"
   ]
  },
  {
   "cell_type": "markdown",
   "metadata": {
    "id": "ALldJcYJlQxg"
   },
   "source": [
    "## Observations made for Linear SVC classifier"
   ]
  },
  {
   "cell_type": "code",
   "execution_count": 86,
   "metadata": {
    "colab": {
     "base_uri": "https://localhost:8080/"
    },
    "id": "9MOUKmCvif2n",
    "outputId": "392e5048-6b81-46eb-b455-7fcf1b9c71c3"
   },
   "outputs": [
    {
     "name": "stdout",
     "output_type": "stream",
     "text": [
      "              precision    recall  f1-score   support\n",
      "\n",
      "           0       0.80      0.85      0.82      1131\n",
      "           1       0.86      0.81      0.84      1275\n",
      "\n",
      "    accuracy                           0.83      2406\n",
      "   macro avg       0.83      0.83      0.83      2406\n",
      "weighted avg       0.83      0.83      0.83      2406\n",
      "\n"
     ]
    }
   ],
   "source": [
    "#converting emoji to words and not removing stop words\n",
    "print(lsvc_emoji)"
   ]
  },
  {
   "cell_type": "code",
   "execution_count": 87,
   "metadata": {
    "colab": {
     "base_uri": "https://localhost:8080/"
    },
    "id": "lhxpwyF1il4n",
    "outputId": "26428b14-b8dd-4224-c765-3325ec6eb9a4"
   },
   "outputs": [
    {
     "name": "stdout",
     "output_type": "stream",
     "text": [
      "              precision    recall  f1-score   support\n",
      "\n",
      "           0       0.80      0.83      0.81      1162\n",
      "           1       0.83      0.81      0.82      1244\n",
      "\n",
      "    accuracy                           0.82      2406\n",
      "   macro avg       0.82      0.82      0.82      2406\n",
      "weighted avg       0.82      0.82      0.82      2406\n",
      "\n"
     ]
    }
   ],
   "source": [
    "#Converting emojis to words and removing stop words\n",
    "print(lsvc_emoji_sw)"
   ]
  },
  {
   "cell_type": "code",
   "execution_count": 88,
   "metadata": {
    "colab": {
     "base_uri": "https://localhost:8080/"
    },
    "id": "dYBaR1kBil2T",
    "outputId": "17258504-cc30-4e8c-86a8-2fe261b57775"
   },
   "outputs": [
    {
     "name": "stdout",
     "output_type": "stream",
     "text": [
      "              precision    recall  f1-score   support\n",
      "\n",
      "           0       0.80      0.85      0.83      1130\n",
      "           1       0.86      0.82      0.84      1276\n",
      "\n",
      "    accuracy                           0.83      2406\n",
      "   macro avg       0.83      0.83      0.83      2406\n",
      "weighted avg       0.83      0.83      0.83      2406\n",
      "\n"
     ]
    }
   ],
   "source": [
    "#Keeping emojis and stop word\n",
    "print(lsvc_no)"
   ]
  },
  {
   "cell_type": "code",
   "execution_count": 89,
   "metadata": {
    "colab": {
     "base_uri": "https://localhost:8080/"
    },
    "id": "FXqZqL6gilzH",
    "outputId": "87dd4583-33ae-4db4-a55c-ab82bec777c9"
   },
   "outputs": [
    {
     "name": "stdout",
     "output_type": "stream",
     "text": [
      "              precision    recall  f1-score   support\n",
      "\n",
      "           0       0.80      0.83      0.81      1163\n",
      "           1       0.83      0.81      0.82      1243\n",
      "\n",
      "    accuracy                           0.82      2406\n",
      "   macro avg       0.82      0.82      0.82      2406\n",
      "weighted avg       0.82      0.82      0.82      2406\n",
      "\n"
     ]
    }
   ],
   "source": [
    "#keeping emojis and removing stop words\n",
    "print(lsvc_sw)"
   ]
  },
  {
   "cell_type": "markdown",
   "metadata": {
    "id": "TSkXTQtmkWRj"
   },
   "source": [
    "**By going through all the classification report for linear SVC, removing stop words reduces the quality of the model. So the linear SVC model (without removing stop words and converting emoji's to word) can accurately predict 80% of anti-vaccine cases and accurately predict 86% of pro-vaccine case. In addition, the model can detect 85% of total anti-vaccine cases and 81% total pro-vaccine. By keeping emoji, we can get same performance but support for both cases in former model is more balanced.**"
   ]
  },
  {
   "cell_type": "markdown",
   "metadata": {
    "id": "2WEzpgkFO9vY"
   },
   "source": [
    "### Logistic Regression"
   ]
  },
  {
   "cell_type": "code",
   "execution_count": 90,
   "metadata": {
    "id": "nRRlzlyqlyc8"
   },
   "outputs": [],
   "source": [
    "from sklearn.linear_model import LogisticRegression"
   ]
  },
  {
   "cell_type": "markdown",
   "metadata": {
    "id": "WOLNgrFclzsR"
   },
   "source": [
    "#### Emoji conversion and no stop word removal"
   ]
  },
  {
   "cell_type": "code",
   "execution_count": 91,
   "metadata": {
    "id": "RoyxyC50l-fp"
   },
   "outputs": [],
   "source": [
    "training = data.copy()\n",
    "training =emoji_convert(training)\n",
    "training['comment'] = training['comment'].str.replace('[{}]'.format(string.punctuation), ' ')   # Removing punctuations\n",
    "X = training['comment']\n",
    "Y = training['label']\n",
    "Xtrain, Xtest, Ytrain, Ytest = train_test_split(X, Y, test_size=0.3, random_state=0)\n",
    "Ytrain = Ytrain.astype('int')\n",
    "Ytest = Ytest.astype('int')"
   ]
  },
  {
   "cell_type": "code",
   "execution_count": 92,
   "metadata": {
    "colab": {
     "base_uri": "https://localhost:8080/"
    },
    "id": "botDhmynIcZv",
    "outputId": "855d05c2-b2f1-4a2f-9774-980cd0d7ff34"
   },
   "outputs": [
    {
     "data": {
      "text/plain": [
       "Pipeline(memory=None,\n",
       "         steps=[('tfidfvectorizer',\n",
       "                 TfidfVectorizer(analyzer='word', binary=False,\n",
       "                                 decode_error='strict',\n",
       "                                 dtype=<class 'numpy.float64'>,\n",
       "                                 encoding='utf-8', input='content',\n",
       "                                 lowercase=True, max_df=1.0, max_features=None,\n",
       "                                 min_df=1, ngram_range=(1, 2), norm='l2',\n",
       "                                 preprocessor=None, smooth_idf=True,\n",
       "                                 stop_words=None, strip_accents=None,\n",
       "                                 sublinear_tf=False,\n",
       "                                 token_pattern='(?u)\\\\b\\\\w\\\\w+\\\\b',\n",
       "                                 tokenizer=None, use_idf=True,\n",
       "                                 vocabulary=None)),\n",
       "                ('logisticregression',\n",
       "                 LogisticRegression(C=1.0, class_weight=None, dual=False,\n",
       "                                    fit_intercept=True, intercept_scaling=1,\n",
       "                                    l1_ratio=None, max_iter=100,\n",
       "                                    multi_class='auto', n_jobs=None,\n",
       "                                    penalty='l2', random_state=42,\n",
       "                                    solver='lbfgs', tol=0.0001, verbose=0,\n",
       "                                    warm_start=False))],\n",
       "         verbose=False)"
      ]
     },
     "execution_count": 92,
     "metadata": {
      "tags": []
     },
     "output_type": "execute_result"
    }
   ],
   "source": [
    "lr_pipeline = make_pipeline( \n",
    "              TfidfVectorizer(stop_words=None, ngram_range=(1, 2)), \n",
    "              LogisticRegression(random_state=42)\n",
    "          )\n",
    "\n",
    "lr_pipeline.fit(Xtrain, Ytrain)"
   ]
  },
  {
   "cell_type": "markdown",
   "metadata": {
    "id": "2NezHsw2mOmd"
   },
   "source": [
    "##### Classification report"
   ]
  },
  {
   "cell_type": "code",
   "execution_count": 93,
   "metadata": {
    "colab": {
     "base_uri": "https://localhost:8080/"
    },
    "id": "ljCYL4x9IlcR",
    "outputId": "d1b4f16e-7bae-497f-86c8-afd307fc49f7"
   },
   "outputs": [
    {
     "name": "stdout",
     "output_type": "stream",
     "text": [
      "Logistic Regression with no stop words removed: \n",
      "              precision    recall  f1-score   support\n",
      "\n",
      "           0       0.78      0.83      0.80      1125\n",
      "           1       0.84      0.79      0.82      1281\n",
      "\n",
      "    accuracy                           0.81      2406\n",
      "   macro avg       0.81      0.81      0.81      2406\n",
      "weighted avg       0.81      0.81      0.81      2406\n",
      "\n"
     ]
    }
   ],
   "source": [
    "print(\"Logistic Regression with no stop words removed: \")\n",
    "print(classification_report(lr_pipeline.predict(Xtest), Ytest))\n",
    "lr_emoji = classification_report(lr_pipeline.predict(Xtest), Ytest)"
   ]
  },
  {
   "cell_type": "code",
   "execution_count": 95,
   "metadata": {
    "colab": {
     "base_uri": "https://localhost:8080/",
     "height": 281
    },
    "id": "ncJQgtgaM-6X",
    "outputId": "5fea17c1-9adc-444a-a7a7-cd7bd323376a"
   },
   "outputs": [
    {
     "data": {
      "image/png": "[encoded data removed]",
      "text/plain": [
       "<Figure size 432x288 with 2 Axes>"
      ]
     },
     "metadata": {
      "needs_background": "light",
      "tags": []
     },
     "output_type": "display_data"
    }
   ],
   "source": [
    "import matplotlib.pyplot as plt\n",
    "import seaborn as sns\n",
    "\n",
    "cm = confusion_matrix(lr_pipeline.predict(Xtest), Ytest)\n",
    "ax = plt.axes()\n",
    "sns.heatmap(cm, annot=True, annot_kws={\"size\": 10}, fmt='d',cmap=\"Blues\", ax = ax ) \n",
    "ax.set_title('Confusion Matrix')\n",
    "plt.show()"
   ]
  },
  {
   "cell_type": "markdown",
   "metadata": {
    "id": "Cxfj_b2smfwY"
   },
   "source": [
    "#### No Emoji conversion and stop word removal"
   ]
  },
  {
   "cell_type": "code",
   "execution_count": 96,
   "metadata": {
    "id": "3WU39B7ymfwc"
   },
   "outputs": [],
   "source": [
    "training = data.copy()\n",
    "X = training['comment']\n",
    "Y = training['label']\n",
    "Xtrain, Xtest, Ytrain, Ytest = train_test_split(X, Y, test_size=0.3, random_state=0)\n",
    "Ytrain = Ytrain.astype('int')\n",
    "Ytest = Ytest.astype('int')"
   ]
  },
  {
   "cell_type": "code",
   "execution_count": 97,
   "metadata": {
    "colab": {
     "base_uri": "https://localhost:8080/"
    },
    "id": "wIJlaS0Jmfwe",
    "outputId": "0740faa3-ced6-42b5-9f74-b2f9d243d35b"
   },
   "outputs": [
    {
     "data": {
      "text/plain": [
       "Pipeline(memory=None,\n",
       "         steps=[('tfidfvectorizer',\n",
       "                 TfidfVectorizer(analyzer='word', binary=False,\n",
       "                                 decode_error='strict',\n",
       "                                 dtype=<class 'numpy.float64'>,\n",
       "                                 encoding='utf-8', input='content',\n",
       "                                 lowercase=True, max_df=1.0, max_features=None,\n",
       "                                 min_df=1, ngram_range=(1, 2), norm='l2',\n",
       "                                 preprocessor=None, smooth_idf=True,\n",
       "                                 stop_words={'a', 'about', 'above', 'after',\n",
       "                                             'again', 'all', 'am',...\n",
       "                                 token_pattern='(?u)\\\\b\\\\w\\\\w+\\\\b',\n",
       "                                 tokenizer=None, use_idf=True,\n",
       "                                 vocabulary=None)),\n",
       "                ('logisticregression',\n",
       "                 LogisticRegression(C=1.0, class_weight=None, dual=False,\n",
       "                                    fit_intercept=True, intercept_scaling=1,\n",
       "                                    l1_ratio=None, max_iter=100,\n",
       "                                    multi_class='auto', n_jobs=None,\n",
       "                                    penalty='l2', random_state=42,\n",
       "                                    solver='lbfgs', tol=0.0001, verbose=0,\n",
       "                                    warm_start=False))],\n",
       "         verbose=False)"
      ]
     },
     "execution_count": 97,
     "metadata": {
      "tags": []
     },
     "output_type": "execute_result"
    }
   ],
   "source": [
    "lr_pipeline = make_pipeline( \n",
    "              TfidfVectorizer(stop_words=nltk_stopwords, ngram_range=(1, 2)), \n",
    "              LogisticRegression(random_state=42)\n",
    "          )\n",
    "\n",
    "lr_pipeline.fit(Xtrain, Ytrain)"
   ]
  },
  {
   "cell_type": "markdown",
   "metadata": {
    "id": "6bfeylYQmfwh"
   },
   "source": [
    "##### Classification report"
   ]
  },
  {
   "cell_type": "code",
   "execution_count": 98,
   "metadata": {
    "colab": {
     "base_uri": "https://localhost:8080/"
    },
    "id": "Y-qRwmeomfwk",
    "outputId": "1b75870c-ec31-4f3d-91c0-dc506da2848e"
   },
   "outputs": [
    {
     "name": "stdout",
     "output_type": "stream",
     "text": [
      "Logistic Regression with no stop words removed: \n",
      "              precision    recall  f1-score   support\n",
      "\n",
      "           0       0.79      0.82      0.81      1159\n",
      "           1       0.83      0.80      0.81      1247\n",
      "\n",
      "    accuracy                           0.81      2406\n",
      "   macro avg       0.81      0.81      0.81      2406\n",
      "weighted avg       0.81      0.81      0.81      2406\n",
      "\n"
     ]
    }
   ],
   "source": [
    "print(\"Logistic Regression with no stop words removed: \")\n",
    "print(classification_report(lr_pipeline.predict(Xtest), Ytest))\n",
    "lr_sw=classification_report(lr_pipeline.predict(Xtest), Ytest)"
   ]
  },
  {
   "cell_type": "code",
   "execution_count": 99,
   "metadata": {
    "colab": {
     "base_uri": "https://localhost:8080/",
     "height": 281
    },
    "id": "epAKgqU3mfwm",
    "outputId": "ed59bfba-b1f2-4037-f1e6-b7b01d60c407"
   },
   "outputs": [
    {
     "data": {
      "image/png": "[encoded data removed]",
      "text/plain": [
       "<Figure size 432x288 with 2 Axes>"
      ]
     },
     "metadata": {
      "needs_background": "light",
      "tags": []
     },
     "output_type": "display_data"
    }
   ],
   "source": [
    "cm = confusion_matrix(lr_pipeline.predict(Xtest), Ytest)\n",
    "ax = plt.axes()\n",
    "sns.heatmap(cm, annot=True, annot_kws={\"size\": 10}, fmt='d',cmap=\"Blues\", ax = ax )\n",
    "ax.set_title('Confusion Matrix')\n",
    "plt.show()"
   ]
  },
  {
   "cell_type": "code",
   "execution_count": 100,
   "metadata": {
    "id": "aRFsBSMhorHx"
   },
   "outputs": [],
   "source": []
  },
  {
   "cell_type": "markdown",
   "metadata": {
    "id": "JJVg7-U1orpq"
   },
   "source": [
    "#### Emoji conversion and stop word removal"
   ]
  },
  {
   "cell_type": "code",
   "execution_count": 101,
   "metadata": {
    "id": "XLl17WFporps"
   },
   "outputs": [],
   "source": [
    "training = data.copy()\n",
    "training =emoji_convert(training)\n",
    "training['comment'] = training['comment'].str.replace('[{}]'.format(string.punctuation), ' ')   # Removing punctuations\n",
    "X = training['comment']\n",
    "Y = training['label']\n",
    "Xtrain, Xtest, Ytrain, Ytest = train_test_split(X, Y, test_size=0.3, random_state=0)\n",
    "Ytrain = Ytrain.astype('int')\n",
    "Ytest = Ytest.astype('int')"
   ]
  },
  {
   "cell_type": "code",
   "execution_count": 102,
   "metadata": {
    "colab": {
     "base_uri": "https://localhost:8080/"
    },
    "id": "ppsKtYc7orpv",
    "outputId": "07715f0d-f430-4ffa-9cbb-c06800ba6e60"
   },
   "outputs": [
    {
     "data": {
      "text/plain": [
       "Pipeline(memory=None,\n",
       "         steps=[('tfidfvectorizer',\n",
       "                 TfidfVectorizer(analyzer='word', binary=False,\n",
       "                                 decode_error='strict',\n",
       "                                 dtype=<class 'numpy.float64'>,\n",
       "                                 encoding='utf-8', input='content',\n",
       "                                 lowercase=True, max_df=1.0, max_features=None,\n",
       "                                 min_df=1, ngram_range=(1, 2), norm='l2',\n",
       "                                 preprocessor=None, smooth_idf=True,\n",
       "                                 stop_words={'a', 'about', 'above', 'after',\n",
       "                                             'again', 'all', 'am',...\n",
       "                                 token_pattern='(?u)\\\\b\\\\w\\\\w+\\\\b',\n",
       "                                 tokenizer=None, use_idf=True,\n",
       "                                 vocabulary=None)),\n",
       "                ('logisticregression',\n",
       "                 LogisticRegression(C=1.0, class_weight=None, dual=False,\n",
       "                                    fit_intercept=True, intercept_scaling=1,\n",
       "                                    l1_ratio=None, max_iter=100,\n",
       "                                    multi_class='auto', n_jobs=None,\n",
       "                                    penalty='l2', random_state=42,\n",
       "                                    solver='lbfgs', tol=0.0001, verbose=0,\n",
       "                                    warm_start=False))],\n",
       "         verbose=False)"
      ]
     },
     "execution_count": 102,
     "metadata": {
      "tags": []
     },
     "output_type": "execute_result"
    }
   ],
   "source": [
    "lr_pipeline = make_pipeline( \n",
    "              TfidfVectorizer(stop_words=nltk_stopwords, ngram_range=(1, 2)), \n",
    "              LogisticRegression(random_state=42)\n",
    "          )\n",
    "\n",
    "lr_pipeline.fit(Xtrain, Ytrain)"
   ]
  },
  {
   "cell_type": "markdown",
   "metadata": {
    "id": "A4PWsgSgorpx"
   },
   "source": [
    "##### Classification report"
   ]
  },
  {
   "cell_type": "code",
   "execution_count": 103,
   "metadata": {
    "colab": {
     "base_uri": "https://localhost:8080/"
    },
    "id": "DZZ87PaRorpy",
    "outputId": "f26e5562-613c-4d5c-ddb8-5eb2a20cda89"
   },
   "outputs": [
    {
     "name": "stdout",
     "output_type": "stream",
     "text": [
      "Logistic Regression with no stop words removed: \n",
      "              precision    recall  f1-score   support\n",
      "\n",
      "           0       0.79      0.82      0.80      1159\n",
      "           1       0.82      0.80      0.81      1247\n",
      "\n",
      "    accuracy                           0.81      2406\n",
      "   macro avg       0.81      0.81      0.81      2406\n",
      "weighted avg       0.81      0.81      0.81      2406\n",
      "\n"
     ]
    }
   ],
   "source": [
    "print(\"Logistic Regression with no stop words removed: \")\n",
    "print(classification_report(lr_pipeline.predict(Xtest), Ytest))\n",
    "lr_emoji_sw = classification_report(lr_pipeline.predict(Xtest), Ytest)"
   ]
  },
  {
   "cell_type": "code",
   "execution_count": 104,
   "metadata": {
    "colab": {
     "base_uri": "https://localhost:8080/",
     "height": 281
    },
    "id": "cT_jeUqaorp1",
    "outputId": "b517a577-52b0-4e7c-8d2c-9301d850b1c4"
   },
   "outputs": [
    {
     "data": {
      "image/png": "[encoded data removed]",
      "text/plain": [
       "<Figure size 432x288 with 2 Axes>"
      ]
     },
     "metadata": {
      "needs_background": "light",
      "tags": []
     },
     "output_type": "display_data"
    }
   ],
   "source": [
    "cm = confusion_matrix(lr_pipeline.predict(Xtest), Ytest)\n",
    "ax = plt.axes()\n",
    "sns.heatmap(cm, annot=True, annot_kws={\"size\": 10}, fmt='d',cmap=\"Blues\", ax = ax )\n",
    "ax.set_title('Confusion Matrix')\n",
    "plt.show()"
   ]
  },
  {
   "cell_type": "markdown",
   "metadata": {
    "id": "NHzMNZBHqLOJ"
   },
   "source": [
    "#### No Emoji conversion and no stop word removal "
   ]
  },
  {
   "cell_type": "code",
   "execution_count": 105,
   "metadata": {
    "id": "VEeSKP_Cqd4O"
   },
   "outputs": [],
   "source": [
    "training = data.copy()\n",
    "X = training['comment']\n",
    "Y = training['label']\n",
    "Xtrain, Xtest, Ytrain, Ytest = train_test_split(X, Y, test_size=0.3, random_state=0)\n",
    "Ytrain = Ytrain.astype('int')\n",
    "Ytest = Ytest.astype('int')"
   ]
  },
  {
   "cell_type": "code",
   "execution_count": 106,
   "metadata": {
    "colab": {
     "base_uri": "https://localhost:8080/"
    },
    "id": "X5TtMfHHqd4S",
    "outputId": "c4ec6dd3-ef8e-4ea8-e49f-c16445d7ffaf"
   },
   "outputs": [
    {
     "data": {
      "text/plain": [
       "Pipeline(memory=None,\n",
       "         steps=[('tfidfvectorizer',\n",
       "                 TfidfVectorizer(analyzer='word', binary=False,\n",
       "                                 decode_error='strict',\n",
       "                                 dtype=<class 'numpy.float64'>,\n",
       "                                 encoding='utf-8', input='content',\n",
       "                                 lowercase=True, max_df=1.0, max_features=None,\n",
       "                                 min_df=1, ngram_range=(1, 2), norm='l2',\n",
       "                                 preprocessor=None, smooth_idf=True,\n",
       "                                 stop_words=None, strip_accents=None,\n",
       "                                 sublinear_tf=False,\n",
       "                                 token_pattern='(?u)\\\\b\\\\w\\\\w+\\\\b',\n",
       "                                 tokenizer=None, use_idf=True,\n",
       "                                 vocabulary=None)),\n",
       "                ('logisticregression',\n",
       "                 LogisticRegression(C=1.0, class_weight=None, dual=False,\n",
       "                                    fit_intercept=True, intercept_scaling=1,\n",
       "                                    l1_ratio=None, max_iter=100,\n",
       "                                    multi_class='auto', n_jobs=None,\n",
       "                                    penalty='l2', random_state=42,\n",
       "                                    solver='lbfgs', tol=0.0001, verbose=0,\n",
       "                                    warm_start=False))],\n",
       "         verbose=False)"
      ]
     },
     "execution_count": 106,
     "metadata": {
      "tags": []
     },
     "output_type": "execute_result"
    }
   ],
   "source": [
    "lr_pipeline = make_pipeline( \n",
    "              TfidfVectorizer(stop_words=None, ngram_range=(1, 2)), \n",
    "              LogisticRegression(random_state=42)\n",
    "          )\n",
    "\n",
    "lr_pipeline.fit(Xtrain, Ytrain)"
   ]
  },
  {
   "cell_type": "markdown",
   "metadata": {
    "id": "LQ_j3tf5qd4V"
   },
   "source": [
    "##### Classification report"
   ]
  },
  {
   "cell_type": "code",
   "execution_count": 107,
   "metadata": {
    "colab": {
     "base_uri": "https://localhost:8080/"
    },
    "id": "CZy5acqmqd4X",
    "outputId": "2096d71f-d2f5-44f3-dbc2-16f8dc370188"
   },
   "outputs": [
    {
     "name": "stdout",
     "output_type": "stream",
     "text": [
      "              precision    recall  f1-score   support\n",
      "\n",
      "           0       0.78      0.83      0.80      1123\n",
      "           1       0.84      0.80      0.82      1283\n",
      "\n",
      "    accuracy                           0.81      2406\n",
      "   macro avg       0.81      0.81      0.81      2406\n",
      "weighted avg       0.81      0.81      0.81      2406\n",
      "\n"
     ]
    }
   ],
   "source": [
    "\n",
    "print(classification_report(lr_pipeline.predict(Xtest), Ytest))\n",
    "lr_no = classification_report(lr_pipeline.predict(Xtest), Ytest)"
   ]
  },
  {
   "cell_type": "code",
   "execution_count": 108,
   "metadata": {
    "colab": {
     "base_uri": "https://localhost:8080/",
     "height": 281
    },
    "id": "3LvJ9TWKqd4Y",
    "outputId": "0d330447-2735-4464-b4af-28a37120b2a1"
   },
   "outputs": [
    {
     "data": {
      "image/png": "[encoded data removed]",
      "text/plain": [
       "<Figure size 432x288 with 2 Axes>"
      ]
     },
     "metadata": {
      "needs_background": "light",
      "tags": []
     },
     "output_type": "display_data"
    }
   ],
   "source": [
    "cm = confusion_matrix(lr_pipeline.predict(Xtest), Ytest)\n",
    "ax = plt.axes()\n",
    "sns.heatmap(cm, annot=True, annot_kws={\"size\": 10}, fmt='d',cmap=\"Blues\", ax = ax )\n",
    "ax.set_title('Confusion Matrix')\n",
    "plt.show()"
   ]
  },
  {
   "cell_type": "markdown",
   "metadata": {
    "id": "ifOC0ibjkV_S"
   },
   "source": [
    "## Observations for Logistic Regression"
   ]
  },
  {
   "cell_type": "code",
   "execution_count": 109,
   "metadata": {
    "colab": {
     "base_uri": "https://localhost:8080/"
    },
    "id": "TLqJdZe_pGFa",
    "outputId": "0c1ea917-c22c-4651-f93e-4c68e87f01a1"
   },
   "outputs": [
    {
     "name": "stdout",
     "output_type": "stream",
     "text": [
      "              precision    recall  f1-score   support\n",
      "\n",
      "           0       0.78      0.83      0.80      1125\n",
      "           1       0.84      0.79      0.82      1281\n",
      "\n",
      "    accuracy                           0.81      2406\n",
      "   macro avg       0.81      0.81      0.81      2406\n",
      "weighted avg       0.81      0.81      0.81      2406\n",
      "\n"
     ]
    }
   ],
   "source": [
    "#just converting emoji to words and not removing stop words\n",
    "print(lr_emoji)"
   ]
  },
  {
   "cell_type": "code",
   "execution_count": 110,
   "metadata": {
    "colab": {
     "base_uri": "https://localhost:8080/"
    },
    "id": "e1oEfo98pGFc",
    "outputId": "37e3d366-7cfe-4dd2-e58f-5191c66ffaab"
   },
   "outputs": [
    {
     "name": "stdout",
     "output_type": "stream",
     "text": [
      "              precision    recall  f1-score   support\n",
      "\n",
      "           0       0.79      0.82      0.80      1159\n",
      "           1       0.82      0.80      0.81      1247\n",
      "\n",
      "    accuracy                           0.81      2406\n",
      "   macro avg       0.81      0.81      0.81      2406\n",
      "weighted avg       0.81      0.81      0.81      2406\n",
      "\n"
     ]
    }
   ],
   "source": [
    "#Converting emojis to words and removing stop words\n",
    "print(lr_emoji_sw)"
   ]
  },
  {
   "cell_type": "code",
   "execution_count": 111,
   "metadata": {
    "colab": {
     "base_uri": "https://localhost:8080/"
    },
    "id": "iu7oRsz5pGFe",
    "outputId": "8e274098-17e7-4332-eeb1-a0e10c705ab2"
   },
   "outputs": [
    {
     "name": "stdout",
     "output_type": "stream",
     "text": [
      "              precision    recall  f1-score   support\n",
      "\n",
      "           0       0.78      0.83      0.80      1123\n",
      "           1       0.84      0.80      0.82      1283\n",
      "\n",
      "    accuracy                           0.81      2406\n",
      "   macro avg       0.81      0.81      0.81      2406\n",
      "weighted avg       0.81      0.81      0.81      2406\n",
      "\n"
     ]
    }
   ],
   "source": [
    "#Keeping emojis and stop word\n",
    "print(lr_no)"
   ]
  },
  {
   "cell_type": "code",
   "execution_count": 112,
   "metadata": {
    "colab": {
     "base_uri": "https://localhost:8080/"
    },
    "id": "54NKGAlMpGFf",
    "outputId": "c4f19a15-76c3-4167-bcd2-4824f85458bd"
   },
   "outputs": [
    {
     "name": "stdout",
     "output_type": "stream",
     "text": [
      "              precision    recall  f1-score   support\n",
      "\n",
      "           0       0.79      0.82      0.81      1159\n",
      "           1       0.83      0.80      0.81      1247\n",
      "\n",
      "    accuracy                           0.81      2406\n",
      "   macro avg       0.81      0.81      0.81      2406\n",
      "weighted avg       0.81      0.81      0.81      2406\n",
      "\n"
     ]
    }
   ],
   "source": [
    "#Just removing stop words\n",
    "print(lr_sw)"
   ]
  },
  {
   "cell_type": "markdown",
   "metadata": {
    "id": "C2BXj9IRwXPi"
   },
   "source": [
    "**By going through all the classification report for logestic regression, removing stop words increases the quality of the model to detect and correctly predict anti-vaccine comments. So the logestic model (with removing stop words and converting emoji's to word) can accurately predict 79% of anti-vaccine cases and accurately predict 83% of pro-vaccine case. In addition, the model can detect 82% of total anti-vaccine cases and 80% total pro-vaccine. By keeping emoji, we can get same performance but support for the cases in former model is more balanced.**"
   ]
  },
  {
   "cell_type": "markdown",
   "metadata": {
    "id": "gfwU316TPe6s"
   },
   "source": [
    "### Bernouilli's Naive Bayes"
   ]
  },
  {
   "cell_type": "code",
   "execution_count": 113,
   "metadata": {
    "id": "aX5GDu45tsZr"
   },
   "outputs": [],
   "source": [
    "from sklearn.naive_bayes import BernoulliNB"
   ]
  },
  {
   "cell_type": "markdown",
   "metadata": {
    "id": "3KgYg-FsttwR"
   },
   "source": [
    "#### Emoji Conversion and No stop word removal"
   ]
  },
  {
   "cell_type": "code",
   "execution_count": 114,
   "metadata": {
    "id": "tv1aI0eLt4QA"
   },
   "outputs": [],
   "source": [
    "training = data.copy()\n",
    "training =emoji_convert(training)\n",
    "training['comment'] = training['comment'].str.replace('[{}]'.format(string.punctuation), ' ')   # Removing punctuations\n",
    "\n",
    "X = training['comment']\n",
    "Y = training['label']\n",
    "Xtrain, Xtest, Ytrain, Ytest = train_test_split(X, Y, test_size=0.3, random_state=0)\n",
    "Ytrain = Ytrain.astype('int')\n",
    "Ytest = Ytest.astype('int')"
   ]
  },
  {
   "cell_type": "code",
   "execution_count": 115,
   "metadata": {
    "colab": {
     "base_uri": "https://localhost:8080/"
    },
    "id": "efuMIGNmIuiW",
    "outputId": "90245eb6-b00f-4654-da4d-fe4d8d20355a"
   },
   "outputs": [
    {
     "data": {
      "text/plain": [
       "Pipeline(memory=None,\n",
       "         steps=[('tfidfvectorizer',\n",
       "                 TfidfVectorizer(analyzer='word', binary=False,\n",
       "                                 decode_error='strict',\n",
       "                                 dtype=<class 'numpy.float64'>,\n",
       "                                 encoding='utf-8', input='content',\n",
       "                                 lowercase=True, max_df=1.0, max_features=None,\n",
       "                                 min_df=1, ngram_range=(1, 2), norm='l2',\n",
       "                                 preprocessor=None, smooth_idf=True,\n",
       "                                 stop_words=None, strip_accents=None,\n",
       "                                 sublinear_tf=False,\n",
       "                                 token_pattern='(?u)\\\\b\\\\w\\\\w+\\\\b',\n",
       "                                 tokenizer=None, use_idf=True,\n",
       "                                 vocabulary=None)),\n",
       "                ('bernoullinb',\n",
       "                 BernoulliNB(alpha=1.0, binarize=0.0, class_prior=None,\n",
       "                             fit_prior=True))],\n",
       "         verbose=False)"
      ]
     },
     "execution_count": 115,
     "metadata": {
      "tags": []
     },
     "output_type": "execute_result"
    }
   ],
   "source": [
    "bnb_pipeline = make_pipeline( \n",
    "              TfidfVectorizer(stop_words=None, ngram_range=(1, 2)), \n",
    "              BernoulliNB()\n",
    "          )\n",
    "\n",
    "bnb_pipeline.fit(Xtrain, Ytrain)"
   ]
  },
  {
   "cell_type": "markdown",
   "metadata": {
    "id": "Yn7d03ewvCys"
   },
   "source": [
    "##### Classification report"
   ]
  },
  {
   "cell_type": "code",
   "execution_count": 116,
   "metadata": {
    "colab": {
     "base_uri": "https://localhost:8080/"
    },
    "id": "oqTpgIN5JVJO",
    "outputId": "53f423d0-58a3-40c1-8b57-524e7d9a7442"
   },
   "outputs": [
    {
     "name": "stdout",
     "output_type": "stream",
     "text": [
      "Bernouilli's Naive Bayes with no stop words removed: \n",
      "              precision    recall  f1-score   support\n",
      "\n",
      "           0       0.83      0.82      0.82      1198\n",
      "           1       0.83      0.83      0.83      1208\n",
      "\n",
      "    accuracy                           0.83      2406\n",
      "   macro avg       0.83      0.83      0.83      2406\n",
      "weighted avg       0.83      0.83      0.83      2406\n",
      "\n"
     ]
    }
   ],
   "source": [
    "print(\"Bernouilli's Naive Bayes with no stop words removed: \")\n",
    "Ypred = bnb_pipeline.predict(Xtest)\n",
    "bnb_emoji =classification_report(Ypred, Ytest)\n",
    "print(bnb_emoji)"
   ]
  },
  {
   "cell_type": "code",
   "execution_count": 117,
   "metadata": {
    "colab": {
     "base_uri": "https://localhost:8080/",
     "height": 281
    },
    "id": "k4Ae1Ps_Myv3",
    "outputId": "f98f443f-e5ca-4422-f55b-8c85072b691c"
   },
   "outputs": [
    {
     "data": {
      "image/png": "[encoded data removed]",
      "text/plain": [
       "<Figure size 432x288 with 2 Axes>"
      ]
     },
     "metadata": {
      "needs_background": "light",
      "tags": []
     },
     "output_type": "display_data"
    }
   ],
   "source": [
    "cm = confusion_matrix(bnb_pipeline.predict(Xtest), Ytest)\n",
    "ax = plt.axes()\n",
    "sns.heatmap(cm, annot=True, annot_kws={\"size\": 10}, fmt='d',cmap=\"Blues\", ax = ax )\n",
    "ax.set_title('Confusion Matrix')\n",
    "plt.show()"
   ]
  },
  {
   "cell_type": "markdown",
   "metadata": {
    "id": "G-BKzj7ce6OR"
   },
   "source": [
    "#### Comments on what model have gone wrong."
   ]
  },
  {
   "cell_type": "code",
   "execution_count": 118,
   "metadata": {
    "colab": {
     "base_uri": "https://localhost:8080/"
    },
    "id": "--YI5fJRZir4",
    "outputId": "60187abd-7bf1-468f-d303-fd4e614f6e7e"
   },
   "outputs": [
    {
     "name": "stdout",
     "output_type": "stream",
     "text": [
      "because the mrna approach to vaccines is new  you might have seen claims and worries about what might happen after it’s injected into the body \n",
      "---\n",
      "vaccines are meant to attack the host  so your body s immune system learns to defend itself against the actual virus  this is why antivaxxers are a thing because they believe that big pharm and governments are trying to kill them  but fact is they are too uneducated\n",
      "---\n",
      "although the vaccine is rushed that doesnt mean it isnt safe for use  they are not just skipping past the  testing phase   they are still taking many precautions to make sure its effects do more good than harm \n",
      "---\n",
      "antivaxxers think the syringe and needle is for a horse but they are so tiny it fits in a babies hand \n",
      "---\n",
      "i hate to tell you this  but everyone being vaccinated will not make americans normal \n",
      "---\n",
      "i am      taking it \n",
      "---\n",
      "i’m a pro vaxxer  anyone want to have a debate about vaccines \n",
      "---\n",
      "uhhhhh they will be the ones alive you idiot \n",
      "---\n",
      "I am not antivax but I am concerned about ingredients as i am in everything i put in my body  because in the past they say oh this ingredient is safe and then years later  oh this product causes cancer and if you or a loved one have been hurt by one you may be compensated \n",
      "---\n",
      "my personal opinion is that you should get the vaccine if it is offered to you  you are right the system is broken  corrupt governments etc   but you will not fix the system by skipping the vaccine  you passing up the vaccine will not necessarily mean it goes to someone who needs it more   most likely it will go to someone else who is in your same position  a friend of a politician who does not need it the most  \n",
      "---\n",
      "children of the world have been vaccinated routinely and safely since the     s hardly any ill effects  they certainly do not make you sterile  remove sexual function or retard bone and brain development \n",
      "---\n",
      "i do not care how authoritarian this sounds  vaccinations need to be mandatory \n",
      "---\n",
      "i will take this vaccine\n",
      "---\n",
      "a vaccine which reduces  a nasty virus which can cause death or serious illness  to  a nasty virus which leaves you bedbound for a few days  is still a pretty good vaccine i do not see why doomers are so keen to pretend otherwise\n",
      "---\n",
      "please correct me if I am wrong but  when you have an r of      you would only need     of the people vaccinated immune to get it down to r   right  so we do not need      vaccination to get the r below    anyone knows what the r value of covid    is without any social distancing \n",
      "---\n",
      "i can say with the greatest confidence  vaccines do not cause autism  and that  cdcgov is in agreement  ignore the disinformation  remember antivaccine groups do not care about you or your family\n",
      "---\n",
      "complications from vaccines are classified as very rare occuring in less than      of the population that takes it \n",
      "---\n",
      "i’ve gotten enough info to know that it’s fine  i will take my chance and get it \n",
      "---\n",
      "they caught it before the vaccine took effect  you need the booster shot   weeks later before it works  you can’t catch corona virus from the vaccine  vaccine only has mrna  not the virus \n",
      "---\n",
      "there are so many people dying and they are saying to not take the vaccines   speak for yourselves you idiotsss   \n",
      "---\n",
      "what ever happened to herd immunity through letting your immune system do it’s job\n",
      "---\n",
      "why yes i support a healthy physique and scientific research on vaccines  how did you know \n",
      "---\n",
      "my main concern is not whether or not i get infected  but whether i spread it to someone less fortunate \n",
      "---\n",
      "i can literally see that this vaccine is working   still we have to wait for at least one whole year to check whether its working or not maybe\n",
      "---\n",
      "the people who think that these vaccines contain microchips are the same people who forget their phone passcode and blame the government for changing it \n",
      "---\n",
      "stick me  stick me  stick me  after the essential workers i suppose  but then stick me \n",
      "---\n",
      "so we do not trust the government and we do not trust big multinational companies  i get that  but when did we stop trusting doctors\n",
      "---\n",
      "both natural immunity and immunity produced by a vaccine are important aspects of covid    that experts are investigating\n",
      "---\n",
      "no vaccines for anyone wearing a maga hat \n",
      "---\n",
      "vaccines do not harm  ignorance does \n",
      "---\n",
      "do not rush  wait until novavax s vaccine is approved    it is the best one possible \n",
      "---\n",
      "wtf antivaxxers youre crazy\n",
      "---\n",
      "mrna is precursor of protein  it’s as safe as protein or even safer  i would take it\n",
      "---\n",
      "aspirin has side effects u all gonna stop taking that too \n",
      "---\n",
      "the only way to the freedom is taking this vaccine’\n",
      "---\n",
      "everybody that does not take the vaccine will die\n",
      "---\n",
      "two of the major vaccines have over     efficacy  which means that they will dramatically reduce the likelihood of infection \n",
      "---\n",
      "me  why do not you vaccinate your children  anti vaxxer  gotta catch em all\n",
      "---\n",
      "one thing i noticed about people who complain about the covid vaccine is that they have questions that can easily be answered but they do not look it up\n",
      "---\n",
      "i wont care if i die from the vaccine  if i can take something that will limit risk for others count me in\n",
      "---\n",
      "i would take the vaccine  even with all the conspiracy stories i hear about with how “fake” the virus is and how the vaccine just wants to “patent” our dna \n",
      "---\n",
      "additionally mrna vaccines have been used in cancer therapy successfully \n",
      "---\n",
      "the only bad vaccine news is that no lab is producing them fast enough \n",
      "---\n",
      "the science is great and vaccines are probably the greatest thing ever  the problem is instead of a multi year        clinical trial like normal vaccines go through  this brand new vaccine  using version   technology  was rushed through in   months  I will wait  thanks\n",
      "---\n",
      "long term effect of covid is worse  i will take the vaccine for sure \n",
      "---\n",
      "i think that if the current mrna vaccines hold up and work as well as they are supposed to and there are no long term effects they are the future for many things  the ability to plug and play is very cool \n",
      "---\n",
      "i am taking it \n",
      "---\n",
      "i do not think vaccines are bad but i do think people should have a choice whether to take them or not if they want to experience the virus or not is up to them\n",
      "---\n",
      "vaccines did away with most outbreaks aswell\n",
      "---\n",
      "they will have to give it to me kicking and screaming\n",
      "---\n",
      "i’m worried about getting coronavirus whilst getting the vaccine\n",
      "---\n",
      "trust the doctors\n",
      "---\n",
      "nice and natural boost to your immune system that \n",
      "---\n",
      "one of the most massive side effects of the vaccine is   you won’t catch the virus  da da \n",
      "---\n",
      "i am going to take the vaccine \n",
      "---\n",
      "lmao  the best one is the good ole fashion “there arent any studies on long term effects ” there’s nothing in the vaccine that’s going to all of a sudden hurt you        or    years down the line  nothing more than all the other shit you put in your body without question \n",
      "---\n",
      "why      what s wrong with vaccines     \n",
      "---\n",
      "you cannot get coronavirus from this vaccine  it is not a live vaccine  most likely they had covid already without knowing it when they got vaccinated  please do some medical research \n",
      "---\n",
      "now we have the most rapidly produced vaccine in history for a virus that is already mutating \n",
      "---\n",
      "vaccines are not     percent effective and has side effects you know what else isnt     percent effective or has side effects   surgery  over the counter medicine  prescription medicine  medical devices  airbags  seatbelts  bridges  safety devices  chemotherapy  physical therapy yet we still use all of this stuff for various reasons\n",
      "---\n",
      "pls vaccinate your children    \n",
      "---\n",
      "jesus is the truth and the holy spirit is the vaccine  thanks\n",
      "---\n",
      "i am      taking it  growing heart \n",
      "---\n",
      "i would have no problem with a vaccine booster every   months if it makes this go away\n",
      "---\n",
      "    of americans don’t want to take the vaccine  that’s a problem for      of america i fear \n",
      "---\n",
      "i mean it is the same with any vaccine so I will take it right away\n",
      "---\n",
      "so many more people will die by not taking it   rip to them \n",
      "---\n",
      "i’ll take it \n",
      "---\n",
      "vaccines will improve our immune system  I had like to take the vaccine\n",
      "---\n",
      "guess who’s taking it    me    \n",
      "---\n",
      "after the vaccine is injected  your body uses instructions in the dna rna to make copies of this virus part  or antigen   your body recognises these and mounts an immune response  ready to protect you the next time you encounter the virus \n",
      "---\n",
      "this vaccine works like birth control \n",
      "---\n",
      "that’s what being anti science does to you    it rots your brain \n",
      "---\n",
      "astrazeneca would be my choice for sure \n",
      "---\n",
      "genetic code decay and unraveling thanks to subverting the rna system     really want to see this tested before they start handing out this junk\n",
      "---\n",
      "vaccines are preserved with so much care \n",
      "---\n",
      "i definitely recommend us to take this vacine \n",
      "---\n",
      "i ll take this vaccine\n",
      "---\n",
      "     safe  for all we know they might do nothing at all   but just feeling safe from receiving it is a blessing in itself\n",
      "---\n",
      "I will take pfizer one right now   they can pump that thing right into my vein \n",
      "---\n",
      "wishful thinking  but i’m going to choose to trust if biden and fauci said it’s happening  it’s happening  that being said  i’m fully prepared to be disappointed \n",
      "---\n",
      "no it’s not  it makes overwhelming sense to get vaccinated  you obviously know nothing about it \n",
      "---\n",
      "with the reports around what even asymptomatic covid could do to a healthy set of lungs in the long term vaccination is far preferable to mild to moderate\n",
      "---\n",
      "let’s go  fuck china virus scienceeee\n",
      "---\n",
      "people need to wake th f up  we need to take it\n",
      "---\n",
      "i vaccinate because I am not retarded \n",
      "---\n",
      "the risk of a live virus vaccine is that you catch covid  which is also the risk you face if you do not get the vaccine  there is no way the vaccine will be approved if the risk is higher for getting the vaccine than it is from contracting it from the community  i do not understand your logic\n",
      "---\n",
      "might as well take the shot  not going to get out of this world dying from something else  do not worry about a thing  everything going be alright \n",
      "---\n",
      "i do not care about political propaganda  i just want to know which vaccine is safe and easy to get  i know that pfizer has caused    deaths in norway  what about other vaccine \n",
      "---\n",
      "if they are an intelligent and rational person they will take it \n",
      "---\n",
      "safe and efective   that is why they will not reveal all d ingredients and components  nor they are responsible   the secundary effects and u cannot sue them   \n",
      "---\n",
      "extremely sad to see people saying vaccine is unsafe  i welcome it\n",
      "---\n",
      "saag says the true value of the vaccine is more easily seen when we consider what would happen if the development of a vaccine had failed \n",
      "---\n",
      "vaxxs are safe\n",
      "---\n",
      "i’ll take it  especially if it’s free  always take free stuff \n",
      "---\n",
      "wow this vaccine will do amazingly \n",
      "---\n",
      "sort of  but even if vaccines do not stop infections  they will cut down the amount of time they are replicating  fewer replications before being cleared greatly reduces the speed of mutations arising \n",
      "---\n",
      "the other vaccines being developed will contain weakened or inactive forms of “common cold” viruses  and substances commonly found in many vaccines \n",
      "---\n",
      "if this vaccine is so good why is it killing people all over the world\n",
      "---\n",
      "i trust the vaccine \n",
      "---\n",
      "scientists have been researching covid for years  they know what they are doing \n",
      "---\n",
      "seriously  i get so annoyed with those that don’t believe that this is all abnormal  like the people who believe the covid vaccine will turn them into zombies  cant we ship them off to pluto\n",
      "---\n",
      "the vaccine is safe  what a joke  please those who believe the vaccine take it and safe the world and we who do not believe will just go on following safety and distance procedures\n",
      "---\n",
      "as a guy with autism  i am deeply offended  bottom line is if you don’t vaccinate your kid they might die before their  th birthday \n",
      "---\n",
      "when someone survives it  that person becomes immune and will not be capable of passing it onto people \n",
      "---\n",
      "so why have we   the over    no say the we will take the astro zeneca vaccine  i am over    and sick of being put in a box  i want any vaccine asap   pouting face \n",
      "---\n",
      "personally  i won’t be having it yet i am not an antivaxxer but  in my opinion  this one  for obvious reasons  has been rushed through vaccines normally go through a minimum   year trial  to check for long term affects  this one hasn’t \n",
      "---\n",
      "friends had them and two have kidney issues and the other lung damage  everyone s follow up question is always  did they have pre condition   and the answer is no  people do not worry \n",
      "---\n",
      "i will wait for a different vaccine  not a j j one  they have blood on their hands \n",
      "---\n",
      "if you do not want yours   do let me know   I am quite happy to   \n",
      "---\n",
      "that is concerning  i would not want to get medical care from someone who does not want the vaccine  not just from a covid perspective  but because i would not trust their judgment \n",
      "---\n",
      "so basically vaccines train your body to become stronger \n",
      "---\n",
      "the vaccine was not rushed  it was expedited  all steps were done  animal trials  phase       and    the same amount of hours went into research but more people were doing it  this was made a priority  get the vaccine  you are healthy  you will be just fine \n",
      "---\n",
      "I will be taking it happily\n",
      "---\n",
      "remember  a virus that kills    of the population is nothing to worry about  it is those pesky vaccines that kill one out of    million people is the real thing to fear \n",
      "---\n",
      "a must read on vaccine prospects  a good  safe  vaccine may be just a few months away \n",
      "---\n",
      "i will take it or i am gonna dieee\n",
      "---\n",
      "vaccine   lockdown success\n",
      "---\n",
      "i do not want to get covid \n",
      "---\n",
      "vaccines do not cause autism\n",
      "---\n",
      "yes  absolutely  if people do not get it this virus will not go away  if i do not get it I am no better than the people i consider the problem\n",
      "---\n",
      "my body is ready\n",
      "---\n",
      "i only trust pfizer \n",
      "---\n",
      "the antivaccines people are that type of people who said  i don t know  if they re ask for their allergies\n",
      "---\n",
      "mrna covid vaccines are safe and effective  mrna vaccines do not affect your personal genes or dna  they do not contain a live virus  they cannot give you covid\n",
      "---\n",
      "what       but they have bypassed the very one that they cannot  should not bypass  but have  according to the nuremberg code  i just cannot believe this video  these people are actually publicly  happily  blatantly ignoring the nuremberg code  previous trials for other covidviruses    all the animals died after a time \n",
      "---\n",
      "why take the vaccine  because the alternative could be dying\n",
      "---\n",
      "the media in the united states keeps making headlines like  it is only     effective   when in reality  it is     effective against severe coronavirus and      effective against death and it is been tested against all the new strains \n",
      "---\n",
      "perhaps you guys can take the vaccine yourselves  and do a daily vlog showing your results  cheers \n",
      "---\n",
      "why would anyone go to the trouble and expense of putting chips  for purposes other than stated  in millions upon millions of vaccines when all your information is already being tracked by your cellphone \n",
      "---\n",
      "college kids need vaccines just like the young kids \n",
      "---\n",
      "i will not be questioning the vaccine s efficacy  or have any doubts arising from the record speed at which it was produced \n",
      "---\n",
      "for now we do not have othewise other than taking the risk\n",
      "---\n",
      "doctors say vaccine has an efficacy rate of     which is good\n",
      "---\n",
      "reports emerging from norway indicate that at least twenty three people have died after taking the pfizer biontech covid    vaccine  yet the government regulator has said they don’t see anything alarming in the cases…\n",
      "---\n",
      "maybe it causes infertility  maybe not  now trust the science and take your shot  bigot \n",
      "---\n",
      "it will take time to vaccinate enough people and this assuming that they will accept to get the vaccine  bottom line it  s still a rocky ride keep the belt fasten for   months\n",
      "---\n",
      "these vaccines are based on previous sars virus work  so strictly speaking they have been in development for    years \n",
      "---\n",
      "please lord i don’t like covid   \n",
      "---\n",
      "i’m right there with you  mayim  i haven’t taken the flu vaccine in years and i did not have my kids take it either  but last year i did  i  too  made my own vaccination schedule for both of my boys  i will be getting the covid vaccine asap  and will be having my boys get it  too \n",
      "---\n",
      "let me take da vaccine \n",
      "---\n",
      "i’m convinced that i’m immune to covid  the vaccine didn’t even give me one side effect \n",
      "---\n",
      "most deaths seem to be because of covid  but no  covid vaccine cannot cause death \n",
      "---\n",
      "sounds too good to be true this vaccine is a placebo  face with tears of joy \n",
      "---\n",
      "you shold thank the pharma companies they will save us with these vaccines\n",
      "---\n",
      "like anything that you put in your body  there could be potential side effects or allergic reactions  however  the majority of people don’t have any issues after getting vaccinated  if they did  they most likely recovered quickly and aren’t suffering from any long term issues \n",
      "---\n",
      "would you rather your grandma die than take vaccine  \n",
      "---\n",
      "this protects the whole population  if you are not taking it be ok witt not beeing allowed to access restaurants etc \n",
      "---\n",
      "ah yes  these televised vaccines has really convinced me to inject it into my own body  thank you for posting \n",
      "---\n",
      "iâ€ trade mark m in the military and have had the vaccine  itâ€ trade mark s been over a week and iâ€ trade mark m fine ðÿ‘ðÿ»\n",
      "---\n",
      "take your vaccine and shove it \n",
      "---\n",
      "I am quitting my job if they require me to take it \n",
      "---\n",
      "you know what vaccines do give your kids  a future \n",
      "---\n",
      "i am yet to hear a single logical reason which convinces me that people who refuse to take the vaccine are not complete nutjobs\n",
      "---\n",
      "i will take the cv   vaccine without any worries what so ever \n",
      "---\n",
      "vaccines will not harm you  none of the ingredients are dangerous in the slightest\n",
      "---\n",
      "list your sources that proof vaccines are bad  do it now \n",
      "---\n",
      "if we assume the person dies because of vaccine   still        people vaccinated and one died   we can see the probability   dying of corona has higher possibility   and it is not proven there could be many things in the picture   so just stop spreading hatred\n",
      "---\n",
      "i just got mine  if i turn into a zombie then I will let y all know\n",
      "---\n",
      "absolutely  i do not want to contract covid  nor do i want to be spreading it around  i will take the vaccine gladly  as often as needed \n",
      "---\n",
      "why not   it is free  \n",
      "---\n",
      "vaccines are modern day blood letting\n",
      "---\n",
      "you really cannot fix stupid  they are just going to hurt themselves and sadly people with weakened immune systems  if they could be tried for murder  I had wager they would get it pretty quick \n",
      "---\n",
      "what is there to see with their own eyes  news reporting that there are not in fact thousands of people dying because of the vaccine  amazing \n",
      "---\n",
      "it’s mrna  not a small dose of covid   the vaccine is basically sending a messenger to tell your body to produce proteins that will destroy covid    as the virus tries to enter your body \n",
      "---\n",
      "the vaccine creates immunity  if you get covid after vaccination  with immunity in your body  you will fight the virus   vaccination does not mean you will not get virus again  its like any viral fever \n",
      "---\n",
      "the vaccine has aborted baby cells in it  research\n",
      "---\n",
      "if they do not want it and they suffer ill effects of covid  unlucky for them  the vulnerable who could contract it from the unimmunised  should be vaccinated  so  in theory only the sceptics will suffer  they made their choice  darwinism has gotten us this far    \n",
      "---\n",
      "people who do not want the vaccine just leave more for the rest of us  if they want to catch a virus we know nothing about  with unknown long term effects vs  trusting medical science we have come to understand over more than     years of inoculating against viruses that is on them \n",
      "---\n",
      "if you want your kids to live  vaccinate them  it is as simple as that\n",
      "---\n",
      "I am ready to be injected now \n",
      "---\n",
      "her being against vaccines because she had a bad reaction  is like someone say is against exercise and is bad for you  because she sprained her ankle once \n",
      "---\n",
      "but the people who cannot take the vaccine  due to a bad immune system  can die if not enough people take it  this is not about us as individuals  it is about humanity as a whole \n",
      "---\n",
      "go ahead and give me your sources on why vaccines are devil research  i will wait\n",
      "---\n",
      "i think it shows the fda panel is taking the approval process and the scientific merits of the data seriously at least  which is good imo\n",
      "---\n",
      "why is everyone so scared to take it \n",
      "---\n",
      "i think the vaccine is ok  i like the speaker \n",
      "---\n",
      "im gonna say it and y all can think im rude  but i think kids without vaccines should not be in public school  its too kuch of a risk \n",
      "---\n",
      "norway patient died after being injected with covid    vaccine but another     million people did not  \n",
      "---\n",
      "look people if you don’t wanna get the vaccine that’s ok  but don’t you dare get in the way of those of us who do  that’s just wrong in all kinds of ways  it’s not your right to make that choice for me or anyone else  i you wanna start being that way then let some of us make decisions for you  don’t do to others what you don’t want done to you \n",
      "---\n",
      "this vaccine is safe \n",
      "---\n",
      "you get more mercury eating a pear than are in every vaccine you’ll ever take   \n",
      "---\n",
      "what if you find out      years later if it does major organ damage  you cant sue them  govt has provided vaccine companies with liability protection  so you are screwed \n",
      "---\n",
      "met lots of people yesterday who don’t want a vaccination  was flabbergasted and saddened  i thought it this years must have saving lives  think before you say no \n",
      "---\n",
      "that is really good efficacy for the first generation of usable vaccine  that chart says it all  guess i am going to take it\n",
      "---\n",
      "there is no need to be afraid from the vaccine  everything gonna be alright\n",
      "---\n",
      "anti vax comments should not be allowed anyone who doesn’t get the vaccine should be banned from going out\n",
      "---\n",
      "“johnson   johnson  because it’s good enough”\n",
      "---\n",
      "thank you i will take it\n",
      "---\n",
      "i have to say i want take it\n",
      "---\n",
      "yes  because i do not want to die of covid    or have my lungs or other organs damaged by it my risk of death if i enter hospital because of covid   is around   in    \n",
      "---\n",
      "are you taking that covid vaccine  or are you waiting for your pastor to give you holy water  covid    is real bruhh\n",
      "---\n",
      "i have my flu vaccine every year because work pay for it and i do not get sick as often if i have it \n",
      "---\n",
      "you do not need to convince me to get the vaccine  you just need to get me the vaccine \n",
      "---\n",
      "the covid vaccine hasn’t killed a single person  not taking the vaccine has killed more americans than the second world war \n",
      "---\n",
      "anti vax kids born when this segment came out are probably having a mid life crisis right about now \n",
      "---\n",
      "every vaccine has side effects  prescription meds have more and far worse side effects  the vaccine side effects are called your immune systems learning the virus and creating antibodies  serious vaccine injuries are very rare \n",
      "---\n",
      "the amount of people commenting negativity about the vaccine killing them are the same people who eat chips  cake and drink coke for breakfast  binge drink alcohol and other drugs i’m sure  what i’m trying to say in so many words is if you’re going to be a stickler about what’s going on your body make sure you’re being fair about the things that’ll end up killing you    years from now \n",
      "---\n",
      "to anyone worried about long term side effects  i really do not think there is any real mechanism to cause long term harm  as far as the mrna itself  it is literally just strains of mrna that code for  relatively inert  proteins  our body uses mrna to code for proteins all the time  so that is not new  there is no virus involved at any point so there is no risk of infection \n",
      "---\n",
      "may the lord god  who gives wisdom  have mercy on this vaccine and heal us\n",
      "---\n",
      "I will never learn  interacting with vaccine sceptics and covid deniers is not a good idea  and they have the tenacity of a terrier after a rat \n",
      "---\n",
      "I am anti seatbelt because i can still die or be injured in a car accident \n",
      "---\n",
      "fire them for being stupid  unless you have a history of severe allergies and anaphylaxis you should be getting the vaccine  these people will go straight to hell for their selfishness and putting other at risk \n",
      "---\n",
      "for every kid who died because of vaccines      died because the lack of it\n",
      "---\n",
      "yall cry about quarantine but then do not wanna trust the cure just take it\n",
      "---\n",
      "if you do not have polio  thank a vaccine  if you do not see wide spread cases of mumps   measles  chicken pox or any other childhood diseases  thank a vaccine  those that protest vaccine distribution have forgotten why we no longer see diseases that plagued the world    years ago\n",
      "---\n",
      "i would never vaccinate my children  its irresponsible and dangerous  instead  i take them to a doctor who is properly equipped to do this \n",
      "---\n",
      "ars cov   or covid    is not a myth  it is a life threatening disease that might affect to your underlying conditions  better to study the true science of coronaviruses and listen to the experts how the  mrna vaccines will save more lives than never \n",
      "---\n",
      "we are not liable for any deaths or damages  but     you must take it  it is safe \n",
      "---\n",
      "do not take vaccines coz overpopulation is a problem \n",
      "---\n",
      "the problem is suspicion isn’t scientific proof  there’s a reason we don’t have smallpox anymore \n",
      "---\n"
     ]
    }
   ],
   "source": [
    "# For pro-vaccination\n",
    "for i in range(len(Ypred)):\n",
    "  if Ypred[i] != Ytest.values[i] and Ytest.values[i]==1:\n",
    "    print(Xtest.values[i])\n",
    "    print('---')"
   ]
  },
  {
   "cell_type": "code",
   "execution_count": 119,
   "metadata": {
    "colab": {
     "base_uri": "https://localhost:8080/"
    },
    "id": "cKCWjeg4bws0",
    "outputId": "edee264c-cc15-4bd3-b99e-20e8d26fd93e"
   },
   "outputs": [
    {
     "name": "stdout",
     "output_type": "stream",
     "text": [
      "noooooo thank you      \n",
      "---\n",
      "i am very skeptical of it  i’m sorry i won’t get the vaccine  thats just my opinion\n",
      "---\n",
      "not vaccinating your kids only works fine so long as everyone around them is vaccinated \n",
      "---\n",
      "the    year old man in astrazeneca s developed acute neuro encephalopathy  before that incident  a trial volunteer developed symptoms of transverse myelitis  it is a rare debilitating neurological disorder linked to vaccines  in september  a trial paused after another participant in the u k  got the same symptoms  in october  a participant in brazil died  what s more shocking is that mhra expects people to suffer from covid    vaccines \n",
      "---\n",
      "i am more  scared  of the vaccine than i am of dying from covid  yeah  well said \n",
      "---\n",
      "two mice are in the pub and one says “hey  have you had the new covid vaccine yet ” and the other replies“what   are you frickin crazy  they haven’t finished the human trials yet  ”\n",
      "---\n",
      "i like how this video supposed to make you feel like it’s no big deal get the vaccine but i’m like i didn’t want it before and now i don’t want it even more \n",
      "---\n",
      "i have saved my children from vaccinations because of a stranger at a business seminar that has informed me of his opinion about vax   yrs before i had my  st kid  there are people that listen \n",
      "---\n",
      "you’re immune system is still more effective than the covid vaccine\n",
      "---\n",
      "eh i’ll just wait a while until non of those people get sick\n",
      "---\n",
      "yup let’s just genetically modify our cells and just hope it goes well\n",
      "---\n",
      "I am scared of the sideeffects\n",
      "---\n",
      "because her daughter can’t get vaccinated  she should be begging everyone else to get vaccinated \n",
      "---\n",
      "you aren’t going to vaccinate me thanks  thumbs up light skin tone \n",
      "---\n",
      "so   getting the  covid    vaccine     does not mean you can remove your mask  does not mean you can stop social distancing  does not mean we can end the lockdown  does not make you immune to covid     does not prevent you from getting covid       so why get it \n",
      "---\n",
      "pretty sure its not just anti vaxxers that will be refusing the coronavirus vaccine  \n",
      "---\n",
      "if a whole country decided to not wear masks  shutdown  lockdown    what percentage of the population do you think would die in a year  if you said     you are correct  sweden s all death total increased by       in       sweden has a population of             that is a       population hit in         thank you for ending the     pandemic     with a monumental case study sweden \n",
      "---\n",
      "why china defeat covid without a vaccine \n",
      "---\n",
      "sounds to me like the beginning of planet of the apes\n",
      "---\n",
      "for those who chose not to take it  that is fine  natural selection at this point  but i know y all were also the ones complaining about no vaccine\n",
      "---\n",
      "wow remember when we thought the oxford vaccine would be ready in the fall  now they are in line to be the fourth or possibly fifth  what a damn shame  stoked to know when the j j is coming though \n",
      "---\n",
      "my healthy nephew infant died    hours after his scheduled immunization \n",
      "---\n",
      "when trump gets his  I will get mine  makes no sense to just blindly get it the moment it comes out like a damn sheep \n",
      "---\n",
      "standing together  so proud of my fellow thinkers and the vaxxed team \n",
      "---\n",
      "well let me start off by saying i’m pro vaccine  but i think all the conflicting information that comes out about them has me a little wary   so in short yes i would get it but i wouldn’t be the first in line to get it if that makes sense \n",
      "---\n",
      "i walked to tesco this morning through empty streets  thinking   this is how it will be when the vaccines have killed most of the population \n",
      "---\n",
      "good to see so many people finally waking up to what’s really going on here   united we stand divided we fall   i know what side i am fighting for and it isn’t the side of our government    \n",
      "---\n",
      "more people in the hospitals with vaccine reactions than the virus\n",
      "---\n",
      "a care home has no covid    positive cases or deaths the care home residents then get vaccinated with a covid    vaccine the care home residents then quickly become ill with covid      some die nothing got to do with the vaccines whatsoever   just bad luck   natural causes\n",
      "---\n",
      "i’ll pass till i know it’s safe uggggggg  as i get older i find out that i have allergies to things  i honestly don’t think i wanna deal with something else let’s get it right so we can get on with our lives\n",
      "---\n",
      "please dont get the vaccine    \n",
      "---\n",
      "covid vaccine topped up with a  mask is the strongest password against the virus \n",
      "---\n",
      "my mom got transverse myelitis from a flu shot   it has ruined her life   \n",
      "---\n",
      "i’m glad to see that everyone is awaked from this nightmare called covid     we don’t need a vaccine \n",
      "---\n",
      "no because norwegian officials said    people had died in the country a short time after receiving their first dose of the vaccine \n",
      "---\n",
      "yes  absolutely there is nothing more dangerous than this vaccine than any others  or else they would not make it available i thought at first that i would want to wait a while and see before taking it  but at this point  i don’t have to “decide” to wait  i’m     i am not an essential worker  and don’t have any health risks  i have several friends who work in healthcare and have already received the vaccine  and they are all happy and healthy  soon everyone i know who is a teacher or social worker will get it too  it will be months before i am eligible to get one \n",
      "---\n",
      "not getting it   i had covid i survived it   my rheumatologist suggested i still get the injection i’m not getting it\n",
      "---\n",
      "i already told my doctor the second they have one for me i want one lol\n",
      "---\n",
      "don’t trust astrazeneca vaccine high dizziness  vaccine dizziness\n",
      "---\n",
      "laura is concerned about the virus because of what she has seen online  I am afraid that is because laura is poorly educated and cannot think critically  not because those concerns have merit \n",
      "---\n",
      "one side effect of the vaccine that seems to be cropping up recently is known as “covid arm”\n",
      "---\n",
      "    healthcare workers dont want to have them\n",
      "---\n",
      "from the same people who brought you  just two weeks to flatten the curve  \n",
      "---\n",
      "everybody is sitting here downgrading the vaccine because they are afraid to take it or just plain idiots would you rather deal with the covid    and be put into an induced coma in the hospital and your family not knowing if you will make it boy cannot we be smarter\n",
      "---\n",
      "at the highest levels of the medical cartel  vaccines are a top priority because they cause a weakening of the immune system  i know that may be hard to accept  but its true  the medical cartel  at the highest level  is not out to help people  it is out to harm them  to weaken them  to kill them  at one point in my career  i had a long conversation with a man who occupied a high government position in an african nation  he told me that he was well aware of this  he told me that who is a front for these depopulation interests\n",
      "---\n",
      "you know it’s the end of the world when they force you to take the vaccine\n",
      "---\n",
      "the vaccine doesn’t prevent you from spreading covid so how are you protecting people \n",
      "---\n",
      "the day is coming where journalism like yours is about to be held to account    i for one will never allow people like you to fill me with poison   https   accounts google com servicelogin service youtube uilel   passive true continue https  a  f  fwww youtube com  fsignin  faction handle signin  dtrue   app  ddesktop   hl  dde   next  d    fwatch    fv    dhfhbpvmrvx  hl de\n",
      "---\n",
      "how can there be any scientific evidence when the information is controlled and taken down  the science we know is their science  one way road  let us hear the two sides of the story and let people judge for themselves  we have brains  let us think \n",
      "---\n",
      "so we get the vaccine but we can still get c     so we have to keep wearing masks and distancing  and we might have fever and muscle aches for       hours  wow  where can i sign up    \n",
      "---\n",
      "once all of humanity is vaccinated for the covit   and is sickened and dying then the international health community would have accomplished there goal of depopulation so the earth can be saved for them\n",
      "---\n",
      "we will not get vaccinated and sign our own death warrants \n",
      "---\n",
      "this lady where my dad works died from the vaccine\n",
      "---\n",
      "in my country  we are doing much better   no need of the vaccine\n",
      "---\n",
      "i more scared about the vaccine then about the virus\n",
      "---\n",
      "then there is the theory that covid    vaccination will be a ploy to microchip people as we do pets \n",
      "---\n",
      "my son got the measles from mmr vaccine  syringe   my family got the flu from the free flu shot  syringe   and we will not be submitted to this evil \n",
      "---\n",
      "in portugal    year old nurse died   days after pfizer biontech first vaccine dose  she was healthy \n",
      "---\n",
      "my dad s    got diagnosed with terminal cancer at the beginning of lock down sadly  it is a no from his aswel \n",
      "---\n",
      "i  nor my family will take the covid shot  ever \n",
      "---\n",
      "you may also get cancer or die in a year or two of a violent reaction to something that used to be harmless to you  some scientists have suggested this   who knows  also  we will not be free to do whatever we want regarding the vaccine  as you will soon see \n",
      "---\n",
      "pfizer expects to make     billion in sales of its covid    vaccine  that will make it the second highest revenue of any drug  anytime  anywhere\n",
      "---\n",
      "no  i feel like all three of the covid vaccinations have been rushed  i want to hear about the side effects to the first people who have taken them  from the volunteers who did a trial with this  i haven’t heard anything positive\n",
      "---\n",
      "micro chipped for all\n",
      "---\n",
      "i got the vaccine i had a mild headache sore injection sight  mild  like someone punching you in the arm during the game  slug bug  lol i got a back ache  mild to medium depending on your pain tolerance  my girlfriend got the same symptoms we are smokers idk if that causes anything different    i feel so much safer now tho i recommend it all the residents at my group home were vaccinated today as well it was   weeks to late though a cook who did not wear her mask properly every   with chronic allergies was infected and spread it to       residents    and up       of which passed away in one week from covid at its worst    of the    residents went to the hospital for    days or so defending  i say all this because if your scared of the vaccine do it for someone you care about and not for yourself because covid and mask if no big deal until one person does not follow the protocols and now u have a a wildfire spread throughout your work or family home  i was scared at to get vaccinated but i had to be the first at my job to show othersthat its safe \n",
      "---\n",
      "yeah because everyone is so excited for vaccines  it was not good enough that we drink and eat posion now they want us to inject it in to us\n",
      "---\n",
      "taking a vaccine is the price we pay for living in a modern society \n",
      "---\n",
      "i opted out of it at work  i went back to work the day after my residences got theirs   i was not a pretty sight  a lot of them were in a lot of pain  had really bad head aches  just did not feel well  \n",
      "---\n",
      "keep this off my face book  vaccine china propaganda machine\n",
      "---\n",
      "the side affects may include being amune to covid   \n",
      "---\n",
      "   obvious crucial questions about the covid vaccines “they” originally promised the only way back to “normal” was a vaccine for coronavirus  “they” obviously lied  fri jan                 pm est january           lifesitenews    according to the government    if i get vaccinated      can i stop wearing the mask  government response   no     can they reopen restaurants  pubs  bars etc and everyone work normally  government response   no     will i be resistant to covid  government response   maybe  but we do not know exactly  it probably will not stop you getting it     at least i will not be contagious to others anymore  government response   no you can still pass it on  possibly  nobody knows      if we vaccinate all children  will school resume normally  government response   no     if i am vaccinated  can i stop social distancing  government response   no     if i am vaccinated  can i stop disinfecting my hands  government response   no     if i vaccinate myself and my grandfather  can we hug each other  government response   no     will cinemas  theatres and stadiums be reopened thanks to vaccines  government response   no      will the vaccinated be able to gather  government response   no      what is the real benefit of vaccination  government response   the virus will not kill you       are you sure it will not kill me  government response   no      if statistically the virus will not kill me anyway     why would i get vaccinated   government response   to protect others       so if i get vaccinated  the others are      sure I am not infecting them  government response   no so to summarize  the covid   vaccine    does not give immunity  does not eliminate the virus  does not prevent death  does not guarantee you won’t get it  does not prevent you from getting it  does not stop you passing it on does not eliminate the need for travel bans  does not eliminate the need for business closures  does not eliminate the need for lockdowns  does not eliminate the need for masking  so   what is it actually doing  you haven’t forgotten that “they” originally promised the only way back to “normal” was a vaccine for coronavirus  “they” obviously lied  in addition  a number of prominent leaders have lately been insisting there will be no return to normal  they are now very open about saying that everything has permanently changed to a “new normal ” klaus schwab – founder of the world economic forum – makes it very clear in this excerpt from a talk by him  everything that we are going through right now  including very dangerous  catastrophic lockdowns  will remain with us forever  dr  simone gold talk below  that are not allowed to be used  is their excuse for this dramatic  imposed change on the entire world population for a virus and for the large majority of the population  their supposed solution of the “experimental” covid vaccine  as you can see from the above list  is not really a medical solution at all  it is not only not effective  it is increasingly looking to be unusually dangerous for an alleged “vaccine”  which it is not  dr  gold has recently given one of the best talks to date on the virus and dangers of the “experimental” vaccines  everyone should watch this talk  it should be promoted around the world  so  again  what is the real purpose of these vaccines  they have already told us – control of everyone to impose a new world order  th industrial revolution  we will all be required to have a vaccine passport or digital proof of vaccine  just as in communist china  in order to enjoy already god given rights and freedoms  democracy and national sovereignty will be taken away and replaced by rule by a small  very powerful and wealthy elite  everyone needs to stop watching all television and newspaper news and actively organize to oppose this world tyranny  anyone who believes any of their propaganda and goes along with it is making the biggest mistake of their lives \n",
      "---\n",
      "i’m from the uk and i’m so very sick   weeks after taking the vaccine please beware i have arthritis and it’s much worse it makes you feel like you’re dying\n",
      "---\n",
      "i dont believe it   \n",
      "---\n",
      "i do not feel like i need it  im    and perfectly healthy  old and weak people can get it first\n",
      "---\n",
      "the covid mutation is far more rapid than the vaccination \n",
      "---\n",
      "its fake news   covid and vaccise is hoax\n",
      "---\n",
      "from what i can tell it was better hygiene that saved millions of people over the last      years and not vaccinations\n",
      "---\n",
      "i am very reluctant to have this vaccine  but will just see what happens to everyone else  in a few months time   my elderly neighbour had a bad reaction to the first one    he has not had the second one yet  i hope in a few months  years  everyone will he ok   but for me it is a no at the moment \n",
      "---\n",
      "ft   israel has more than     vaccination but their new covid cases are not diminishing  any analysis you can provide  thanks \n",
      "---\n",
      "you have survived infectious diseases so far  due to vaccine \n",
      "---\n",
      "they inject you future mutations  let us see where that leads to the ones that took it\n",
      "---\n",
      "can we stop calling it a vaccine\n",
      "---\n",
      "i am selflessly refusing a vaccine to make sure a person of color gets it before my privileged self  after all  we do not know all of the effects \n",
      "---\n",
      "you guys do understand that being against the covid vaccine is not the same as being anti vaccines right \n",
      "---\n",
      "work for a major healthcare provider and even then they’ll only provide upto for going to get it  some of my coworkers are even holding off getting the vaccine for that very reason \n",
      "---\n",
      "psuedo science  logic   no one dies from the vaccine because we attribute all deaths to covid \n",
      "---\n",
      "i got covid   my relatives and friends              years old with diabetics obese high pressure survived by healing at home just herbal teas and honey  we all eat mostly natural food home cooked or years  we walk   h a day go natural   simplify your life  \n",
      "---\n",
      "i rather get covid and be done with it than to take the vaccine\n",
      "---\n",
      "it doesn’t seem that either one of them would rush you get the vaccine  i am     and i am certainly not \n",
      "---\n",
      "that’s exactly what i was thinking like i just want to wait to for more testing until i take it\n",
      "---\n",
      "i do not want to get vaccinated  i would prefer to take the distance measurements than losing my life after this vaccine \n",
      "---\n",
      "yes  when you invest billions of dollars into vaccine development it becomes extremely difficult to allow a potentially better cheaper already existing option like ivermectin on to the playing field \n",
      "---\n",
      "ya right  remember when doctors recommended tobacco for good health \n",
      "---\n",
      "two nhs staff suffer anaphylaxis after the covid vaccine\n",
      "---\n",
      "I am running a vaccine trial with myself as the guinea pig      good food  vitamin d  sleep and social distancing  so far it is      effective \n",
      "---\n",
      "the media coverage misinformation  government bureaucracy  and peoples  unrealistic expectations and lack of patience based on the logistical difficulties  please stop telling the general public they can get a covid vaccine at any local pharmacy  let us handle things when we actually secure said product and stop wasting everyones  time giving people false information about where when people can get covid vaccinations \n",
      "---\n",
      "im scared that i will get the side effects\n",
      "---\n",
      "my mother died of covid one week ago   or   days after receiving the first dose of the vaccine   i will never take it\n",
      "---\n",
      "true story  person tests negative for “covid”   times and is in good health  person receives vaccine and becomes seriously ill immediately  all with knowledge of this are worried and accept vaccine as the culprit  medical professionals acknowledge vaccine reaction day day after\n",
      "---\n",
      "tens of thousands of people who have convictions for drug offences  fraud  dishonesty  assault  football hooliganism etc etc will soon find their future horizons are very limited  incl being barred from foreign holiday destinations  once covid controls have been lifted \n",
      "---\n",
      "who would take the vaccine without doing thorough research   sheep\n",
      "---\n",
      "the vaccine was never necessary because         of people survive covid and when someone survives it  that person becomes immune and will not be capable of passing it onto people  and when enough people have gotten it  herd immunity takes effect and covid goes extinct  by slowing the spread of covid which is a relatively harmless virus  you are giving it chances to mutate and therefore inhibiting herd immunity \n",
      "---\n",
      "no one should be tracked or forced into vaccines  the governments already starting to control us  there making us wear masks  making us stop working  making us social distance  the governments controlling our lives and it’s crazy \n",
      "---\n",
      "zero covid is incredibly easy to achieve  getting to minimal cases more so  as many counties are proving  we just do not have the discipline  we have a narcissistic culture instead  many do not have the intellectual capacity to do what needs to be done  so we are relying on vaccines\n",
      "---\n",
      "an nhs nurse who has contracted covid    three weeks after being vaccinated says she is  angry and heartbroken \n",
      "---\n",
      "the guardian doing its part to push the vaccine agenda \n",
      "---\n",
      "my mom in lb received a whatsapp list of    categories who should not receive covid vaccine  it includes very random categories  like those with high blood pressure  as far as i know  only pregnant women are advised against it  or am i missing something \n",
      "---\n",
      "side effects  you get to live  youre welcome\n",
      "---\n",
      "is not it weird how when this video was released a month ago there was barely any anti vaxxer conspiracy theorists in the comments  but in the last     weeks they came out of nowhere  i wonder why ðÿ¤”\n",
      "---\n",
      "well  i cannot be the only person scared shitless by these scientists giving it their best  reckon  \n",
      "---\n",
      "how the hell this vaccine was allowed to roll out this fast is incredible \n",
      "---\n",
      "this vaccine will be the end of us\n",
      "---\n",
      "i thought it was done using the  bypassing all required testing and get it done as quickly as possible approach   combined with the  let us produce tens of millions of doses while we are still testing it  so we can make the most money out of this bs plandemic approach     \n",
      "---\n",
      "bbc lies     of the time according to top scientists\n",
      "---\n",
      "its not just a vaccine  next comes your health passport  then yearly vaccines to keep your health passport valid and to keep up with changing strains  then it will be drugs to combat the conditions caused by the vaccines  then more drugs to combat the side effects of the other drugs  follow the money trail \n",
      "---\n",
      "herd immunity takes effect and covid goes extinct \n",
      "---\n",
      "i just watched a video that said people can turn into a reptile after taking the vaccine\n",
      "---\n",
      "I will have the vaccine   when it is been around a lot longer and all the side effects are known\n",
      "---\n",
      "should keep in mind that        of hospitalizations occur in about     of the population  everyone does not need to be vaccinated in order to make a big difference \n",
      "---\n",
      "i hate to say it but this is starting to look like natural selection on a vast scale  thousands of cars formed queues miles long and waited for hours to get vaccinated at dodger stadium in los angeles  hundreds of people tried to hand them leaflets with information about the  vaccine   it is ingredients and it is dangers  the sheep kept their car windows tightly closed  just like little children sticking their fingers in their ears and yelling  na na na na   those pamphlets could have saved their lives \n",
      "---\n",
      "really  who checked that cdc  fda  ema  or they just say so because of stock value \n",
      "---\n",
      "many people i talk with at work have said they will not get the vaccine and it pisses me off because they in my opinion are no better than the people who do not wear masks and do not wash hands and are one of the major reasons the virus has spread…\n",
      "---\n",
      "side effects according to studies come after the  nd dose of vaccination \n",
      "---\n",
      "vaccine doesn’t stop the spread  even if everyone got the vaccine the virus can still spread  the virus is likely to stop you from getting very sick if you get covid  but not certainly  basically  we all are gonna get covid and that’s the only way out of this\n",
      "---\n",
      "my mother’s healthcare place called to get permission to give my    year old mother one of the vaccines and i said no way\n",
      "---\n",
      "all those vaccines made you autistic  as expected\n",
      "---\n",
      "too many are jumping to get this vaccine thinking it is a lifeline  when it could be a sinker \n",
      "---\n",
      "read psalms     the best protection against covid without side effects  no mercenaries involved\n",
      "---\n",
      "you made a huge mistake  you just altered you dna if it dont effect you it will effect your children   if you will be able to have any \n",
      "---\n",
      "well  vaccine was      effective in killing a doctor from brazil last year  look at the history of vaccine  the  st polio vaccine that went out to the kids in quartine died from the  st batch of vaccines  the news is so biased not a single episode has been based  i want ingredients for vaccine and pros and cons \n",
      "---\n",
      "i am over    with kidney disease  and my husband is over    with diabetes  we both got covid back in august along with out kids who live with us  only had a fever for a couple days and some body aches  but nothing bad  i am a nutritionist and we eat very healthy  we upped our intake of zinc  quercetin  vitamin c  vitamin d   nac  selenium  drank lots of water and rested  this does not have to be a death sentence even for vulnerable people like us \n",
      "---\n",
      "this is amezing wwery gratefull for this good explanation\n",
      "---\n",
      "the vaccine cannot save you from judgement day \n",
      "---\n",
      "free   my coronavirus shot  up for grabs          \n",
      "---\n",
      "ps  once people have gotten the vaccine they are even more likely to spread the virus \n",
      "---\n",
      "back then i think vaccines did save lives because they were not in the hands of psychos unlike today \n",
      "---\n",
      "well my mom started losing her hair so it must be a good thing right \n",
      "---\n",
      "stop vaxxing healthy people \n",
      "---\n",
      "soon zombie nation to arrive \n",
      "---\n",
      "not peer reviewed or through regulatory approval yet   a bit of patience is due \n",
      "---\n",
      "I will do without a vaccine thank you  I have done perfectly well taking vitamins \n",
      "---\n",
      "what about the one s dying at their first injection\n",
      "---\n",
      "paid advertising of pfizer vaccines  and is the funny hat also from pfizer  well done \n",
      "---\n",
      "we live in the age of misinformation  more people would rather believe some random post they saw a friend post on facebook than listen to an actual scientist  truly crazy times we live in\n",
      "---\n",
      "interesting that anti bodies only last a few month   but vaccine works  \n",
      "---\n",
      "vaccination is to reduce population     \n",
      "---\n",
      "i’m a registered nurse and i refuse to get it \n",
      "---\n",
      "first  don’t talk to us as we are clueless kids  second  i watched this video till the end just to hear your main argument for safety is “ science is awesome ” common  for the first time in history you tell the human cell to produce a foreign particle that the immune system detects as threat  and all you have to say is “awesome”   this is the main reason why folks are concerned and there is absolutely no credible explanation offered as to how this mechanism of artificial manipulation of human cell to manufacture a part of the virus is safe  “normal” and harmless \n",
      "---\n",
      "i cannot wait until i catch covid    but i do refuse to take the shot \n",
      "---\n",
      "if you are not in a vulnerable so the chances of you being even seriously ill are say   in         then the vaccine has to be safer than that  it is a simple balance of risk  i would not take the flu jab each year if it was likely to cause a severe asthma attack  I had risk the flu despite my asthma\n",
      "---\n",
      "it is official a friend of mine sister took the injection   weeks ago now she is dead note she was in perfect health and pressured into it by her job she leaves behind three beautiful children and a loving husband\n",
      "---\n",
      "I had love to see another video with both of you getting the vaccine and then reporting a day a week later how your feeling\n",
      "---\n",
      "i can live without it \n",
      "---\n",
      "it is amazing how a vaccine can be made in a couple of weeks for a new variant  i smell bullshit\n",
      "---\n",
      "I am so happy that my grandparents do not wanna take it  big no  \n",
      "---\n",
      "ever heard of herd immunity  take the fucking vaccine you dumdum\n",
      "---\n",
      "I am fine with it  more vaccine for those who need it \n",
      "---\n",
      "not too bothered about the  after jab  effect but i have chosen to decline the vaccine  as have other family members  good luck to all making their choices \n",
      "---\n",
      "to vaccinate the world you need lots of brainwashing to someones and lots of threats or intimidations to others  can not be done without these methods\n",
      "---\n",
      "all my coworkers went and got the covid vaccine today and made some post sounding like they didn’t want to but it was “doing their part to get their students back ” i could never \n",
      "---\n",
      "i don’t think we will even need a vaccine to end this pandemic\n",
      "---\n",
      "my kid is perfectly healthy and he had no polio vaccine \n",
      "---\n",
      "once there is some honesty and transparency in the reporting of side effects and associated deaths   switzerland declines to authorise astrazeneca vaccine \n",
      "---\n",
      "it is the beginning of the end of freedom   screw the vaccine  \n",
      "---\n",
      "keep calm and get get bill and melinda in ur arm \n",
      "---\n",
      "to me the vaccine is one way for the government to wipe millions of people out without pulling a trigger\n",
      "---\n",
      "almost every complication shows up within two weeks  so far  the mild side effects are the ones you want\n",
      "---\n",
      "ironic that these children s parents are vaccinated and fine   well as fine as you can get to prefer a dead kid over an autistic kid  anyone who wants a dead child over an autistic kid does not even deserve a kid \n",
      "---\n",
      "health care worker dies after second dose of  covid  vaccine \n",
      "---\n",
      "disgusting targeting the elderly like this\n",
      "---\n",
      "i had a bad reaction to the only flu shot that i got  even though i am in and out of hospitals all day  i’m waiting to get vaccinated until more information comes out about it \n",
      "---\n",
      "better get your shot british covid baby and africa ebola covid baby could meet up and bring forth godzilla s revenge  or world war z  i admit I have watched that movie a few times this last year  prep work  keep your vaccine  i never touch the stuff  ever  \n",
      "---\n",
      "my friend took the vaccine she’s seriously messed up now i took a video of her on my channel  messed up stuff man       \n",
      "---\n",
      "would another way of looking at these deaths be this  the same people who are fatally vulnerable to covid    are also fatally vulnerable to the vaccine for the same reasons  if this is a correct statement  then doesn’t this cast doubt on the benefit of this vaccine \n",
      "---\n",
      "the covid vaccines are simply no good  time to be honest with the people \n",
      "---\n",
      "the question is why the ceo of pfizer doesnt want to take the vaccine  grinning face with smiling eyes \n",
      "---\n",
      "when anti vaxxers refuse they vaccine they must also be made to sign a waiver that neither them or any of their family will receive treatment by the nhs when they catch covid     and they are locked in quarantine until they die recover  simples \n",
      "---\n",
      "i dont make the vaccine thank you\n",
      "---\n",
      "fine  don’t take the vaccine  enough people will take it to counter your ignorance  just don’t expect to be allowed to travel across any international borders \n",
      "---\n",
      "they are volunteering for vaccines for getting off loans    we know where we failed\n",
      "---\n",
      "my dad is a doctor and he said the vaccines are fake\n",
      "---\n",
      "covid    awareness and vaccination has been recorded as a sustainable aids\n",
      "---\n",
      "i am gonna save my life and not vaccinate   \n",
      "---\n",
      "one of the medical profession s greatest boasts is that it eradicated smallpox through the use of the smallpox vaccine  i myself believed this claim for many years  but it simply is not true \n",
      "---\n",
      "i wonder if this data will bring about a change in the policies of some countries not to use this vaccine on the over   s  lets hope its not too late for this obvious error to be corrected \n",
      "---\n",
      "ah yes  the karen’s have come together to make the ultimate cringe\n",
      "---\n",
      "if i were you  I had think before doing something so rash\n",
      "---\n",
      "vaccination should be given to those who claim its safe \n",
      "---\n",
      "but you can’t say it’s better than getting covid when a third have no symptoms and the vast majority of the rest have mild symptoms   i’ve had covid twice now and only had a mild cough  i won’t be having the vaccine  i’m not anti vax but i am pro safety too many unknowns for me\n",
      "---\n",
      "are theses paid actors or models posing for this    to make us think they got the vaccine\n",
      "---\n",
      "i do not consider vaccines for myself unless the disease is really serious   not from an obvious nutrient deficiency \n",
      "---\n",
      "my son’s girlfriend got her second moderna vaccine today and she’s sick with a fever    she feels like she has covid again \n",
      "---\n",
      "i found myself an integrative doctor  she is fantastic  she even said the covid vaccine is bad and she wouldn’t be giving it \n",
      "---\n",
      "let us remember      as the year when moribund institutions killed almost   million people  with the help of a moderately bad virus we had a vaccine for in fucking january\n",
      "---\n",
      "I will take my chances without the vaccine thank you\n",
      "---\n",
      "sterilising the new generations  the future of mankind  \n",
      "---\n",
      "you can have my vaccine  i have just declined it  and i am still in perfect health  \n",
      "---\n",
      "i am also skeptical about the vaccine\n",
      "---\n",
      "the moment anti vaxx say vaccines cause autism that is when i plug my ears and compassion goes out the window\n",
      "---\n",
      "hearing that the person got transverse myelitis and paralysis of hands and feet  it would not be the first time that these type of sars vaccine had that side effect  we have to wait\n",
      "---\n",
      "I am too allergic to medications and vaccines  I am not afraid of getting covid and will not be getting it  my surgeon who was doing my foot surgery had his second dose and had to be hospitalized  nope\n",
      "---\n",
      "israeli data supports pfizer vaccine effectiveness           fully vaccinated     positive covid cases\n",
      "---\n",
      "vaccins are always poisonis\n",
      "---\n",
      "so you have a chance to die twice  d who would not want that  update  xxxxxxxxxxxxxxxx just answered that dudes question lets see if youtube will post it  o\n",
      "---\n",
      "my current expectation is no  however i live in australia  where covid    is virtually eradicated \n",
      "---\n",
      "ppp have died and passed out from that vaccine shjt i just knew it before ir happened by studying how currupted yall united states country always going to continue to bees if they befn dojn for decades they definitely not stop in or slowing down they gotta tribble movie plan and dey fonba make sure nothing gets in they ways\n",
      "---\n",
      "i cannot wait to still have to wear a mask everywhere after i finally get vaccinated \n",
      "---\n",
      "i want everyone to be safe and healthy  i want covid numbers to go down \n",
      "---\n",
      "fabiafidus   minuscule    so you’d be fine if that   death in       is your child  partner  parent or sibling  bet you couldn’t say yes  just one life taken from a vaccine is unacceptable  \n",
      "---\n"
     ]
    }
   ],
   "source": [
    "# For anti-vaccination\n",
    "for i in range(len(Ypred)):\n",
    "  if Ypred[i] != Ytest.values[i] and Ytest.values[i]==0:\n",
    "    print(Xtest.values[i])\n",
    "    print('---')"
   ]
  },
  {
   "cell_type": "code",
   "execution_count": 121,
   "metadata": {
    "colab": {
     "base_uri": "https://localhost:8080/"
    },
    "id": "t6roB00MW3Q7",
    "outputId": "fa83f7d3-4460-480c-fa59-d6fdcbd113c3"
   },
   "outputs": [
    {
     "name": "stdout",
     "output_type": "stream",
     "text": [
      "[[-7.97281078 -7.97281078 -7.97281078 ... -7.2796636  -7.97281078\n",
      "  -7.97281078]]\n"
     ]
    }
   ],
   "source": [
    "# Finding feature importances\n",
    "feature_names = bnb_pipeline.named_steps[\"tfidfvectorizer\"].get_feature_names()\n",
    "importances = bnb_pipeline.steps[1][1].coef_\n",
    "\n",
    "print(importances)"
   ]
  },
  {
   "cell_type": "code",
   "execution_count": 122,
   "metadata": {
    "id": "l99sPhxXW3RE"
   },
   "outputs": [],
   "source": [
    "df = pd.DataFrame(columns=[\"feature_names\", \"importances\"])\n",
    "df[\"feature_names\"] = feature_names\n",
    "df[\"importances\"] = importances[0]\n",
    "# print(len(importances))\n",
    "# df"
   ]
  },
  {
   "cell_type": "code",
   "execution_count": 123,
   "metadata": {
    "colab": {
     "base_uri": "https://localhost:8080/",
     "height": 419
    },
    "id": "92V_tXONW3RG",
    "outputId": "5a850fc2-527b-4bc6-c6e3-2be040120fac"
   },
   "outputs": [
    {
     "data": {
      "text/html": [
       "<div>\n",
       "<style scoped>\n",
       "    .dataframe tbody tr th:only-of-type {\n",
       "        vertical-align: middle;\n",
       "    }\n",
       "\n",
       "    .dataframe tbody tr th {\n",
       "        vertical-align: top;\n",
       "    }\n",
       "\n",
       "    .dataframe thead th {\n",
       "        text-align: right;\n",
       "    }\n",
       "</style>\n",
       "<table border=\"1\" class=\"dataframe\">\n",
       "  <thead>\n",
       "    <tr style=\"text-align: right;\">\n",
       "      <th></th>\n",
       "      <th>feature_names</th>\n",
       "      <th>importances</th>\n",
       "    </tr>\n",
       "  </thead>\n",
       "  <tbody>\n",
       "    <tr>\n",
       "      <th>49050</th>\n",
       "      <td>the</td>\n",
       "      <td>-0.509448</td>\n",
       "    </tr>\n",
       "    <tr>\n",
       "      <th>52225</th>\n",
       "      <td>to</td>\n",
       "      <td>-0.784398</td>\n",
       "    </tr>\n",
       "    <tr>\n",
       "      <th>55428</th>\n",
       "      <td>vaccine</td>\n",
       "      <td>-0.791980</td>\n",
       "    </tr>\n",
       "    <tr>\n",
       "      <th>2250</th>\n",
       "      <td>and</td>\n",
       "      <td>-0.927034</td>\n",
       "    </tr>\n",
       "    <tr>\n",
       "      <th>26255</th>\n",
       "      <td>it</td>\n",
       "      <td>-1.190619</td>\n",
       "    </tr>\n",
       "    <tr>\n",
       "      <th>...</th>\n",
       "      <td>...</td>\n",
       "      <td>...</td>\n",
       "    </tr>\n",
       "    <tr>\n",
       "      <th>29868</th>\n",
       "      <td>mandated</td>\n",
       "      <td>-7.972811</td>\n",
       "    </tr>\n",
       "    <tr>\n",
       "      <th>29866</th>\n",
       "      <td>mandate healthy</td>\n",
       "      <td>-7.972811</td>\n",
       "    </tr>\n",
       "    <tr>\n",
       "      <th>29865</th>\n",
       "      <td>mandate exercise</td>\n",
       "      <td>-7.972811</td>\n",
       "    </tr>\n",
       "    <tr>\n",
       "      <th>29858</th>\n",
       "      <td>management of</td>\n",
       "      <td>-7.972811</td>\n",
       "    </tr>\n",
       "    <tr>\n",
       "      <th>61469</th>\n",
       "      <td>œmade in</td>\n",
       "      <td>-7.972811</td>\n",
       "    </tr>\n",
       "  </tbody>\n",
       "</table>\n",
       "<p>61470 rows × 2 columns</p>\n",
       "</div>"
      ],
      "text/plain": [
       "          feature_names  importances\n",
       "49050               the    -0.509448\n",
       "52225                to    -0.784398\n",
       "55428           vaccine    -0.791980\n",
       "2250                and    -0.927034\n",
       "26255                it    -1.190619\n",
       "...                 ...          ...\n",
       "29868          mandated    -7.972811\n",
       "29866   mandate healthy    -7.972811\n",
       "29865  mandate exercise    -7.972811\n",
       "29858     management of    -7.972811\n",
       "61469          œmade in    -7.972811\n",
       "\n",
       "[61470 rows x 2 columns]"
      ]
     },
     "execution_count": 123,
     "metadata": {
      "tags": []
     },
     "output_type": "execute_result"
    }
   ],
   "source": [
    "df.sort_values(by='importances',ascending=False)"
   ]
  },
  {
   "cell_type": "markdown",
   "metadata": {
    "id": "h2qf6uoUuKZm"
   },
   "source": [
    "#### No Emoji Conversion and stop word removal"
   ]
  },
  {
   "cell_type": "code",
   "execution_count": 124,
   "metadata": {
    "id": "aSBdnjdyuKZr"
   },
   "outputs": [],
   "source": [
    "training = data.copy()\n",
    "X = training['comment']\n",
    "Y = training['label']\n",
    "Xtrain, Xtest, Ytrain, Ytest = train_test_split(X, Y, test_size=0.3, random_state=0)\n",
    "Ytrain = Ytrain.astype('int')\n",
    "Ytest = Ytest.astype('int')"
   ]
  },
  {
   "cell_type": "code",
   "execution_count": 125,
   "metadata": {
    "colab": {
     "base_uri": "https://localhost:8080/"
    },
    "id": "2wkKBNbwuKZt",
    "outputId": "8dcfcf73-355f-405b-c74a-dbbacc9619ef"
   },
   "outputs": [
    {
     "data": {
      "text/plain": [
       "Pipeline(memory=None,\n",
       "         steps=[('tfidfvectorizer',\n",
       "                 TfidfVectorizer(analyzer='word', binary=False,\n",
       "                                 decode_error='strict',\n",
       "                                 dtype=<class 'numpy.float64'>,\n",
       "                                 encoding='utf-8', input='content',\n",
       "                                 lowercase=True, max_df=1.0, max_features=None,\n",
       "                                 min_df=1, ngram_range=(1, 2), norm='l2',\n",
       "                                 preprocessor=None, smooth_idf=True,\n",
       "                                 stop_words={'a', 'about', 'above', 'after',\n",
       "                                             'again', 'all', 'am',...\n",
       "                                             'any', 'are', 'as', 'at', 'be',\n",
       "                                             'because', 'been', 'before',\n",
       "                                             'being', 'below', 'between',\n",
       "                                             'both', 'by', 'can', 'd', 'did',\n",
       "                                             'do', 'does', 'doing', 'down',\n",
       "                                             'during', ...},\n",
       "                                 strip_accents=None, sublinear_tf=False,\n",
       "                                 token_pattern='(?u)\\\\b\\\\w\\\\w+\\\\b',\n",
       "                                 tokenizer=None, use_idf=True,\n",
       "                                 vocabulary=None)),\n",
       "                ('bernoullinb',\n",
       "                 BernoulliNB(alpha=1.0, binarize=0.0, class_prior=None,\n",
       "                             fit_prior=True))],\n",
       "         verbose=False)"
      ]
     },
     "execution_count": 125,
     "metadata": {
      "tags": []
     },
     "output_type": "execute_result"
    }
   ],
   "source": [
    "bnb_pipeline = make_pipeline( \n",
    "              TfidfVectorizer(stop_words=nltk_stopwords, ngram_range=(1, 2)), \n",
    "              BernoulliNB()\n",
    "          )\n",
    "\n",
    "bnb_pipeline.fit(Xtrain, Ytrain)"
   ]
  },
  {
   "cell_type": "markdown",
   "metadata": {
    "id": "fpRj7npgvYfc"
   },
   "source": [
    "##### Classification report"
   ]
  },
  {
   "cell_type": "code",
   "execution_count": 126,
   "metadata": {
    "colab": {
     "base_uri": "https://localhost:8080/"
    },
    "id": "5r5a9pdpuKZw",
    "outputId": "f56889a2-2914-486f-a0bf-812f883b7ac8"
   },
   "outputs": [
    {
     "name": "stdout",
     "output_type": "stream",
     "text": [
      "Bernouilli's Naive Bayes with no stop words removed: \n",
      "              precision    recall  f1-score   support\n",
      "\n",
      "           0       0.79      0.83      0.81      1132\n",
      "           1       0.85      0.80      0.82      1274\n",
      "\n",
      "    accuracy                           0.82      2406\n",
      "   macro avg       0.82      0.82      0.82      2406\n",
      "weighted avg       0.82      0.82      0.82      2406\n",
      "\n"
     ]
    }
   ],
   "source": [
    "print(\"Bernouilli's Naive Bayes with no stop words removed: \")\n",
    "print(classification_report(bnb_pipeline.predict(Xtest), Ytest))\n",
    "bnb_sw = classification_report(bnb_pipeline.predict(Xtest), Ytest)"
   ]
  },
  {
   "cell_type": "code",
   "execution_count": 127,
   "metadata": {
    "colab": {
     "base_uri": "https://localhost:8080/",
     "height": 281
    },
    "id": "h3LmTyFsuKZy",
    "outputId": "3fb1abb6-a189-4dbe-a945-3e994a0f6048"
   },
   "outputs": [
    {
     "data": {
      "image/png": "[encoded data removed]",
      "text/plain": [
       "<Figure size 432x288 with 2 Axes>"
      ]
     },
     "metadata": {
      "needs_background": "light",
      "tags": []
     },
     "output_type": "display_data"
    }
   ],
   "source": [
    "cm = confusion_matrix(bnb_pipeline.predict(Xtest), Ytest)\n",
    "ax = plt.axes()\n",
    "sns.heatmap(cm, annot=True, annot_kws={\"size\": 10}, fmt='d',cmap=\"Blues\", ax = ax )\n",
    "ax.set_title('Confusion Matrix')\n",
    "plt.show()"
   ]
  },
  {
   "cell_type": "markdown",
   "metadata": {
    "id": "MeNP3Yl2uq83"
   },
   "source": [
    "#### Emoji Conversion and stop word removal"
   ]
  },
  {
   "cell_type": "code",
   "execution_count": 128,
   "metadata": {
    "id": "RdIpRw-Tuq87"
   },
   "outputs": [],
   "source": [
    "training = data.copy()\n",
    "training =emoji_convert(training)\n",
    "training['comment'] = training['comment'].str.replace('[{}]'.format(string.punctuation), ' ')   # Removing punctuations\n",
    "X = training['comment']\n",
    "Y = training['label']\n",
    "Xtrain, Xtest, Ytrain, Ytest = train_test_split(X, Y, test_size=0.3, random_state=0)\n",
    "Ytrain = Ytrain.astype('int')\n",
    "Ytest = Ytest.astype('int')"
   ]
  },
  {
   "cell_type": "code",
   "execution_count": 129,
   "metadata": {
    "colab": {
     "base_uri": "https://localhost:8080/"
    },
    "id": "ZmRAkkTBuq88",
    "outputId": "2e484061-bf88-4026-d9dc-dfc3aed864b2"
   },
   "outputs": [
    {
     "data": {
      "text/plain": [
       "Pipeline(memory=None,\n",
       "         steps=[('tfidfvectorizer',\n",
       "                 TfidfVectorizer(analyzer='word', binary=False,\n",
       "                                 decode_error='strict',\n",
       "                                 dtype=<class 'numpy.float64'>,\n",
       "                                 encoding='utf-8', input='content',\n",
       "                                 lowercase=True, max_df=1.0, max_features=None,\n",
       "                                 min_df=1, ngram_range=(1, 2), norm='l2',\n",
       "                                 preprocessor=None, smooth_idf=True,\n",
       "                                 stop_words={'a', 'about', 'above', 'after',\n",
       "                                             'again', 'all', 'am',...\n",
       "                                             'any', 'are', 'as', 'at', 'be',\n",
       "                                             'because', 'been', 'before',\n",
       "                                             'being', 'below', 'between',\n",
       "                                             'both', 'by', 'can', 'd', 'did',\n",
       "                                             'do', 'does', 'doing', 'down',\n",
       "                                             'during', ...},\n",
       "                                 strip_accents=None, sublinear_tf=False,\n",
       "                                 token_pattern='(?u)\\\\b\\\\w\\\\w+\\\\b',\n",
       "                                 tokenizer=None, use_idf=True,\n",
       "                                 vocabulary=None)),\n",
       "                ('bernoullinb',\n",
       "                 BernoulliNB(alpha=1.0, binarize=0.0, class_prior=None,\n",
       "                             fit_prior=True))],\n",
       "         verbose=False)"
      ]
     },
     "execution_count": 129,
     "metadata": {
      "tags": []
     },
     "output_type": "execute_result"
    }
   ],
   "source": [
    "\n",
    "bnb_pipeline = make_pipeline( \n",
    "              TfidfVectorizer(stop_words=nltk_stopwords, ngram_range=(1, 2)), \n",
    "              BernoulliNB()\n",
    "          )\n",
    "\n",
    "bnb_pipeline.fit(Xtrain, Ytrain)"
   ]
  },
  {
   "cell_type": "markdown",
   "metadata": {
    "id": "4HzeqCO3vbQK"
   },
   "source": [
    "##### Classification report"
   ]
  },
  {
   "cell_type": "code",
   "execution_count": 130,
   "metadata": {
    "colab": {
     "base_uri": "https://localhost:8080/"
    },
    "id": "G_6Eoefbuq89",
    "outputId": "58260506-89bf-4c05-95e5-c43983d4c707"
   },
   "outputs": [
    {
     "name": "stdout",
     "output_type": "stream",
     "text": [
      "Bernouilli's Naive Bayes with no stop words removed: \n",
      "              precision    recall  f1-score   support\n",
      "\n",
      "           0       0.79      0.84      0.81      1125\n",
      "           1       0.85      0.80      0.82      1281\n",
      "\n",
      "    accuracy                           0.82      2406\n",
      "   macro avg       0.82      0.82      0.82      2406\n",
      "weighted avg       0.82      0.82      0.82      2406\n",
      "\n"
     ]
    }
   ],
   "source": [
    "print(\"Bernouilli's Naive Bayes with no stop words removed: \")\n",
    "print(classification_report(bnb_pipeline.predict(Xtest), Ytest))\n",
    "bnb_emoji_sw = classification_report(bnb_pipeline.predict(Xtest), Ytest)"
   ]
  },
  {
   "cell_type": "code",
   "execution_count": 131,
   "metadata": {
    "colab": {
     "base_uri": "https://localhost:8080/",
     "height": 281
    },
    "id": "W-il58MRuq8-",
    "outputId": "59a39c0c-a8c5-4949-bc52-8a85c4201d32"
   },
   "outputs": [
    {
     "data": {
      "image/png": "[encoded data removed]",
      "text/plain": [
       "<Figure size 432x288 with 2 Axes>"
      ]
     },
     "metadata": {
      "needs_background": "light",
      "tags": []
     },
     "output_type": "display_data"
    }
   ],
   "source": [
    "cm = confusion_matrix(bnb_pipeline.predict(Xtest), Ytest)\n",
    "ax = plt.axes()\n",
    "sns.heatmap(cm, annot=True, annot_kws={\"size\": 10}, fmt='d',cmap=\"Blues\", ax = ax )\n",
    "ax.set_title('Confusion Matrix')\n",
    "plt.show()"
   ]
  },
  {
   "cell_type": "markdown",
   "metadata": {
    "id": "GjXBSdAnvjgn"
   },
   "source": [
    "#### No Emoji Conversion and No stop word removal"
   ]
  },
  {
   "cell_type": "code",
   "execution_count": 132,
   "metadata": {
    "id": "r-nUxW2Ovjgq"
   },
   "outputs": [],
   "source": [
    "training = data.copy()\n",
    "X = training['comment']\n",
    "Y = training['label']\n",
    "Xtrain, Xtest, Ytrain, Ytest = train_test_split(X, Y, test_size=0.3, random_state=0)\n",
    "Ytrain = Ytrain.astype('int')\n",
    "Ytest = Ytest.astype('int')"
   ]
  },
  {
   "cell_type": "code",
   "execution_count": 133,
   "metadata": {
    "colab": {
     "base_uri": "https://localhost:8080/"
    },
    "id": "beK-bMwLvjgr",
    "outputId": "eeecc168-846a-4d36-ccda-a850ca584377"
   },
   "outputs": [
    {
     "data": {
      "text/plain": [
       "Pipeline(memory=None,\n",
       "         steps=[('tfidfvectorizer',\n",
       "                 TfidfVectorizer(analyzer='word', binary=False,\n",
       "                                 decode_error='strict',\n",
       "                                 dtype=<class 'numpy.float64'>,\n",
       "                                 encoding='utf-8', input='content',\n",
       "                                 lowercase=True, max_df=1.0, max_features=None,\n",
       "                                 min_df=1, ngram_range=(1, 2), norm='l2',\n",
       "                                 preprocessor=None, smooth_idf=True,\n",
       "                                 stop_words=None, strip_accents=None,\n",
       "                                 sublinear_tf=False,\n",
       "                                 token_pattern='(?u)\\\\b\\\\w\\\\w+\\\\b',\n",
       "                                 tokenizer=None, use_idf=True,\n",
       "                                 vocabulary=None)),\n",
       "                ('bernoullinb',\n",
       "                 BernoulliNB(alpha=1.0, binarize=0.0, class_prior=None,\n",
       "                             fit_prior='True'))],\n",
       "         verbose=False)"
      ]
     },
     "execution_count": 133,
     "metadata": {
      "tags": []
     },
     "output_type": "execute_result"
    }
   ],
   "source": [
    "bnb_pipeline = make_pipeline( \n",
    "              TfidfVectorizer(stop_words=None, ngram_range=(1, 2)), \n",
    "              BernoulliNB(fit_prior='True')\n",
    "          )\n",
    "\n",
    "bnb_pipeline.fit(Xtrain, Ytrain)"
   ]
  },
  {
   "cell_type": "markdown",
   "metadata": {
    "id": "uha97vGnvjgr"
   },
   "source": [
    "##### Classification report"
   ]
  },
  {
   "cell_type": "code",
   "execution_count": 134,
   "metadata": {
    "colab": {
     "base_uri": "https://localhost:8080/"
    },
    "id": "WnJiMZyUvjgs",
    "outputId": "c5748ed9-a7d0-48c9-e0db-8f7b6e22bb8e"
   },
   "outputs": [
    {
     "name": "stdout",
     "output_type": "stream",
     "text": [
      "Bernouilli's Naive Bayes with no stop words removed: \n",
      "              precision    recall  f1-score   support\n",
      "\n",
      "           0       0.83      0.82      0.83      1204\n",
      "           1       0.82      0.83      0.83      1202\n",
      "\n",
      "    accuracy                           0.83      2406\n",
      "   macro avg       0.83      0.83      0.83      2406\n",
      "weighted avg       0.83      0.83      0.83      2406\n",
      "\n"
     ]
    }
   ],
   "source": [
    "print(\"Bernouilli's Naive Bayes with no stop words removed: \")\n",
    "print(classification_report(bnb_pipeline.predict(Xtest), Ytest))\n",
    "bnb_no = classification_report(bnb_pipeline.predict(Xtest), Ytest)"
   ]
  },
  {
   "cell_type": "code",
   "execution_count": 135,
   "metadata": {
    "colab": {
     "base_uri": "https://localhost:8080/",
     "height": 281
    },
    "id": "kl1HC1_Hvjgt",
    "outputId": "bbb0c753-11ad-42ab-c98a-7f11bbc6ecb1"
   },
   "outputs": [
    {
     "data": {
      "image/png": "[encoded data removed]",
      "text/plain": [
       "<Figure size 432x288 with 2 Axes>"
      ]
     },
     "metadata": {
      "needs_background": "light",
      "tags": []
     },
     "output_type": "display_data"
    }
   ],
   "source": [
    "cm = confusion_matrix(bnb_pipeline.predict(Xtest), Ytest)\n",
    "ax = plt.axes()\n",
    "sns.heatmap(cm, annot=True, annot_kws={\"size\": 10}, fmt='d',cmap=\"Blues\", ax = ax )\n",
    "ax.set_title('Confusion Matrix')\n",
    "plt.show()"
   ]
  },
  {
   "cell_type": "markdown",
   "metadata": {
    "id": "S3Lzml5fl3Xx"
   },
   "source": [
    "## Observations made on Bernoulli's Naive Bayes"
   ]
  },
  {
   "cell_type": "code",
   "execution_count": 136,
   "metadata": {
    "colab": {
     "base_uri": "https://localhost:8080/"
    },
    "id": "Le3pa_dbpTyL",
    "outputId": "441073cb-b5bc-4ce2-b31e-ce9e0a7c69a3"
   },
   "outputs": [
    {
     "name": "stdout",
     "output_type": "stream",
     "text": [
      "              precision    recall  f1-score   support\n",
      "\n",
      "           0       0.83      0.82      0.82      1198\n",
      "           1       0.83      0.83      0.83      1208\n",
      "\n",
      "    accuracy                           0.83      2406\n",
      "   macro avg       0.83      0.83      0.83      2406\n",
      "weighted avg       0.83      0.83      0.83      2406\n",
      "\n"
     ]
    }
   ],
   "source": [
    "#Keeping emoji to words and not removing stop words\n",
    "print(bnb_emoji)"
   ]
  },
  {
   "cell_type": "code",
   "execution_count": 137,
   "metadata": {
    "colab": {
     "base_uri": "https://localhost:8080/"
    },
    "id": "T28Mvyz-pTyM",
    "outputId": "36a9f3e9-92dc-4c0d-a716-d7b8410202ae"
   },
   "outputs": [
    {
     "name": "stdout",
     "output_type": "stream",
     "text": [
      "              precision    recall  f1-score   support\n",
      "\n",
      "           0       0.79      0.84      0.81      1125\n",
      "           1       0.85      0.80      0.82      1281\n",
      "\n",
      "    accuracy                           0.82      2406\n",
      "   macro avg       0.82      0.82      0.82      2406\n",
      "weighted avg       0.82      0.82      0.82      2406\n",
      "\n"
     ]
    }
   ],
   "source": [
    "#Converting emojis to words and removing stop words\n",
    "print(bnb_emoji_sw)"
   ]
  },
  {
   "cell_type": "code",
   "execution_count": 138,
   "metadata": {
    "colab": {
     "base_uri": "https://localhost:8080/"
    },
    "id": "7RaEgKTtpTyN",
    "outputId": "b888cc87-9c26-4d80-8211-b84d178746ac"
   },
   "outputs": [
    {
     "name": "stdout",
     "output_type": "stream",
     "text": [
      "              precision    recall  f1-score   support\n",
      "\n",
      "           0       0.83      0.82      0.83      1204\n",
      "           1       0.82      0.83      0.83      1202\n",
      "\n",
      "    accuracy                           0.83      2406\n",
      "   macro avg       0.83      0.83      0.83      2406\n",
      "weighted avg       0.83      0.83      0.83      2406\n",
      "\n"
     ]
    }
   ],
   "source": [
    "#just converting emoji to words and not removing stop words\n",
    "print(bnb_no)"
   ]
  },
  {
   "cell_type": "code",
   "execution_count": 139,
   "metadata": {
    "colab": {
     "base_uri": "https://localhost:8080/"
    },
    "id": "2J06cff4pTyN",
    "outputId": "6c494034-0612-4da6-b136-aadae1006481"
   },
   "outputs": [
    {
     "name": "stdout",
     "output_type": "stream",
     "text": [
      "              precision    recall  f1-score   support\n",
      "\n",
      "           0       0.79      0.83      0.81      1132\n",
      "           1       0.85      0.80      0.82      1274\n",
      "\n",
      "    accuracy                           0.82      2406\n",
      "   macro avg       0.82      0.82      0.82      2406\n",
      "weighted avg       0.82      0.82      0.82      2406\n",
      "\n"
     ]
    }
   ],
   "source": [
    "#Just removing stop words\n",
    "print(bnb_sw)"
   ]
  },
  {
   "cell_type": "markdown",
   "metadata": {
    "id": "wWVac9yqxXc-"
   },
   "source": [
    "**By going through all the classification report for Bernouilli's naive bayes, removing stop words reduces the quality of the model to detect and correctly predict anti-vaccine comments. So the naive bayes (with keeping stop words and converting emoji's to word) can accurately predict 83% of anti-vaccine cases and accurately predict 83% of pro-vaccine case. In addition, the model can detect 83% of total anti-vaccine cases and 83% total pro-vaccine.**"
   ]
  },
  {
   "cell_type": "markdown",
   "metadata": {
    "id": "a_tZHQwcQBHo"
   },
   "source": [
    "### Stochastic Gradient Descent classfier"
   ]
  },
  {
   "cell_type": "code",
   "execution_count": 140,
   "metadata": {
    "id": "fAPsBtM2wvkX"
   },
   "outputs": [],
   "source": [
    "from sklearn.linear_model import SGDClassifier"
   ]
  },
  {
   "cell_type": "markdown",
   "metadata": {
    "id": "AQcXSPmnwyYG"
   },
   "source": [
    "#### Emoji conversion and No stop word removal"
   ]
  },
  {
   "cell_type": "code",
   "execution_count": 141,
   "metadata": {
    "id": "cR8ep-sWw6Lr"
   },
   "outputs": [],
   "source": [
    "training = data.copy()\n",
    "training =emoji_convert(training)\n",
    "training['comment'] = training['comment'].str.replace('[{}]'.format(string.punctuation), ' ')   # Removing punctuations\n",
    "\n",
    "X = training['comment']\n",
    "Y = training['label']\n",
    "Xtrain, Xtest, Ytrain, Ytest = train_test_split(X, Y, test_size=0.3, random_state=0)\n",
    "Ytrain = Ytrain.astype('int')\n",
    "Ytest = Ytest.astype('int')"
   ]
  },
  {
   "cell_type": "code",
   "execution_count": 142,
   "metadata": {
    "colab": {
     "base_uri": "https://localhost:8080/"
    },
    "id": "38aoFpI1JjJN",
    "outputId": "ad79a815-0a94-4fa4-ba8c-8116febeae79"
   },
   "outputs": [
    {
     "data": {
      "text/plain": [
       "Pipeline(memory=None,\n",
       "         steps=[('tfidfvectorizer',\n",
       "                 TfidfVectorizer(analyzer='word', binary=False,\n",
       "                                 decode_error='strict',\n",
       "                                 dtype=<class 'numpy.float64'>,\n",
       "                                 encoding='utf-8', input='content',\n",
       "                                 lowercase=True, max_df=1.0, max_features=None,\n",
       "                                 min_df=1, ngram_range=(1, 2), norm='l2',\n",
       "                                 preprocessor=None, smooth_idf=True,\n",
       "                                 stop_words=None, strip_accents='unicode',\n",
       "                                 sublinear_tf=False,...\n",
       "                ('sgdclassifier',\n",
       "                 SGDClassifier(alpha=0.0001, average=False, class_weight=None,\n",
       "                               early_stopping=False, epsilon=0.1, eta0=0.0,\n",
       "                               fit_intercept=True, l1_ratio=0.15,\n",
       "                               learning_rate='optimal', loss='hinge',\n",
       "                               max_iter=1000, n_iter_no_change=5, n_jobs=None,\n",
       "                               penalty='l2', power_t=0.5, random_state=42,\n",
       "                               shuffle=True, tol=0.001, validation_fraction=0.1,\n",
       "                               verbose=0, warm_start=False))],\n",
       "         verbose=False)"
      ]
     },
     "execution_count": 142,
     "metadata": {
      "tags": []
     },
     "output_type": "execute_result"
    }
   ],
   "source": [
    "sgd_pipeline = make_pipeline( \n",
    "              TfidfVectorizer(stop_words=None, ngram_range=(1, 2), strip_accents='unicode'), \n",
    "              SGDClassifier(random_state=42)\n",
    "          )\n",
    "\n",
    "sgd_pipeline.fit(Xtrain, Ytrain)"
   ]
  },
  {
   "cell_type": "markdown",
   "metadata": {
    "id": "nUv_DeKKw_2k"
   },
   "source": [
    "##### Classification report"
   ]
  },
  {
   "cell_type": "code",
   "execution_count": 144,
   "metadata": {
    "colab": {
     "base_uri": "https://localhost:8080/"
    },
    "id": "8foqB_cZJzdT",
    "outputId": "1776ba99-ac27-4ac9-e86a-ae050f855b43"
   },
   "outputs": [
    {
     "name": "stdout",
     "output_type": "stream",
     "text": [
      "Stochastic gradient descent classifier with no stop words removed: \n",
      "              precision    recall  f1-score   support\n",
      "\n",
      "           0       0.80      0.85      0.82      1129\n",
      "           1       0.86      0.81      0.83      1277\n",
      "\n",
      "    accuracy                           0.83      2406\n",
      "   macro avg       0.83      0.83      0.83      2406\n",
      "weighted avg       0.83      0.83      0.83      2406\n",
      "\n"
     ]
    }
   ],
   "source": [
    "print(\"Stochastic gradient descent classifier with no stop words removed: \")\n",
    "print(classification_report(sgd_pipeline.predict(Xtest), Ytest))\n",
    "sgd_emoji = classification_report(sgd_pipeline.predict(Xtest), Ytest)"
   ]
  },
  {
   "cell_type": "code",
   "execution_count": 145,
   "metadata": {
    "colab": {
     "base_uri": "https://localhost:8080/"
    },
    "id": "XBqvSwF-4-62",
    "outputId": "33aee75e-365d-4281-cad7-6402df8e6e67"
   },
   "outputs": [
    {
     "name": "stdout",
     "output_type": "stream",
     "text": [
      "Stochastic gradient descent classifier with no stop words removed: \n",
      "              precision    recall  f1-score   support\n",
      "\n",
      "           0       0.80      0.85      0.82      1129\n",
      "           1       0.86      0.81      0.83      1277\n",
      "\n",
      "    accuracy                           0.83      2406\n",
      "   macro avg       0.83      0.83      0.83      2406\n",
      "weighted avg       0.83      0.83      0.83      2406\n",
      "\n"
     ]
    }
   ],
   "source": [
    "print(\"Stochastic gradient descent classifier with no stop words removed: \")\n",
    "print(classification_report(sgd_pipeline.predict(Xtest), Ytest))"
   ]
  },
  {
   "cell_type": "code",
   "execution_count": 146,
   "metadata": {
    "id": "Kse7nIdpMmlj"
   },
   "outputs": [],
   "source": [
    "sns.heatmap(cm, annot=True, annot_kws={\"size\": 10}, fmt='d',cmap=\"Blues\", ax = ax )\n",
    "ax.set_title('Confusion Matrix')\n",
    "plt.show()"
   ]
  },
  {
   "cell_type": "markdown",
   "metadata": {
    "id": "RpBggyGRx_hc"
   },
   "source": [
    "#### No Emoji conversion and stop word removal"
   ]
  },
  {
   "cell_type": "code",
   "execution_count": 147,
   "metadata": {
    "id": "4_pSWFMMx_hg"
   },
   "outputs": [],
   "source": [
    "training = data.copy()\n",
    "X = training['comment']\n",
    "Y = training['label']\n",
    "Xtrain, Xtest, Ytrain, Ytest = train_test_split(X, Y, test_size=0.3, random_state=0)\n",
    "Ytrain = Ytrain.astype('int')\n",
    "Ytest = Ytest.astype('int')"
   ]
  },
  {
   "cell_type": "code",
   "execution_count": 148,
   "metadata": {
    "colab": {
     "base_uri": "https://localhost:8080/"
    },
    "id": "9Ngggn9Nx_hi",
    "outputId": "e233654a-94a7-429f-adc7-d6a17b290ff3"
   },
   "outputs": [
    {
     "data": {
      "text/plain": [
       "Pipeline(memory=None,\n",
       "         steps=[('tfidfvectorizer',\n",
       "                 TfidfVectorizer(analyzer='word', binary=False,\n",
       "                                 decode_error='strict',\n",
       "                                 dtype=<class 'numpy.float64'>,\n",
       "                                 encoding='utf-8', input='content',\n",
       "                                 lowercase=True, max_df=1.0, max_features=None,\n",
       "                                 min_df=1, ngram_range=(1, 2), norm='l2',\n",
       "                                 preprocessor=None, smooth_idf=True,\n",
       "                                 stop_words={'a', 'about', 'above', 'after',\n",
       "                                             'again', 'all', 'am',...\n",
       "                ('sgdclassifier',\n",
       "                 SGDClassifier(alpha=0.0001, average=False, class_weight=None,\n",
       "                               early_stopping=False, epsilon=0.1, eta0=0.0,\n",
       "                               fit_intercept=True, l1_ratio=0.15,\n",
       "                               learning_rate='optimal', loss='hinge',\n",
       "                               max_iter=1000, n_iter_no_change=5, n_jobs=None,\n",
       "                               penalty='l2', power_t=0.5, random_state=42,\n",
       "                               shuffle=True, tol=0.001, validation_fraction=0.1,\n",
       "                               verbose=0, warm_start=False))],\n",
       "         verbose=False)"
      ]
     },
     "execution_count": 148,
     "metadata": {
      "tags": []
     },
     "output_type": "execute_result"
    }
   ],
   "source": [
    "sgd_pipeline = make_pipeline( \n",
    "              TfidfVectorizer(stop_words=nltk_stopwords, ngram_range=(1, 2)), \n",
    "              SGDClassifier(random_state=42)\n",
    "          )\n",
    "\n",
    "sgd_pipeline.fit(Xtrain, Ytrain)"
   ]
  },
  {
   "cell_type": "markdown",
   "metadata": {
    "id": "4qczTZ9-x_hk"
   },
   "source": [
    "##### Classification report"
   ]
  },
  {
   "cell_type": "code",
   "execution_count": 149,
   "metadata": {
    "colab": {
     "base_uri": "https://localhost:8080/"
    },
    "id": "lucvboaMx_hm",
    "outputId": "edcf99e5-512d-47db-f08e-24397adf459a"
   },
   "outputs": [
    {
     "name": "stdout",
     "output_type": "stream",
     "text": [
      "Stochastic gradient descent classifier with no stop words removed: \n",
      "              precision    recall  f1-score   support\n",
      "\n",
      "           0       0.80      0.82      0.81      1154\n",
      "           1       0.83      0.80      0.82      1252\n",
      "\n",
      "    accuracy                           0.81      2406\n",
      "   macro avg       0.81      0.81      0.81      2406\n",
      "weighted avg       0.81      0.81      0.81      2406\n",
      "\n"
     ]
    }
   ],
   "source": [
    "print(\"Stochastic gradient descent classifier with no stop words removed: \")\n",
    "print(classification_report(sgd_pipeline.predict(Xtest), Ytest))\n",
    "sgd_sw = classification_report(sgd_pipeline.predict(Xtest), Ytest)"
   ]
  },
  {
   "cell_type": "code",
   "execution_count": 150,
   "metadata": {
    "id": "rHwiZOgux_ho"
   },
   "outputs": [],
   "source": [
    "sns.heatmap(cm, annot=True, annot_kws={\"size\": 10}, fmt='d',cmap=\"Blues\", ax = ax )\n",
    "ax.set_title('Confusion Matrix')\n",
    "plt.show()"
   ]
  },
  {
   "cell_type": "markdown",
   "metadata": {
    "id": "MVhpO18GyOCN"
   },
   "source": [
    "#### Emoji conversion and stop word removal"
   ]
  },
  {
   "cell_type": "code",
   "execution_count": 151,
   "metadata": {
    "id": "TgvG1As3yOCQ"
   },
   "outputs": [],
   "source": [
    "training = data.copy()\n",
    "training =emoji_convert(training)\n",
    "training['comment'] = training['comment'].str.replace('[{}]'.format(string.punctuation), ' ')   # Removing punctuations\n",
    "X = training['comment']\n",
    "Y = training['label']\n",
    "Xtrain, Xtest, Ytrain, Ytest = train_test_split(X, Y, test_size=0.3, random_state=0)\n",
    "Ytrain = Ytrain.astype('int')\n",
    "Ytest = Ytest.astype('int')"
   ]
  },
  {
   "cell_type": "code",
   "execution_count": 152,
   "metadata": {
    "colab": {
     "base_uri": "https://localhost:8080/"
    },
    "id": "hEiZoyJNyOCR",
    "outputId": "52280489-73c2-4c70-e4b2-9faee600afaa"
   },
   "outputs": [
    {
     "data": {
      "text/plain": [
       "Pipeline(memory=None,\n",
       "         steps=[('tfidfvectorizer',\n",
       "                 TfidfVectorizer(analyzer='word', binary=False,\n",
       "                                 decode_error='strict',\n",
       "                                 dtype=<class 'numpy.float64'>,\n",
       "                                 encoding='utf-8', input='content',\n",
       "                                 lowercase=True, max_df=1.0, max_features=None,\n",
       "                                 min_df=1, ngram_range=(1, 2), norm='l2',\n",
       "                                 preprocessor=None, smooth_idf=True,\n",
       "                                 stop_words={'a', 'about', 'above', 'after',\n",
       "                                             'again', 'all', 'am',...\n",
       "                ('sgdclassifier',\n",
       "                 SGDClassifier(alpha=0.0001, average=False, class_weight=None,\n",
       "                               early_stopping=False, epsilon=0.1, eta0=0.0,\n",
       "                               fit_intercept=True, l1_ratio=0.15,\n",
       "                               learning_rate='optimal', loss='hinge',\n",
       "                               max_iter=1000, n_iter_no_change=5, n_jobs=None,\n",
       "                               penalty='l2', power_t=0.5, random_state=42,\n",
       "                               shuffle=True, tol=0.001, validation_fraction=0.1,\n",
       "                               verbose=0, warm_start=False))],\n",
       "         verbose=False)"
      ]
     },
     "execution_count": 152,
     "metadata": {
      "tags": []
     },
     "output_type": "execute_result"
    }
   ],
   "source": [
    "sgd_pipeline = make_pipeline( \n",
    "              TfidfVectorizer(stop_words=nltk_stopwords, ngram_range=(1, 2)), \n",
    "              SGDClassifier(random_state=42)\n",
    "          )\n",
    "\n",
    "sgd_pipeline.fit(Xtrain, Ytrain)"
   ]
  },
  {
   "cell_type": "markdown",
   "metadata": {
    "id": "eafMCdUKyOCT"
   },
   "source": [
    "##### Classification report"
   ]
  },
  {
   "cell_type": "code",
   "execution_count": 153,
   "metadata": {
    "colab": {
     "base_uri": "https://localhost:8080/"
    },
    "id": "KtGbs9CJyOCT",
    "outputId": "0c7f5f07-b578-4328-8b7c-48ff878eadc4"
   },
   "outputs": [
    {
     "name": "stdout",
     "output_type": "stream",
     "text": [
      "Stochastic Emoji gradient descent classifier with no stop words removed: \n",
      "              precision    recall  f1-score   support\n",
      "\n",
      "           0       0.80      0.82      0.81      1162\n",
      "           1       0.83      0.80      0.82      1244\n",
      "\n",
      "    accuracy                           0.81      2406\n",
      "   macro avg       0.81      0.81      0.81      2406\n",
      "weighted avg       0.81      0.81      0.81      2406\n",
      "\n"
     ]
    }
   ],
   "source": [
    "print(\"Stochastic Emoji gradient descent classifier with no stop words removed: \")\n",
    "print(classification_report(sgd_pipeline.predict(Xtest), Ytest))\n",
    "sgd_emoji_sw=classification_report(sgd_pipeline.predict(Xtest), Ytest)"
   ]
  },
  {
   "cell_type": "code",
   "execution_count": 154,
   "metadata": {
    "id": "W0bWX8royOCU"
   },
   "outputs": [],
   "source": [
    "sns.heatmap(cm, annot=True, annot_kws={\"size\": 10}, fmt='d',cmap=\"Blues\", ax = ax )\n",
    "ax.set_title('Confusion Matrix')\n",
    "plt.show()"
   ]
  },
  {
   "cell_type": "markdown",
   "metadata": {
    "id": "8oOdkaRiydaN"
   },
   "source": [
    "#### No Emoji conversion and No stop word removal"
   ]
  },
  {
   "cell_type": "code",
   "execution_count": 156,
   "metadata": {
    "id": "QN-kWI8xydaP"
   },
   "outputs": [],
   "source": [
    "training = data.copy()\n",
    "X = training['comment']\n",
    "Y = training['label']\n",
    "Xtrain, Xtest, Ytrain, Ytest = train_test_split(X, Y, test_size=0.3, random_state=0)\n",
    "Ytrain = Ytrain.astype('int')\n",
    "Ytest = Ytest.astype('int')"
   ]
  },
  {
   "cell_type": "code",
   "execution_count": 157,
   "metadata": {
    "colab": {
     "base_uri": "https://localhost:8080/"
    },
    "id": "k0bLZ4OxydaR",
    "outputId": "8457594d-30b2-49a0-9e4d-67ce552fa49d"
   },
   "outputs": [
    {
     "data": {
      "text/plain": [
       "Pipeline(memory=None,\n",
       "         steps=[('tfidfvectorizer',\n",
       "                 TfidfVectorizer(analyzer='word', binary=False,\n",
       "                                 decode_error='strict',\n",
       "                                 dtype=<class 'numpy.float64'>,\n",
       "                                 encoding='utf-8', input='content',\n",
       "                                 lowercase=True, max_df=1.0, max_features=None,\n",
       "                                 min_df=1, ngram_range=(1, 2), norm='l2',\n",
       "                                 preprocessor=None, smooth_idf=True,\n",
       "                                 stop_words=None, strip_accents=None,\n",
       "                                 sublinear_tf=False,\n",
       "                                 token...\n",
       "                ('sgdclassifier',\n",
       "                 SGDClassifier(alpha=0.0001, average=False, class_weight=None,\n",
       "                               early_stopping=False, epsilon=0.1, eta0=0.0,\n",
       "                               fit_intercept=True, l1_ratio=0.15,\n",
       "                               learning_rate='optimal', loss='hinge',\n",
       "                               max_iter=1000, n_iter_no_change=5, n_jobs=None,\n",
       "                               penalty='l2', power_t=0.5, random_state=42,\n",
       "                               shuffle=True, tol=0.001, validation_fraction=0.1,\n",
       "                               verbose=0, warm_start=False))],\n",
       "         verbose=False)"
      ]
     },
     "execution_count": 157,
     "metadata": {
      "tags": []
     },
     "output_type": "execute_result"
    }
   ],
   "source": [
    "sgd_pipeline = make_pipeline( \n",
    "              TfidfVectorizer(stop_words=None, ngram_range=(1, 2)), \n",
    "              SGDClassifier(random_state=42)\n",
    "          )\n",
    "\n",
    "sgd_pipeline.fit(Xtrain, Ytrain)"
   ]
  },
  {
   "cell_type": "markdown",
   "metadata": {
    "id": "BT_LeJFuydaS"
   },
   "source": [
    "##### Classification report"
   ]
  },
  {
   "cell_type": "code",
   "execution_count": 158,
   "metadata": {
    "colab": {
     "base_uri": "https://localhost:8080/"
    },
    "id": "6cLGyj-zydaT",
    "outputId": "4361ea20-80b6-4cac-d992-603eb097774b"
   },
   "outputs": [
    {
     "name": "stdout",
     "output_type": "stream",
     "text": [
      "Stochastic gradient descent classifier with no stop words removed: \n",
      "              precision    recall  f1-score   support\n",
      "\n",
      "           0       0.81      0.85      0.83      1138\n",
      "           1       0.86      0.82      0.84      1268\n",
      "\n",
      "    accuracy                           0.83      2406\n",
      "   macro avg       0.83      0.84      0.83      2406\n",
      "weighted avg       0.84      0.83      0.83      2406\n",
      "\n"
     ]
    }
   ],
   "source": [
    "print(\"Stochastic gradient descent classifier with no stop words removed: \")\n",
    "print(classification_report(sgd_pipeline.predict(Xtest), Ytest))\n",
    "sgd_no = classification_report(sgd_pipeline.predict(Xtest), Ytest)"
   ]
  },
  {
   "cell_type": "code",
   "execution_count": 160,
   "metadata": {
    "colab": {
     "base_uri": "https://localhost:8080/",
     "height": 281
    },
    "id": "R67CjypVydaU",
    "outputId": "356ec482-627f-4a98-f669-adbf95da15de"
   },
   "outputs": [
    {
     "data": {
      "image/png": "[encoded data removed]",
      "text/plain": [
       "<Figure size 432x288 with 2 Axes>"
      ]
     },
     "metadata": {
      "needs_background": "light",
      "tags": []
     },
     "output_type": "display_data"
    }
   ],
   "source": [
    "cm = confusion_matrix(sgd_pipeline.predict(Xtest), Ytest)\n",
    "ax = plt.axes()\n",
    "sns.heatmap(cm, annot=True, annot_kws={\"size\": 10}, fmt='d',cmap=\"Blues\", ax = ax )\n",
    "ax.set_title('Confusion Matrix')\n",
    "plt.show()"
   ]
  },
  {
   "cell_type": "markdown",
   "metadata": {
    "id": "X24_MZJlpfFj"
   },
   "source": [
    "## Observations made on Stochastic Gradient Descent Algorithm"
   ]
  },
  {
   "cell_type": "code",
   "execution_count": 161,
   "metadata": {
    "colab": {
     "base_uri": "https://localhost:8080/"
    },
    "id": "ArhJeJOkpht7",
    "outputId": "1262f7ef-5376-430c-cf47-2f8a5a5c694d"
   },
   "outputs": [
    {
     "name": "stdout",
     "output_type": "stream",
     "text": [
      "              precision    recall  f1-score   support\n",
      "\n",
      "           0       0.80      0.85      0.82      1129\n",
      "           1       0.86      0.81      0.83      1277\n",
      "\n",
      "    accuracy                           0.83      2406\n",
      "   macro avg       0.83      0.83      0.83      2406\n",
      "weighted avg       0.83      0.83      0.83      2406\n",
      "\n"
     ]
    }
   ],
   "source": [
    "#just converting emoji to words and no stop words removal\n",
    "print(sgd_emoji)"
   ]
  },
  {
   "cell_type": "code",
   "execution_count": 162,
   "metadata": {
    "colab": {
     "base_uri": "https://localhost:8080/"
    },
    "id": "8WmK8I_Apht9",
    "outputId": "80e47519-8704-4673-fe1d-d9e645e743f8"
   },
   "outputs": [
    {
     "name": "stdout",
     "output_type": "stream",
     "text": [
      "              precision    recall  f1-score   support\n",
      "\n",
      "           0       0.80      0.82      0.81      1162\n",
      "           1       0.83      0.80      0.82      1244\n",
      "\n",
      "    accuracy                           0.81      2406\n",
      "   macro avg       0.81      0.81      0.81      2406\n",
      "weighted avg       0.81      0.81      0.81      2406\n",
      "\n"
     ]
    }
   ],
   "source": [
    "#Converting emojis to words and removing stop words\n",
    "print(sgd_emoji_sw)"
   ]
  },
  {
   "cell_type": "code",
   "execution_count": 163,
   "metadata": {
    "colab": {
     "base_uri": "https://localhost:8080/"
    },
    "id": "u-YmfhS-pht9",
    "outputId": "69d8ac74-2d51-41db-cccd-169b85524998"
   },
   "outputs": [
    {
     "name": "stdout",
     "output_type": "stream",
     "text": [
      "              precision    recall  f1-score   support\n",
      "\n",
      "           0       0.81      0.85      0.83      1138\n",
      "           1       0.86      0.82      0.84      1268\n",
      "\n",
      "    accuracy                           0.83      2406\n",
      "   macro avg       0.83      0.84      0.83      2406\n",
      "weighted avg       0.84      0.83      0.83      2406\n",
      "\n"
     ]
    }
   ],
   "source": [
    "#Keeping emojis and stop word\n",
    "print(sgd_no)"
   ]
  },
  {
   "cell_type": "code",
   "execution_count": 164,
   "metadata": {
    "colab": {
     "base_uri": "https://localhost:8080/"
    },
    "id": "vNHVYamQpht9",
    "outputId": "0ff891a8-05d4-4c02-bc76-3c21def5c3d0"
   },
   "outputs": [
    {
     "name": "stdout",
     "output_type": "stream",
     "text": [
      "              precision    recall  f1-score   support\n",
      "\n",
      "           0       0.80      0.82      0.81      1154\n",
      "           1       0.83      0.80      0.82      1252\n",
      "\n",
      "    accuracy                           0.81      2406\n",
      "   macro avg       0.81      0.81      0.81      2406\n",
      "weighted avg       0.81      0.81      0.81      2406\n",
      "\n"
     ]
    }
   ],
   "source": [
    "#Just removing stop words\n",
    "print(sgd_sw)"
   ]
  },
  {
   "cell_type": "markdown",
   "metadata": {
    "id": "ITv1tUAyyqpJ"
   },
   "source": [
    "**By going through all the classification report for SGD, removing stop words reduces the quality of the model. So the SGD (without removing stop words and converting emoji's to word) can accurately predict 80% of anti-vaccine cases and accurately predict 86% of pro-vaccine case. In addition, the model can detect 85% of total anti-vaccine cases and 81% total pro-vaccine. By keeping emoji, we can get same performance but support for both cases in former model is more balanced.**"
   ]
  },
  {
   "cell_type": "markdown",
   "metadata": {
    "id": "Rzfryydiy7oD"
   },
   "source": [
    "## Verdict"
   ]
  },
  {
   "cell_type": "markdown",
   "metadata": {
    "id": "FBLBfD89zaTW"
   },
   "source": [
    "On comparing all four models, we can say that naive bayes performs equally well on both classes and better than other models. However, linear SVC can be used to identify pro-vaccine comments but performs little poorly for anti-vaccine comments. Therefore, it is better to use naive bayes to classify comments for pro or anti-vaccine comments."
   ]
  },
  {
   "cell_type": "markdown",
   "metadata": {
    "id": "XbO-HNiaJJk8"
   },
   "source": [
    "## Evaluating on testing set"
   ]
  },
  {
   "cell_type": "code",
   "execution_count": 166,
   "metadata": {
    "colab": {
     "base_uri": "https://localhost:8080/",
     "height": 72,
     "resources": {
      "http://localhost:8080/nbextensions/google.colab/files.js": {
       "data": "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",
       "headers": [
        [
         "content-type",
         "application/javascript"
        ]
       ],
       "ok": true,
       "status": 200,
       "status_text": ""
      }
     }
    },
    "id": "sw3uKiOaJJKi",
    "outputId": "b91e06a6-e420-4e85-89b7-dcb26de1fa28"
   },
   "outputs": [
    {
     "data": {
      "text/html": [
       "\n",
       "     <input type=\"file\" id=\"files-627ec213-754d-46eb-8f04-eebb49c7b241\" name=\"files[]\" multiple disabled\n",
       "        style=\"border:none\" />\n",
       "     <output id=\"result-627ec213-754d-46eb-8f04-eebb49c7b241\">\n",
       "      Upload widget is only available when the cell has been executed in the\n",
       "      current browser session. Please rerun this cell to enable.\n",
       "      </output>\n",
       "      <script src=\"/nbextensions/google.colab/files.js\"></script> "
      ],
      "text/plain": [
       "<IPython.core.display.HTML object>"
      ]
     },
     "metadata": {
      "tags": []
     },
     "output_type": "display_data"
    },
    {
     "name": "stdout",
     "output_type": "stream",
     "text": [
      "Saving a3_test.tsv to a3_test.tsv\n"
     ]
    }
   ],
   "source": [
    "test_uploaded = files.upload()"
   ]
  },
  {
   "cell_type": "code",
   "execution_count": 167,
   "metadata": {
    "id": "9jUaQ6YrJJK5"
   },
   "outputs": [],
   "source": [
    "# data = pd.read_table(\"a3_train_final.tsv\", header=None)\n",
    "test_data = pd.read_table(io.BytesIO(test_uploaded['a3_test.tsv']), header=None)"
   ]
  },
  {
   "cell_type": "code",
   "execution_count": 168,
   "metadata": {
    "id": "B-X-_nTfVCS_"
   },
   "outputs": [],
   "source": [
    "test_data.columns = ['label','comment']"
   ]
  },
  {
   "cell_type": "code",
   "execution_count": 169,
   "metadata": {
    "colab": {
     "base_uri": "https://localhost:8080/",
     "height": 204
    },
    "id": "zr6_nuW-Japj",
    "outputId": "89178483-35f4-42e8-f8be-39c62eac1b7a"
   },
   "outputs": [
    {
     "data": {
      "text/html": [
       "<div>\n",
       "<style scoped>\n",
       "    .dataframe tbody tr th:only-of-type {\n",
       "        vertical-align: middle;\n",
       "    }\n",
       "\n",
       "    .dataframe tbody tr th {\n",
       "        vertical-align: top;\n",
       "    }\n",
       "\n",
       "    .dataframe thead th {\n",
       "        text-align: right;\n",
       "    }\n",
       "</style>\n",
       "<table border=\"1\" class=\"dataframe\">\n",
       "  <thead>\n",
       "    <tr style=\"text-align: right;\">\n",
       "      <th></th>\n",
       "      <th>label</th>\n",
       "      <th>comment</th>\n",
       "    </tr>\n",
       "  </thead>\n",
       "  <tbody>\n",
       "    <tr>\n",
       "      <th>0</th>\n",
       "      <td>0</td>\n",
       "      <td>#Poison</td>\n",
       "    </tr>\n",
       "    <tr>\n",
       "      <th>1</th>\n",
       "      <td>1</td>\n",
       "      <td>13k idiots. Natural selection. Let the people ...</td>\n",
       "    </tr>\n",
       "    <tr>\n",
       "      <th>2</th>\n",
       "      <td>0</td>\n",
       "      <td>3 versions of poison</td>\n",
       "    </tr>\n",
       "    <tr>\n",
       "      <th>3</th>\n",
       "      <td>1</td>\n",
       "      <td>90% is hugely effective! They're not done with...</td>\n",
       "    </tr>\n",
       "    <tr>\n",
       "      <th>4</th>\n",
       "      <td>1</td>\n",
       "      <td>A vaccine created in a year is an amazing achi...</td>\n",
       "    </tr>\n",
       "  </tbody>\n",
       "</table>\n",
       "</div>"
      ],
      "text/plain": [
       "   label                                            comment\n",
       "0      0                                            #Poison\n",
       "1      1  13k idiots. Natural selection. Let the people ...\n",
       "2      0                               3 versions of poison\n",
       "3      1  90% is hugely effective! They're not done with...\n",
       "4      1  A vaccine created in a year is an amazing achi..."
      ]
     },
     "execution_count": 169,
     "metadata": {
      "tags": []
     },
     "output_type": "execute_result"
    }
   ],
   "source": [
    "test_data.head()"
   ]
  },
  {
   "cell_type": "code",
   "execution_count": 170,
   "metadata": {
    "colab": {
     "base_uri": "https://localhost:8080/"
    },
    "id": "b67XFgnJQcHv",
    "outputId": "61ac0d52-45a3-4050-93da-38b49a590165"
   },
   "outputs": [
    {
     "data": {
      "text/plain": [
       "0    198\n",
       "1    194\n",
       "Name: label, dtype: int64"
      ]
     },
     "execution_count": 170,
     "metadata": {
      "tags": []
     },
     "output_type": "execute_result"
    }
   ],
   "source": [
    "test_data['label'].value_counts()"
   ]
  },
  {
   "cell_type": "code",
   "execution_count": 171,
   "metadata": {
    "colab": {
     "base_uri": "https://localhost:8080/"
    },
    "id": "jekZm5UAUeaU",
    "outputId": "6ee1f47e-9ef3-4ea3-c97b-964e2f5ac315"
   },
   "outputs": [
    {
     "data": {
      "text/plain": [
       "392"
      ]
     },
     "execution_count": 171,
     "metadata": {
      "tags": []
     },
     "output_type": "execute_result"
    }
   ],
   "source": [
    "len(test_data)"
   ]
  },
  {
   "cell_type": "code",
   "execution_count": 172,
   "metadata": {
    "id": "E4NsUiCbJb0X"
   },
   "outputs": [],
   "source": [
    "Xtest_final = test_data['comment']\n",
    "Ytest_final = test_data['label']"
   ]
  },
  {
   "cell_type": "code",
   "execution_count": 173,
   "metadata": {
    "id": "3vLoplOQKZ82"
   },
   "outputs": [],
   "source": [
    "Ytest_final = Ytest_final.astype(int)"
   ]
  },
  {
   "cell_type": "markdown",
   "metadata": {
    "id": "EnxwjLoLWNS3"
   },
   "source": [
    "### Using Bernoulli's Naive Bayes"
   ]
  },
  {
   "cell_type": "code",
   "execution_count": 174,
   "metadata": {
    "id": "9KdtaedhQL8B"
   },
   "outputs": [],
   "source": [
    "Ypred = bnb_pipeline.predict(Xtest_final)"
   ]
  },
  {
   "cell_type": "code",
   "execution_count": 175,
   "metadata": {
    "colab": {
     "base_uri": "https://localhost:8080/"
    },
    "id": "v3kIxj-XQL8C",
    "outputId": "2b413959-2574-4edd-d50f-83ce6a5058a8"
   },
   "outputs": [
    {
     "name": "stdout",
     "output_type": "stream",
     "text": [
      "              precision    recall  f1-score   support\n",
      "\n",
      "           0       0.87      0.92      0.89       189\n",
      "           1       0.92      0.88      0.90       203\n",
      "\n",
      "    accuracy                           0.90       392\n",
      "   macro avg       0.90      0.90      0.90       392\n",
      "weighted avg       0.90      0.90      0.90       392\n",
      "\n"
     ]
    }
   ],
   "source": [
    "print(classification_report(Ypred, Ytest_final))"
   ]
  },
  {
   "cell_type": "code",
   "execution_count": 176,
   "metadata": {
    "colab": {
     "base_uri": "https://localhost:8080/",
     "height": 281
    },
    "id": "UW6te8Q7QL8E",
    "outputId": "b41f1b74-f081-4364-a780-47df9a18e095"
   },
   "outputs": [
    {
     "data": {
      "image/png": "[encoded data removed]",
      "text/plain": [
       "<Figure size 432x288 with 2 Axes>"
      ]
     },
     "metadata": {
      "needs_background": "light",
      "tags": []
     },
     "output_type": "display_data"
    }
   ],
   "source": [
    "cm = confusion_matrix(Ypred, Ytest_final)\n",
    "ax = plt.axes()\n",
    "sns.heatmap(cm, annot=True, annot_kws={\"size\": 10}, fmt='d',cmap=\"Blues\", ax = ax )\n",
    "ax.set_title('Confusion Matrix')\n",
    "plt.show()"
   ]
  },
  {
   "cell_type": "markdown",
   "metadata": {
    "id": "KvKhTjcc-Eyp"
   },
   "source": [
    "We can observe that the number of false positives and false negatives is very low. And based on the classification report, we can determine that the model performance is pretty good."
   ]
  },
  {
   "cell_type": "code",
   "execution_count": null,
   "metadata": {
    "id": "MgnxPivu9yOM"
   },
   "outputs": [],
   "source": [
    " "
   ]
  },
  {
   "cell_type": "markdown",
   "metadata": {
    "id": "DTAXtmWxWVre"
   },
   "source": [
    "### Using Linear SVC"
   ]
  },
  {
   "cell_type": "code",
   "execution_count": 177,
   "metadata": {
    "id": "k-drlzPeJfmo"
   },
   "outputs": [],
   "source": [
    "Ypred = lsvc_pipeline.predict(Xtest_final)"
   ]
  },
  {
   "cell_type": "code",
   "execution_count": 178,
   "metadata": {
    "colab": {
     "base_uri": "https://localhost:8080/"
    },
    "id": "OGsTQ9IEJw_2",
    "outputId": "86bdc61f-748e-430e-92ac-4b0f08b5952b"
   },
   "outputs": [
    {
     "name": "stdout",
     "output_type": "stream",
     "text": [
      "              precision    recall  f1-score   support\n",
      "\n",
      "           0       0.85      0.92      0.88       184\n",
      "           1       0.92      0.86      0.89       208\n",
      "\n",
      "    accuracy                           0.89       392\n",
      "   macro avg       0.89      0.89      0.89       392\n",
      "weighted avg       0.89      0.89      0.89       392\n",
      "\n"
     ]
    }
   ],
   "source": [
    "print(classification_report(Ypred, Ytest_final))"
   ]
  },
  {
   "cell_type": "code",
   "execution_count": 179,
   "metadata": {
    "colab": {
     "base_uri": "https://localhost:8080/",
     "height": 281
    },
    "id": "1F58UF7zKnYH",
    "outputId": "16171c7e-4b78-4ce0-94d5-774751b1bce5"
   },
   "outputs": [
    {
     "data": {
      "image/png": "[encoded data removed]",
      "text/plain": [
       "<Figure size 432x288 with 2 Axes>"
      ]
     },
     "metadata": {
      "needs_background": "light",
      "tags": []
     },
     "output_type": "display_data"
    }
   ],
   "source": [
    "cm = confusion_matrix(Ypred, Ytest_final)\n",
    "ax = plt.axes()\n",
    "sns.heatmap(cm, annot=True, annot_kws={\"size\": 10}, fmt='d',cmap=\"Blues\", ax = ax )\n",
    "ax.set_title('Confusion Matrix')\n",
    "plt.show()"
   ]
  },
  {
   "cell_type": "markdown",
   "metadata": {
    "id": "F6bKl9w0-csz"
   },
   "source": [
    "Though there is no much difference in the accuracy scores, but the scores achieved for each label is lesser that the values achieved in Naive Bayes."
   ]
  },
  {
   "cell_type": "code",
   "execution_count": null,
   "metadata": {
    "id": "0sgUSE7i-HLy"
   },
   "outputs": [],
   "source": []
  }
 ],
 "metadata": {
  "colab": {
   "collapsed_sections": [],
   "name": "AppliedML_Assignment_3.ipynb",
   "provenance": [],
   "toc_visible": true
  },
  "kernelspec": {
   "display_name": "Python 3",
   "language": "python",
   "name": "python3"
  },
  "language_info": {
   "codemirror_mode": {
    "name": "ipython",
    "version": 3
   },
   "file_extension": ".py",
   "mimetype": "text/x-python",
   "name": "python",
   "nbconvert_exporter": "python",
   "pygments_lexer": "ipython3",
   "version": "3.8.5"
  }
 },
 "nbformat": 4,
 "nbformat_minor": 1
}
